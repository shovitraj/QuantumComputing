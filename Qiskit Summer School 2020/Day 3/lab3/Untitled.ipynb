{
 "cells": [
  {
   "cell_type": "code",
   "execution_count": null,
   "metadata": {},
   "outputs": [],
   "source": [
    "if n == 0:\n",
    "        return given_circuit\n",
    "    n = n-1\n",
    "    given_circuit.h(n)\n",
    "    for measurement_qubits in range(n):\n",
    "        given_circuit.cu1((-1)*pi/2**(n-measurement_qubits), measurement_qubits, n)\n",
    "        \n",
    "        \n",
    "        QFT(n , approximation_degree = n,inverse=True)\n",
    "    if n == 0:\n",
    "        return given_circuit\n",
    "    n = n-1\n",
    "    given_circuit.h(n)\n",
    "    for measurement_qubits in range(n):\n",
    "        given_circuit.cu1((-1)*pi/2**(n-measurement_qubits), measurement_qubits, n)\n",
    "        \n",
    "        for i in range(n//2):\n",
    "        given_circuit.swap(i, n-i-1)\n",
    "    for j in range(n):\n",
    "        for measurement_qubits in range(j):\n",
    "            given_circuit.cu1(-pi/float(2**(j-measurement_qubits)), measurement_qubits, j)\n",
    "        given_circuit.h(j)\n",
    "        \n",
    "        \n",
    "        for i in range(n//2):\n",
    "        given_circuit.swap(i, n-i-1)\n",
    "        \n",
    "    for j in range(n):\n",
    "        for measurement_qubits in range(j):\n",
    "            given_circuit.h(j)\n",
    "            given_circuit.cu1(-pi/float(2**(j-measurement_qubits)), measurement_qubits, j)\n",
    "            "
   ]
  }
 ],
 "metadata": {
  "kernelspec": {
   "display_name": "Python 3",
   "language": "python",
   "name": "python3"
  },
  "language_info": {
   "codemirror_mode": {
    "name": "ipython",
    "version": 3
   },
   "file_extension": ".py",
   "mimetype": "text/x-python",
   "name": "python",
   "nbconvert_exporter": "python",
   "pygments_lexer": "ipython3",
   "version": "3.7.6"
  }
 },
 "nbformat": 4,
 "nbformat_minor": 4
}
