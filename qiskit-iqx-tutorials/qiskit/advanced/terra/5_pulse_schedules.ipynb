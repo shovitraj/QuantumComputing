{
 "cells": [
  {
   "attachments": {
    "qiskit_header.png": {
     "image/png": "[encoded data removed]"
    }
   },
   "cell_type": "markdown",
   "metadata": {},
   "source": [
    "![qiskit_header.png](attachment:qiskit_header.png)"
   ]
  },
  {
   "cell_type": "markdown",
   "metadata": {},
   "source": [
    "# Pulse Schedules\n",
    "\n",
    "The `pulse` module allows quantum experiments to be described at the level of pulses. For IBMQ devices these are microwave pulses applied to our superconducting qubits. \n",
    "\n",
    "The pulse `Schedule`, `Instruction`, `Command` and `Channel` are the main objects of the pulse module. \n",
    "\n",
    "\n",
    "\n",
    "All instances of these objects are **immutable**, which results in:\n",
    "- An API that is easier to reason about\n",
    "- Objects that may be reused many times as components of parent objects without the problem of underlying children object's guarantees changing"
   ]
  },
  {
   "cell_type": "code",
   "execution_count": 1,
   "metadata": {
    "ExecuteTime": {
     "end_time": "2019-08-21T09:37:07.612595Z",
     "start_time": "2019-08-21T09:37:07.282572Z"
    }
   },
   "outputs": [],
   "source": [
    "%matplotlib inline"
   ]
  },
  {
   "cell_type": "code",
   "execution_count": 2,
   "metadata": {
    "ExecuteTime": {
     "end_time": "2019-08-21T09:37:09.536033Z",
     "start_time": "2019-08-21T09:37:07.614539Z"
    }
   },
   "outputs": [],
   "source": [
    "import numpy as np\n",
    "from qiskit.pulse.channels import (DriveChannel, MeasureChannel, ControlChannel, \n",
    "                                   AcquireChannel, MemorySlot, SnapshotChannel)\n",
    "from qiskit.pulse.commands import (SamplePulse, FrameChange,\n",
    "                                   Acquire, Snapshot)\n",
    "from qiskit.pulse import pulse_lib, Schedule\n",
    "from qiskit.qobj.utils import MeasLevel, MeasReturnType"
   ]
  },
  {
   "cell_type": "markdown",
   "metadata": {},
   "source": [
    "# Channels\n",
    "\n",
    "`Channel`s correspond to physical channels on the backend. `Channel`s are combined with `Command`s to form an `Instruction`.\n",
    "\n",
    "As all channels correspond to physical channels on a device, they have an `index` which specifies their corresponding device channel.\n",
    "\n",
    "The fundamental channel types are: \n",
    "- `DriveChannel`: Qubit drive channel. The channel index corresponds to the system qubit index.\n",
    "- `MeasureChannel`: Qubit stimulus channel. The channel index corresponds to the system qubit index.\n",
    "- `ControlChannel`: Arbitrary control channel with action specified by Hamiltonian provided by device. The function of this channel must be extracted from the system Hamiltonian.\n",
    "- `AcquireChannel`: Qubit acquisition channel. The channel index corresponds to the system qubit index.\n",
    "- `MemorySlot`: Channel for storage of qubit results for measurement levels 0,1 and 2. The output of an `Acquire` of any qubit may be stored in any `MemorySlot`.\n",
    "- `RegisterSlot`: Channel for storage of qubit results for use with conditional commands. The output of an `Acquire` may be mapped to corresponding `RegisterSlot` with indexes specified by the `backend` configurations `register_map`.\n",
    "- `Snapshot`: Channel for snapshots (for use with simulators only).\n",
    "\n",
    "Channels may be declared using the following:"
   ]
  },
  {
   "cell_type": "code",
   "execution_count": 3,
   "metadata": {
    "ExecuteTime": {
     "end_time": "2019-08-21T09:37:09.542493Z",
     "start_time": "2019-08-21T09:37:09.538117Z"
    }
   },
   "outputs": [],
   "source": [
    "drive_ch0 = DriveChannel(0)\n",
    "meas_ch0 = MeasureChannel(0)\n",
    "control_ch0 = ControlChannel(0)\n",
    "acquire_ch0 = AcquireChannel(0)\n",
    "memory_slot0 = MemorySlot(0)\n",
    "\n",
    "drive_ch1 = DriveChannel(1)\n",
    "meas_ch1 = MeasureChannel(1)\n",
    "control_ch1 = ControlChannel(1)\n",
    "acquire_ch1 = AcquireChannel(1)\n",
    "memory_slot1 = MemorySlot(1)"
   ]
  },
  {
   "cell_type": "markdown",
   "metadata": {},
   "source": [
    "The index may be accessed."
   ]
  },
  {
   "cell_type": "code",
   "execution_count": 4,
   "metadata": {
    "ExecuteTime": {
     "end_time": "2019-08-21T09:37:09.547658Z",
     "start_time": "2019-08-21T09:37:09.544266Z"
    }
   },
   "outputs": [
    {
     "name": "stdout",
     "output_type": "stream",
     "text": [
      "0\n"
     ]
    }
   ],
   "source": [
    "print(drive_ch0.index)"
   ]
  },
  {
   "cell_type": "markdown",
   "metadata": {},
   "source": [
    "Channels can be checked for equivalence. This check is based on the channel index as every channel corresponds to a unique device channel."
   ]
  },
  {
   "cell_type": "code",
   "execution_count": 5,
   "metadata": {
    "ExecuteTime": {
     "end_time": "2019-08-21T09:37:09.554299Z",
     "start_time": "2019-08-21T09:37:09.549286Z"
    }
   },
   "outputs": [
    {
     "data": {
      "text/plain": [
       "True"
      ]
     },
     "execution_count": 5,
     "metadata": {},
     "output_type": "execute_result"
    }
   ],
   "source": [
    "drive_ch0 == drive_ch0"
   ]
  },
  {
   "cell_type": "code",
   "execution_count": 6,
   "metadata": {
    "ExecuteTime": {
     "end_time": "2019-08-21T09:37:09.560099Z",
     "start_time": "2019-08-21T09:37:09.555772Z"
    }
   },
   "outputs": [
    {
     "data": {
      "text/plain": [
       "True"
      ]
     },
     "execution_count": 6,
     "metadata": {},
     "output_type": "execute_result"
    }
   ],
   "source": [
    "drive_ch0 == DriveChannel(0)"
   ]
  },
  {
   "cell_type": "code",
   "execution_count": 7,
   "metadata": {
    "ExecuteTime": {
     "end_time": "2019-08-21T09:37:09.573283Z",
     "start_time": "2019-08-21T09:37:09.564364Z"
    }
   },
   "outputs": [
    {
     "data": {
      "text/plain": [
       "False"
      ]
     },
     "execution_count": 7,
     "metadata": {},
     "output_type": "execute_result"
    }
   ],
   "source": [
    "drive_ch0 == drive_ch1"
   ]
  },
  {
   "cell_type": "markdown",
   "metadata": {},
   "source": [
    "## Commands\n",
    "Pulse `Command`s specify commands to be completed on a device `Channel`. Once defined a `Command` is *immutable* and may be used many times on many different channels. Some `Command`s may only be applied to specific `Channel` types."
   ]
  },
  {
   "cell_type": "markdown",
   "metadata": {},
   "source": [
    "The fundamental commands for the `PulseChannel` are:\n",
    "- `SamplePulse`: A pulse specified as a complex array of samples to be output out on the corresponding channel. Each pulse sample corresponds to a timestep of unit `dt` on the backend.\n",
    "- `FrameChange`: A persistent framechange of the phase of all future pulses on the corresponding channel. `Framechange`s have zero duration on the backend."
   ]
  },
  {
   "cell_type": "code",
   "execution_count": 8,
   "metadata": {
    "ExecuteTime": {
     "end_time": "2019-08-21T09:37:09.581021Z",
     "start_time": "2019-08-21T09:37:09.576398Z"
    }
   },
   "outputs": [],
   "source": [
    "sine_pulse = SamplePulse(np.sin(np.linspace(0,4*np.pi, 20)), name='random_pulse')\n",
    "pi_fc = FrameChange(np.pi)"
   ]
  },
  {
   "cell_type": "markdown",
   "metadata": {},
   "source": [
    "The `name` for commands is optional if it is not supplied it will be automatically assigned."
   ]
  },
  {
   "cell_type": "markdown",
   "metadata": {},
   "source": [
    "`SamplePulse`s may be easily visualized"
   ]
  },
  {
   "cell_type": "code",
   "execution_count": 9,
   "metadata": {
    "ExecuteTime": {
     "end_time": "2019-08-21T09:37:09.745120Z",
     "start_time": "2019-08-21T09:37:09.583265Z"
    }
   },
   "outputs": [
    {
     "data": {
      "image/png": "[encoded data removed]",
      "text/plain": [
       "<Figure size 504x360 with 1 Axes>"
      ]
     },
     "execution_count": 9,
     "metadata": {},
     "output_type": "execute_result"
    }
   ],
   "source": [
    "sine_pulse.draw()"
   ]
  },
  {
   "cell_type": "markdown",
   "metadata": {},
   "source": [
    "The fundamental command for the `AcquireChannel` is:\n",
    "- `Acquire`: Specify the acquisition, kerneling and discrimination of measurement data on a set of acquisition channels"
   ]
  },
  {
   "cell_type": "code",
   "execution_count": 10,
   "metadata": {
    "ExecuteTime": {
     "end_time": "2019-08-21T09:37:09.749162Z",
     "start_time": "2019-08-21T09:37:09.746579Z"
    }
   },
   "outputs": [],
   "source": [
    "acquire = Acquire(100)"
   ]
  },
  {
   "cell_type": "markdown",
   "metadata": {},
   "source": [
    "The fundamental command for the `SnapshotChannel` is:\n",
    "- `Snapshot`: A snapshot of the simulated system."
   ]
  },
  {
   "cell_type": "code",
   "execution_count": 11,
   "metadata": {
    "ExecuteTime": {
     "end_time": "2019-08-21T09:37:09.753095Z",
     "start_time": "2019-08-21T09:37:09.750667Z"
    }
   },
   "outputs": [],
   "source": [
    "snapshot = Snapshot('test_snapshot', 'state')"
   ]
  },
  {
   "cell_type": "markdown",
   "metadata": {},
   "source": [
    "All `Command`s have a `duration` attribute. This may be fixed as for the case of the `FrameChange` having zero duration, or dependent on the command as is the case for the `SamplePulse` whose duration is defined by the number of samples in the pulse."
   ]
  },
  {
   "cell_type": "code",
   "execution_count": 12,
   "metadata": {
    "ExecuteTime": {
     "end_time": "2019-08-21T09:37:09.763294Z",
     "start_time": "2019-08-21T09:37:09.754606Z"
    }
   },
   "outputs": [
    {
     "data": {
      "text/plain": [
       "20"
      ]
     },
     "execution_count": 12,
     "metadata": {},
     "output_type": "execute_result"
    }
   ],
   "source": [
    "sine_pulse.duration"
   ]
  },
  {
   "cell_type": "code",
   "execution_count": 13,
   "metadata": {
    "ExecuteTime": {
     "end_time": "2019-08-21T09:37:09.772942Z",
     "start_time": "2019-08-21T09:37:09.767606Z"
    }
   },
   "outputs": [
    {
     "data": {
      "text/plain": [
       "0"
      ]
     },
     "execution_count": 13,
     "metadata": {},
     "output_type": "execute_result"
    }
   ],
   "source": [
    "pi_fc.duration"
   ]
  },
  {
   "cell_type": "markdown",
   "metadata": {},
   "source": [
    "## Instructions\n",
    "\n",
    "An `Instruction` may be created by applying a `Command` to a set of `Channel`s. Each `Command` type has a corresponding `Instruction` type. An `Instruction` is obtained from a `Command` by calling `to_instruction` or directly calling the `Command`. The `Channel`s to apply the command to are supplied as arguments to the above call."
   ]
  },
  {
   "cell_type": "code",
   "execution_count": 14,
   "metadata": {
    "ExecuteTime": {
     "end_time": "2019-08-21T09:37:09.777333Z",
     "start_time": "2019-08-21T09:37:09.774445Z"
    }
   },
   "outputs": [],
   "source": [
    "sine_instr = sine_pulse.to_instruction(drive_ch0)\n",
    "sine_instr_equivalent = sine_pulse(drive_ch0)"
   ]
  },
  {
   "cell_type": "markdown",
   "metadata": {},
   "source": [
    "Certain instructions such as the `AcquireInstruction` accept multiple channels. In this case `AcquireInstruction` accepts up to three lists of the same size. These are lists of `AcquireChannel`s, `MemorySlot`s and `RegisterSlot`s. This allows the acquisition, kerneling and discrimination of multiple qubits to be combined and the output of a given channel to be directed to the desired storage location."
   ]
  },
  {
   "cell_type": "code",
   "execution_count": 15,
   "metadata": {
    "ExecuteTime": {
     "end_time": "2019-08-21T09:37:09.782185Z",
     "start_time": "2019-08-21T09:37:09.779074Z"
    }
   },
   "outputs": [],
   "source": [
    "acquire_instr = acquire([acquire_ch0, acquire_ch1], [memory_slot0, memory_slot1])"
   ]
  },
  {
   "cell_type": "markdown",
   "metadata": {},
   "source": [
    "`Instructions` can also be plotted."
   ]
  },
  {
   "cell_type": "code",
   "execution_count": 16,
   "metadata": {
    "ExecuteTime": {
     "end_time": "2019-08-21T09:37:09.961068Z",
     "start_time": "2019-08-21T09:37:09.784515Z"
    }
   },
   "outputs": [
    {
     "data": {
      "image/png": "[encoded data removed]",
      "text/plain": [
       "<Figure size 720x864 with 1 Axes>"
      ]
     },
     "execution_count": 16,
     "metadata": {},
     "output_type": "execute_result"
    }
   ],
   "source": [
    "sine_instr.draw()"
   ]
  },
  {
   "cell_type": "code",
   "execution_count": 17,
   "metadata": {
    "ExecuteTime": {
     "end_time": "2019-08-21T09:37:10.200475Z",
     "start_time": "2019-08-21T09:37:09.962415Z"
    }
   },
   "outputs": [
    {
     "data": {
      "image/png": "[encoded data removed]",
      "text/plain": [
       "<Figure size 720x864 with 1 Axes>"
      ]
     },
     "execution_count": 17,
     "metadata": {},
     "output_type": "execute_result"
    }
   ],
   "source": [
    "acquire_instr.draw()"
   ]
  },
  {
   "cell_type": "markdown",
   "metadata": {},
   "source": [
    "`Instruction`s have a notion of time. Each instruction has a `start_time` and a set of `Timeslot`s that the instruction occupies. "
   ]
  },
  {
   "cell_type": "code",
   "execution_count": 18,
   "metadata": {
    "ExecuteTime": {
     "end_time": "2019-08-21T09:37:10.205764Z",
     "start_time": "2019-08-21T09:37:10.201949Z"
    }
   },
   "outputs": [
    {
     "data": {
      "text/plain": [
       "0"
      ]
     },
     "execution_count": 18,
     "metadata": {},
     "output_type": "execute_result"
    }
   ],
   "source": [
    "sine_instr.start_time"
   ]
  },
  {
   "cell_type": "code",
   "execution_count": 19,
   "metadata": {
    "ExecuteTime": {
     "end_time": "2019-08-21T09:37:10.211036Z",
     "start_time": "2019-08-21T09:37:10.207283Z"
    }
   },
   "outputs": [
    {
     "data": {
      "text/plain": [
       "20"
      ]
     },
     "execution_count": 19,
     "metadata": {},
     "output_type": "execute_result"
    }
   ],
   "source": [
    "sine_instr.duration"
   ]
  },
  {
   "cell_type": "markdown",
   "metadata": {},
   "source": [
    "`Timeslot`s are occupied on a channel-by-channel basis and may not overlap on a given channel. They are used to enforce time ordering within a pulse schedule."
   ]
  },
  {
   "cell_type": "code",
   "execution_count": 20,
   "metadata": {
    "ExecuteTime": {
     "end_time": "2019-08-21T09:37:10.216789Z",
     "start_time": "2019-08-21T09:37:10.212652Z"
    }
   },
   "outputs": [
    {
     "data": {
      "text/plain": [
       "False"
      ]
     },
     "execution_count": 20,
     "metadata": {},
     "output_type": "execute_result"
    }
   ],
   "source": [
    "sine_instr.timeslots.is_mergeable_with(sine_instr.timeslots)"
   ]
  },
  {
   "cell_type": "code",
   "execution_count": 21,
   "metadata": {
    "ExecuteTime": {
     "end_time": "2019-08-21T09:37:10.221917Z",
     "start_time": "2019-08-21T09:37:10.218087Z"
    }
   },
   "outputs": [
    {
     "data": {
      "text/plain": [
       "True"
      ]
     },
     "execution_count": 21,
     "metadata": {},
     "output_type": "execute_result"
    }
   ],
   "source": [
    "sine_instr.timeslots.is_mergeable_with(acquire_instr.timeslots)"
   ]
  },
  {
   "cell_type": "markdown",
   "metadata": {},
   "source": [
    "## Schedules\n",
    "Pulse schedules are made by scheduling `Instruction`s. The `Schedule` may be viewed as a tree-like container for `Instruction`s and `Schedule`s to be executed at specific times. In this way a simple `Schedule` may be treated as a building block for more complicated `Schedule`s. "
   ]
  },
  {
   "cell_type": "code",
   "execution_count": 22,
   "metadata": {
    "ExecuteTime": {
     "end_time": "2019-08-21T09:37:10.226387Z",
     "start_time": "2019-08-21T09:37:10.223619Z"
    }
   },
   "outputs": [],
   "source": [
    "sched = Schedule(name='test_schedule')"
   ]
  },
  {
   "cell_type": "code",
   "execution_count": 23,
   "metadata": {
    "ExecuteTime": {
     "end_time": "2019-08-21T09:37:10.241491Z",
     "start_time": "2019-08-21T09:37:10.235778Z"
    }
   },
   "outputs": [],
   "source": [
    "pulse_sched = Schedule(sine_instr, name='sine_schedule')\n",
    "acquire_sched = Schedule((10, acquire_instr), name='acquire_schedule')"
   ]
  },
  {
   "cell_type": "markdown",
   "metadata": {},
   "source": [
    "There are three basic methods for manipulating `Schedule`s. These methods all return a new `Schedule` which modifies the attributes of the underlying children `Schedule`s or `Instruction`s.\n",
    "\n",
    "1. `union`: Joins the supplied schedules and instructions, merging their timeslots together. If timeslots overlap an error will be raised.\n",
    "2. `shift`: Shifts the initial time of the `Schedule` or `Instruction` by an amount.\n",
    "3. `append`: Append the supplied schedule or instruction at the last time of the parent schedule over the set of all channels shared by the parent and child schedules.\n",
    "\n",
    "Note that there is no requirement that a parent `Schedule` must contain all of the `Channel`s of a child `Schedule` or `Instruction` to which it is being joined with. The set of `Channel`s present in the `Schedule` will automatically be extended."
   ]
  },
  {
   "cell_type": "code",
   "execution_count": 24,
   "metadata": {
    "ExecuteTime": {
     "end_time": "2019-08-21T09:37:10.247069Z",
     "start_time": "2019-08-21T09:37:10.244426Z"
    }
   },
   "outputs": [],
   "source": [
    "union_sched = pulse_sched.union(acquire_sched)"
   ]
  },
  {
   "cell_type": "code",
   "execution_count": 25,
   "metadata": {
    "ExecuteTime": {
     "end_time": "2019-08-21T09:37:10.446395Z",
     "start_time": "2019-08-21T09:37:10.251460Z"
    }
   },
   "outputs": [
    {
     "data": {
      "image/png": "[encoded data removed]",
      "text/plain": [
       "<Figure size 720x864 with 1 Axes>"
      ]
     },
     "execution_count": 25,
     "metadata": {},
     "output_type": "execute_result"
    }
   ],
   "source": [
    "union_sched.draw()"
   ]
  },
  {
   "cell_type": "code",
   "execution_count": 26,
   "metadata": {
    "ExecuteTime": {
     "end_time": "2019-08-21T09:37:10.605486Z",
     "start_time": "2019-08-21T09:37:10.447772Z"
    }
   },
   "outputs": [
    {
     "data": {
      "image/png": "[encoded data removed]",
      "text/plain": [
       "<Figure size 720x864 with 1 Axes>"
      ]
     },
     "execution_count": 26,
     "metadata": {},
     "output_type": "execute_result"
    }
   ],
   "source": [
    "shifted_pulse_sched = pulse_sched.shift(10)\n",
    "shifted_pulse_sched.draw()"
   ]
  },
  {
   "cell_type": "code",
   "execution_count": 27,
   "metadata": {
    "ExecuteTime": {
     "end_time": "2019-08-21T09:37:10.788721Z",
     "start_time": "2019-08-21T09:37:10.607328Z"
    }
   },
   "outputs": [
    {
     "data": {
      "image/png": "[encoded data removed]",
      "text/plain": [
       "<Figure size 720x864 with 1 Axes>"
      ]
     },
     "execution_count": 27,
     "metadata": {},
     "output_type": "execute_result"
    }
   ],
   "source": [
    "pulse_sched.append(acquire_sched).draw()"
   ]
  },
  {
   "cell_type": "markdown",
   "metadata": {},
   "source": [
    "For ease of use it is also possible to build schedules directly from `Instruction`s. Note that a `Schedule` will still be returned."
   ]
  },
  {
   "cell_type": "code",
   "execution_count": 28,
   "metadata": {
    "ExecuteTime": {
     "end_time": "2019-08-21T09:37:10.963001Z",
     "start_time": "2019-08-21T09:37:10.790141Z"
    }
   },
   "outputs": [
    {
     "data": {
      "image/png": "[encoded data removed]",
      "text/plain": [
       "<Figure size 720x864 with 1 Axes>"
      ]
     },
     "execution_count": 28,
     "metadata": {},
     "output_type": "execute_result"
    }
   ],
   "source": [
    "combined_schedule = sine_instr.append(acquire_instr)\n",
    "combined_schedule.draw()"
   ]
  },
  {
   "cell_type": "markdown",
   "metadata": {},
   "source": [
    "### Syntactic Sugar\n",
    "\n",
    "To make it easier to build pulse schedules there exists a **syntactic sugar** for operating on schedules\n",
    "\n",
    "1. `a.union(b)` $\\equiv$ `a | b`\n",
    "2. `a.append(b)` $\\equiv$ `a + b`\n",
    "3. `a.shift(time)` $\\equiv$ `a << time`\n",
    "\n",
    "As the `Schedule` for the above methods emulate numeric types this enables a simple way of construction composite pulse schedules.\n",
    "\n",
    "Below we construct two equivalent schedules one with the syntactic sugar and one without."
   ]
  },
  {
   "cell_type": "code",
   "execution_count": 29,
   "metadata": {
    "ExecuteTime": {
     "end_time": "2019-08-21T09:37:11.135023Z",
     "start_time": "2019-08-21T09:37:10.964433Z"
    }
   },
   "outputs": [
    {
     "data": {
      "image/png": "[encoded data removed]",
      "text/plain": [
       "<Figure size 720x864 with 1 Axes>"
      ]
     },
     "execution_count": 29,
     "metadata": {},
     "output_type": "execute_result"
    }
   ],
   "source": [
    "sched = Schedule(name='verbose')\n",
    "sched = sched.union(sine_instr.shift(10))\n",
    "sched = sched.append(acquire_instr.append(sine_instr))\n",
    "sched.draw()"
   ]
  },
  {
   "cell_type": "code",
   "execution_count": 30,
   "metadata": {
    "ExecuteTime": {
     "end_time": "2019-08-21T09:37:11.310890Z",
     "start_time": "2019-08-21T09:37:11.137068Z"
    }
   },
   "outputs": [
    {
     "data": {
      "image/png": "[encoded data removed]",
      "text/plain": [
       "<Figure size 720x864 with 1 Axes>"
      ]
     },
     "execution_count": 30,
     "metadata": {},
     "output_type": "execute_result"
    }
   ],
   "source": [
    "sched = Schedule(name='syntactic_sugar')\n",
    "sched |= sine_instr << 10\n",
    "sched += acquire_instr + sine_instr\n",
    "sched.draw()"
   ]
  },
  {
   "cell_type": "markdown",
   "metadata": {},
   "source": [
    "## Outcomes of Pulse Schedules"
   ]
  },
  {
   "cell_type": "code",
   "execution_count": null,
   "metadata": {},
   "outputs": [],
   "source": [
    "MeasReturnType."
   ]
  },
  {
   "cell_type": "markdown",
   "metadata": {},
   "source": [
    "There are three (integer) measurement pulse levels (`meas_levels`) for pulse outputs which are triggered by `Acquire` commands and stored into the desired `MemorySlots`:\n",
    "- Measurement level 0 (`MeasLevel.RAW`): Return the sampled measurement output from the `AcquireChannel` after mixing down with the measurement stimulus LO. There will be a large amount of data associated with measurement level.\n",
    "- Measurement level 1 (`MeasLevel.KERNELED`): Return the data after the application of a user specified (or default if not specified) kernel.\n",
    "- Measurement level 2 (`MeasLevel.CLASSIFIED`): Return the discriminated counts after the application of a measurement kernel and discriminator. This corresponds to the measurement output of a quantum circuit. See the [circuits notebook](../../fundamentals/4_quantum_circuit_properties.ipynb) for more information.\n",
    "\n",
    "For measurement level 0 and 1 there is another supported measurement result post-processing modifier, `meas_return`:\n",
    "- `single` (`MeasReturnType.SINGLE`): Return the results for each individual shot.\n",
    "- `avg` (`MeasReturnType.AVERAGE`): Average the results over all shots.\n",
    "\n",
    "<div class=\"alert alert-block alert-info\">\n",
    "<b>Note:</b> All modes may not be supported on all backends due to different system constraints.\n",
    "</div>"
   ]
  },
  {
   "cell_type": "markdown",
   "metadata": {},
   "source": [
    "<div class=\"alert alert-block alert-info\">\n",
    "<b>Note:</b> Methods below are not executed as the pulse simulator has not yet been released for Qiskit.\n",
    "</div>"
   ]
  },
  {
   "cell_type": "markdown",
   "metadata": {},
   "source": [
    "Schedules may be executed in a similar manner to schedules "
   ]
  },
  {
   "cell_type": "markdown",
   "metadata": {},
   "source": [
    "```python\n",
    "job = execute(sched, meas_level=MeasLevel.CLASSIFIED, meas_return=MeasReturnType.AVERAGE)\n",
    "result = job.result()\n",
    "```"
   ]
  },
  {
   "cell_type": "markdown",
   "metadata": {},
   "source": [
    "For measurement levels 0 and 1 results may be extracted from the result object with"
   ]
  },
  {
   "cell_type": "markdown",
   "metadata": {},
   "source": [
    "```python \n",
    "result.get_memory(schedule)\n",
    "```"
   ]
  },
  {
   "cell_type": "markdown",
   "metadata": {},
   "source": [
    "For measurement level 2 results are extracted in the same way as for circuit results. To get individual shot counts,"
   ]
  },
  {
   "cell_type": "markdown",
   "metadata": {},
   "source": [
    "```python\n",
    "result.get_memory(schedule)\n",
    "```"
   ]
  },
  {
   "cell_type": "markdown",
   "metadata": {},
   "source": [
    "and for binned counts"
   ]
  },
  {
   "cell_type": "markdown",
   "metadata": {},
   "source": [
    "```python\n",
    "job = execute(sched, meas_level=2)\n",
    "result = job.result()\n",
    "result.get_counts(schedule)\n",
    "```"
   ]
  },
  {
   "cell_type": "code",
   "execution_count": null,
   "metadata": {
    "ExecuteTime": {
     "end_time": "2019-08-21T09:37:30.807701Z",
     "start_time": "2019-08-21T09:37:30.798864Z"
    }
   },
   "outputs": [],
   "source": [
    "import qiskit.tools.jupyter\n",
    "%qiskit_version_table\n",
    "%qiskit_copyright"
   ]
  }
 ],
 "metadata": {
  "kernelspec": {
   "display_name": "Python 3",
   "language": "python",
   "name": "python3"
  },
  "language_info": {
   "codemirror_mode": {
    "name": "ipython",
    "version": 3
   },
   "file_extension": ".py",
   "mimetype": "text/x-python",
   "name": "python",
   "nbconvert_exporter": "python",
   "pygments_lexer": "ipython3",
   "version": "3.7.5"
  },
  "varInspector": {
   "cols": {
    "lenName": 16,
    "lenType": 16,
    "lenVar": 40
   },
   "kernels_config": {
    "python": {
     "delete_cmd_postfix": "",
     "delete_cmd_prefix": "del ",
     "library": "var_list.py",
     "varRefreshCmd": "print(var_dic_list())"
    },
    "r": {
     "delete_cmd_postfix": ") ",
     "delete_cmd_prefix": "rm(",
     "library": "var_list.r",
     "varRefreshCmd": "cat(var_dic_list()) "
    }
   },
   "types_to_exclude": [
    "module",
    "function",
    "builtin_function_or_method",
    "instance",
    "_Feature"
   ],
   "window_display": false
  }
 },
 "nbformat": 4,
 "nbformat_minor": 2
}
