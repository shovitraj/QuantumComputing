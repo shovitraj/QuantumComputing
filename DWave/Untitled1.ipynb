{
 "cells": [
  {
   "cell_type": "code",
   "execution_count": 1,
   "metadata": {},
   "outputs": [
    {
     "name": "stdout",
     "output_type": "stream",
     "text": [
      "Requirement already satisfied: dwave-ocean-sdk in /Users/shovitraj/opt/anaconda3/lib/python3.7/site-packages (2.1.1)\n",
      "Requirement already satisfied: dimod==0.9.1 in /Users/shovitraj/opt/anaconda3/lib/python3.7/site-packages (from dwave-ocean-sdk) (0.9.1)\n",
      "Requirement already satisfied: penaltymodel-lp==0.1.3 in /Users/shovitraj/opt/anaconda3/lib/python3.7/site-packages (from dwave-ocean-sdk) (0.1.3)\n",
      "Requirement already satisfied: dwave-cloud-client==0.7.2 in /Users/shovitraj/opt/anaconda3/lib/python3.7/site-packages (from dwave-ocean-sdk) (0.7.2)\n",
      "Requirement already satisfied: dwave-qbsolv==0.3.0 in /Users/shovitraj/opt/anaconda3/lib/python3.7/site-packages (from dwave-ocean-sdk) (0.3.0)\n",
      "Requirement already satisfied: penaltymodel==0.16.3 in /Users/shovitraj/opt/anaconda3/lib/python3.7/site-packages (from dwave-ocean-sdk) (0.16.3)\n",
      "Requirement already satisfied: dwave-neal==0.5.4 in /Users/shovitraj/opt/anaconda3/lib/python3.7/site-packages (from dwave-ocean-sdk) (0.5.4)\n",
      "Requirement already satisfied: dwave-tabu==0.2.2 in /Users/shovitraj/opt/anaconda3/lib/python3.7/site-packages (from dwave-ocean-sdk) (0.2.2)\n",
      "Requirement already satisfied: penaltymodel-mip==0.2.3; platform_machine == \"x86_64\" or platform_machine == \"amd64\" or platform_machine == \"AMD64\" in /Users/shovitraj/opt/anaconda3/lib/python3.7/site-packages (from dwave-ocean-sdk) (0.2.3)\n",
      "Requirement already satisfied: dwave-system==0.9.4 in /Users/shovitraj/opt/anaconda3/lib/python3.7/site-packages (from dwave-ocean-sdk) (0.9.4)\n",
      "Requirement already satisfied: minorminer==0.1.9 in /Users/shovitraj/opt/anaconda3/lib/python3.7/site-packages (from dwave-ocean-sdk) (0.1.9)\n",
      "Requirement already satisfied: penaltymodel-cache==0.4.1 in /Users/shovitraj/opt/anaconda3/lib/python3.7/site-packages (from dwave-ocean-sdk) (0.4.1)\n",
      "Requirement already satisfied: dwave-networkx==0.8.6 in /Users/shovitraj/opt/anaconda3/lib/python3.7/site-packages (from dwave-ocean-sdk) (0.8.6)\n",
      "Requirement already satisfied: dwave-inspector==0.1.5 in /Users/shovitraj/opt/anaconda3/lib/python3.7/site-packages (from dwave-ocean-sdk) (0.1.5)\n",
      "Requirement already satisfied: dwavebinarycsp==0.1.2 in /Users/shovitraj/opt/anaconda3/lib/python3.7/site-packages (from dwave-ocean-sdk) (0.1.2)\n",
      "Requirement already satisfied: dwave-hybrid==0.4.3 in /Users/shovitraj/opt/anaconda3/lib/python3.7/site-packages (from dwave-ocean-sdk) (0.4.3)\n",
      "Requirement already satisfied: pyqubo>=0.3.0 in /Users/shovitraj/opt/anaconda3/lib/python3.7/site-packages (from dwave-ocean-sdk) (0.4.0)\n",
      "Requirement already satisfied: six<2.0.0,>=1.10.0 in /Users/shovitraj/opt/anaconda3/lib/python3.7/site-packages (from dimod==0.9.1->dwave-ocean-sdk) (1.12.0)\n",
      "Requirement already satisfied: numpy<2.0.0,>=1.16.0 in /Users/shovitraj/opt/anaconda3/lib/python3.7/site-packages (from dimod==0.9.1->dwave-ocean-sdk) (1.17.2)\n",
      "Requirement already satisfied: scipy<2.0.0,>=0.15.0 in /Users/shovitraj/opt/anaconda3/lib/python3.7/site-packages (from penaltymodel-lp==0.1.3->dwave-ocean-sdk) (1.3.1)\n",
      "Requirement already satisfied: homebase>=1.0 in /Users/shovitraj/opt/anaconda3/lib/python3.7/site-packages (from dwave-cloud-client==0.7.2->dwave-ocean-sdk) (1.0.1)\n",
      "Requirement already satisfied: python-dateutil>=2.7 in /Users/shovitraj/opt/anaconda3/lib/python3.7/site-packages (from dwave-cloud-client==0.7.2->dwave-ocean-sdk) (2.8.0)\n",
      "Requirement already satisfied: click>=7.0 in /Users/shovitraj/opt/anaconda3/lib/python3.7/site-packages (from dwave-cloud-client==0.7.2->dwave-ocean-sdk) (7.0)\n",
      "Requirement already satisfied: plucky>=0.4.3 in /Users/shovitraj/opt/anaconda3/lib/python3.7/site-packages (from dwave-cloud-client==0.7.2->dwave-ocean-sdk) (0.4.3)\n",
      "Requirement already satisfied: requests[socks]>=2.18 in /Users/shovitraj/opt/anaconda3/lib/python3.7/site-packages (from dwave-cloud-client==0.7.2->dwave-ocean-sdk) (2.22.0)\n",
      "Requirement already satisfied: networkx<3.0,>=2.0 in /Users/shovitraj/opt/anaconda3/lib/python3.7/site-packages (from penaltymodel==0.16.3->dwave-ocean-sdk) (2.3)\n",
      "Requirement already satisfied: ortools<8.0.0,>=6.6.4659 in /Users/shovitraj/opt/anaconda3/lib/python3.7/site-packages (from penaltymodel-mip==0.2.3; platform_machine == \"x86_64\" or platform_machine == \"amd64\" or platform_machine == \"AMD64\"->dwave-ocean-sdk) (7.6.7691)\n",
      "Requirement already satisfied: decorator<5.0.0,>=4.1.0 in /Users/shovitraj/opt/anaconda3/lib/python3.7/site-packages (from dwave-networkx==0.8.6->dwave-ocean-sdk) (4.4.0)\n",
      "Requirement already satisfied: Flask>=1.1.1 in /Users/shovitraj/opt/anaconda3/lib/python3.7/site-packages (from dwave-inspector==0.1.5->dwave-ocean-sdk) (1.1.1)\n",
      "Requirement already satisfied: certifi>=2017.4.17 in /Users/shovitraj/opt/anaconda3/lib/python3.7/site-packages (from requests[socks]>=2.18->dwave-cloud-client==0.7.2->dwave-ocean-sdk) (2019.9.11)\n",
      "Requirement already satisfied: chardet<3.1.0,>=3.0.2 in /Users/shovitraj/opt/anaconda3/lib/python3.7/site-packages (from requests[socks]>=2.18->dwave-cloud-client==0.7.2->dwave-ocean-sdk) (3.0.4)\n",
      "Requirement already satisfied: idna<2.9,>=2.5 in /Users/shovitraj/opt/anaconda3/lib/python3.7/site-packages (from requests[socks]>=2.18->dwave-cloud-client==0.7.2->dwave-ocean-sdk) (2.8)\n",
      "Requirement already satisfied: urllib3!=1.25.0,!=1.25.1,<1.26,>=1.21.1 in /Users/shovitraj/opt/anaconda3/lib/python3.7/site-packages (from requests[socks]>=2.18->dwave-cloud-client==0.7.2->dwave-ocean-sdk) (1.24.2)\n",
      "Requirement already satisfied: PySocks!=1.5.7,>=1.5.6; extra == \"socks\" in /Users/shovitraj/opt/anaconda3/lib/python3.7/site-packages (from requests[socks]>=2.18->dwave-cloud-client==0.7.2->dwave-ocean-sdk) (1.7.1)\n",
      "Requirement already satisfied: protobuf>=3.11.2 in /Users/shovitraj/opt/anaconda3/lib/python3.7/site-packages (from ortools<8.0.0,>=6.6.4659->penaltymodel-mip==0.2.3; platform_machine == \"x86_64\" or platform_machine == \"amd64\" or platform_machine == \"AMD64\"->dwave-ocean-sdk) (3.12.1)\n",
      "Requirement already satisfied: Jinja2>=2.10.1 in /Users/shovitraj/opt/anaconda3/lib/python3.7/site-packages (from Flask>=1.1.1->dwave-inspector==0.1.5->dwave-ocean-sdk) (2.10.3)\n",
      "Requirement already satisfied: Werkzeug>=0.15 in /Users/shovitraj/opt/anaconda3/lib/python3.7/site-packages (from Flask>=1.1.1->dwave-inspector==0.1.5->dwave-ocean-sdk) (0.16.0)\n",
      "Requirement already satisfied: itsdangerous>=0.24 in /Users/shovitraj/opt/anaconda3/lib/python3.7/site-packages (from Flask>=1.1.1->dwave-inspector==0.1.5->dwave-ocean-sdk) (1.1.0)\n",
      "Requirement already satisfied: setuptools in /Users/shovitraj/opt/anaconda3/lib/python3.7/site-packages (from protobuf>=3.11.2->ortools<8.0.0,>=6.6.4659->penaltymodel-mip==0.2.3; platform_machine == \"x86_64\" or platform_machine == \"amd64\" or platform_machine == \"AMD64\"->dwave-ocean-sdk) (41.4.0)\n",
      "Requirement already satisfied: MarkupSafe>=0.23 in /Users/shovitraj/opt/anaconda3/lib/python3.7/site-packages (from Jinja2>=2.10.1->Flask>=1.1.1->dwave-inspector==0.1.5->dwave-ocean-sdk) (1.1.1)\n",
      "Note: you may need to restart the kernel to use updated packages.\n"
     ]
    }
   ],
   "source": [
    "pip install dwave-ocean-sdk"
   ]
  },
  {
   "cell_type": "code",
   "execution_count": 1,
   "metadata": {},
   "outputs": [
    {
     "ename": "SyntaxError",
     "evalue": "invalid syntax (<ipython-input-1-9fd5bd0d3cae>, line 1)",
     "output_type": "error",
     "traceback": [
      "\u001b[0;36m  File \u001b[0;32m\"<ipython-input-1-9fd5bd0d3cae>\"\u001b[0;36m, line \u001b[0;32m1\u001b[0m\n\u001b[0;31m    dwave setup\u001b[0m\n\u001b[0m              ^\u001b[0m\n\u001b[0;31mSyntaxError\u001b[0m\u001b[0;31m:\u001b[0m invalid syntax\n"
     ]
    }
   ],
   "source": [
    "dwave setup"
   ]
  },
  {
   "cell_type": "code",
   "execution_count": null,
   "metadata": {},
   "outputs": [],
   "source": []
  },
  {
   "cell_type": "code",
   "execution_count": 2,
   "metadata": {},
   "outputs": [],
   "source": [
    "import dimod"
   ]
  },
  {
   "cell_type": "code",
   "execution_count": 3,
   "metadata": {},
   "outputs": [],
   "source": [
    "linear = {1: 1, 2: 2, 3: 3, 4: 4}\n",
    "quadratic = {(1, 2): 12, (1, 3): 13, (1, 4): 14,\n",
    "             (2, 3): 23, (2, 4): 24,\n",
    "             (3, 4): 34}"
   ]
  },
  {
   "cell_type": "code",
   "execution_count": 4,
   "metadata": {},
   "outputs": [
    {
     "data": {
      "text/plain": [
       "4"
      ]
     },
     "execution_count": 4,
     "metadata": {},
     "output_type": "execute_result"
    }
   ],
   "source": [
    "bqm_k4 = dimod.BinaryQuadraticModel(linear, quadratic, 0.5, dimod.SPIN)\n",
    "bqm_k4.vartype\n",
    "\n",
    "len(bqm_k4.linear)\n"
   ]
  },
  {
   "cell_type": "code",
   "execution_count": null,
   "metadata": {},
   "outputs": [],
   "source": []
  }
 ],
 "metadata": {
  "kernelspec": {
   "display_name": "Python 3",
   "language": "python",
   "name": "python3"
  },
  "language_info": {
   "codemirror_mode": {
    "name": "ipython",
    "version": 3
   },
   "file_extension": ".py",
   "mimetype": "text/x-python",
   "name": "python",
   "nbconvert_exporter": "python",
   "pygments_lexer": "ipython3",
   "version": "3.7.4"
  }
 },
 "nbformat": 4,
 "nbformat_minor": 2
}
