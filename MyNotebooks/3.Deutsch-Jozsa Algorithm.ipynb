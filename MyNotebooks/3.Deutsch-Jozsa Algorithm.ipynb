{
 "cells": [
  {
   "cell_type": "code",
   "execution_count": 1,
   "metadata": {},
   "outputs": [],
   "source": [
    "import numpy as np\n",
    "from qiskit import QuantumCircuit, execute, Aer, IBMQ, QuantumRegister, ClassicalRegister\n",
    "from qiskit import IBMQ, BasicAer\n",
    "from IPython.core.display import Image, display\n"
   ]
  },
  {
   "cell_type": "markdown",
   "metadata": {},
   "source": [
    "<h1 align=\"center\">\n",
    "<span style=\"color: blue;\">$\\textbf{Quantum Oracles}$</center>\n",
    "</h1>"
   ]
  },
  {
   "cell_type": "markdown",
   "metadata": {},
   "source": [
    "Quantum Oracle is a black box used extensively in quantum algorithms for\n",
    "the estimation of functions using qubits. Estimation in a classical computer is set up with an $n$ -dimensional input $x$ producing an $m$ -dimensional output $f(x)$\n",
    "\n",
    "$$\n",
    "f:\\{0,1\\}^{n} \\rightarrow\\{0,1\\}^{m}\n",
    "$$\n",
    "\n",
    "The $n$ -dimensional vector $x$ is encoded as quantum information by\n",
    "considering $n$ qubits each storing a single bit of information as below\n",
    "\n",
    "$$\n",
    "|x\\rangle=\\left|x_{0}\\right\\rangle \\otimes\\left|x_{1}\\right\\rangle \\otimes \\cdots \\otimes\\left|x_{n-1}\\right\\rangle\n",
    "$$\n",
    "\n",
    "Quantum oracles help transform a system from a quantum state $|x\\rangle$ into a state $|f(x)\\rangle,$ through the evolution of quantum states."
   ]
  },
  {
   "cell_type": "markdown",
   "metadata": {},
   "source": [
    "<img src=\"Images/oracle.jpeg\" alt=\"drawing\" width=\"600\"/>\n"
   ]
  },
  {
   "cell_type": "markdown",
   "metadata": {},
   "source": [
    "<h1 align=\"center\">\n",
    "<span style=\"color: red;\">$\\textbf{Deutsch-Jozsa Algorithm}$</center>\n",
    "</h1>"
   ]
  },
  {
   "cell_type": "markdown",
   "metadata": {},
   "source": [
    "<span style=\"color: blue;\">Deutsch’s algorithm was the first to demonstrate a clear advantage of quantum over classical computing.Deutsch-Jozsa algorithm is the $n$ qubit version of the Deutsch algorithm.The functions now take $n$ bit strings (e.g. \"0101011\") as an input and return one bit output ($0$ or $1$). Bob still is allowed only to use either balanced or constant functions and Alice should find out the property of that function.Bob has two options for constant functions (for all input bit strings $x$ the $f(x) = 0$ or $f(x) = 1$) and $\\begin{pmatrix} 2^n \\\\ 2^{n - 1} \\end{pmatrix}$ options to choose a balanced function."
   ]
  },
  {
   "cell_type": "markdown",
   "metadata": {},
   "source": [
    "Let's begin with an example. Suppose I buy two standard decks of 52 playing cards. In a separate room where you cannot see me, I create a single deck of 52 cards where one of the following is true:\n",
    "1. All the cards are red or all the cards are black.\n",
    "2. Half the cards (26) are black and half are red.\n",
    "\n",
    "<span style=\"color: red;\">The first option is called \"constant\" and the second is \"balanced.\"\n",
    "\n",
    "I now go to you and give you the problem of finding out which of the two possibilities is the case for the deck I am holding. You do so by looking at and then discarding the card at the top of the deck.\n",
    "\n",
    "In the best case, the first card is one color and the second is the other. Therefore the deck is balanced. In the worst case you must examine $27=1+52 / 2$ cards. The first 26 cards might be black, say. If the next is black, then all are black. If it is red, the deck is balanced.\n",
    "\n",
    "Regarding an oracle, we are asking \"is the card at the top of the deck black?\". It returns 1 if it is, 0 if it is red. As I stated, we must consult the oracle 27 times in the worst case to get the\n",
    "correct answer."
   ]
  },
  {
   "cell_type": "code",
   "execution_count": 2,
   "metadata": {},
   "outputs": [
    {
     "data": {
      "image/png": "[encoded data removed]",
      "text/plain": [
       "<IPython.core.display.Image object>"
      ]
     },
     "metadata": {
      "image/png": {
       "unconfined": true,
       "width": 500
      }
     },
     "output_type": "display_data"
    }
   ],
   "source": [
    "display(Image('https://upload.wikimedia.org/wikipedia/commons/thumb/b/b5/Deutsch-Jozsa-algorithm-quantum-circuit.png/400px-Deutsch-Jozsa-algorithm-quantum-circuit.png', width=500, unconfined=True))"
   ]
  },
  {
   "cell_type": "markdown",
   "metadata": {},
   "source": [
    "The main steps of the algorithm are presented in the following circuit:\n",
    "The algorithm begins with the $n+1$ bit state $|0\\rangle^{\\otimes n}|1\\rangle .$ That is, the first n bits are each in the state |0\\rangle and the final bit is $|1\\rangle .$ A Hadamard transform is applied to each bit to obtain\n",
    "the state\n",
    "\n",
    "$$\n",
    "\\frac{1}{\\sqrt{2^{n+1}}} \\sum_{x=0}^{2^{n}-1}|x\\rangle(|0\\rangle-|1\\rangle)\n",
    "$$\n",
    "\n",
    "We have the function $f$ implemented as a quantum oracle. The oracle maps the state $|x\\rangle|y\\rangle$ to $|x\\rangle|y \\oplus f(x)\\rangle,$ where $\\oplus$ is addition modulo 2. Applying the quantum oracle gives\n",
    "\n",
    "$$\n",
    "\\frac{1}{\\sqrt{2^{n+1}}} \\sum_{x=0}^{2^{n}-1}|x\\rangle(|f(x)\\rangle-|1 \\oplus f(x)\\rangle)\n",
    "$$\n",
    "\n",
    "For each $x, f(x)$ is either 0 or 1 . Testing these two possibilities, we see the above state is equate\n",
    "\n",
    "$$\n",
    "\\frac{1}{\\sqrt{2^{n+1}}} \\sum_{x=0}^{2^{n}-1}(-1)^{f(x)}|x\\rangle(|0\\rangle-|1\\rangle)\n",
    "$$\n",
    "\n",
    "At this point the last qubit $\\frac{|0\\rangle-|1\\rangle}{\\sqrt{2}}$ may be ignored and therefore below is remained:\n",
    "\n",
    "$$\n",
    "\\frac{1}{\\sqrt{2^{n}}} \\sum_{x=0}^{2^{n}-1}(-1)^{f(x)}|x\\rangle\n",
    "$$\n",
    "\n",
    "We apply a Hadamard transform to each qubit to obtain\n",
    "\n",
    "$$\n",
    "\\frac{1}{\\sqrt{2^{n}}} \\sum_{x=0}^{2^{n}-1}(-1)^{f(x)}\\left[\\frac{1}{\\sqrt{2^{n}}} \\sum_{y=0}^{2^{n}-1}(-1)^{x \\cdot y}|y\\rangle\\right]=\\frac{1}{2^{n}} \\sum_{y=0}^{2^{n}-1}\\left[\\sum_{x=0}^{2^{n}-1}(-1)^{f(x)}(-1)^{x \\cdot y}\\right]|y\\rangle\n",
    "$$\n",
    "\n",
    "where $x \\cdot y=x_{0} y_{0} \\oplus x_{1} y_{1} \\oplus \\cdots \\oplus x_{n-1} y_{n-1}$ is the sum of the bitwise product.\n",
    "Finally we examine the probability of measuring $|0\\rangle^{\\otimes n}$\n",
    "\n",
    "$$\n",
    "\\left|\\frac{1}{2^{n}} \\sum_{x=0}^{2^{n}-1}(-1)^{f(x)}\\right|^{2}\n",
    "$$\n",
    "\n",
    "which evaluates to 1 if $f(x)$ is constant (constructive interference) and 0 if $f(x)$ is balanced (destructive interference). In other words, the final measurement will be $|0\\rangle^{\\otimes n}$ (i.e. all zeros) if $f(x)$ is constant and will yield some other states if $f(x)$ is balanced."
   ]
  },
  {
   "cell_type": "code",
   "execution_count": 3,
   "metadata": {},
   "outputs": [
    {
     "data": {
      "image/png": "[encoded data removed]",
      "text/plain": [
       "<Figure size 391.3x325.08 with 1 Axes>"
      ]
     },
     "execution_count": 3,
     "metadata": {},
     "output_type": "execute_result"
    }
   ],
   "source": [
    "# Alice: qubit preparation\n",
    "input_register = QuantumRegister(3, \"x\")\n",
    "output_register = QuantumRegister(1, \"f(x)\")\n",
    "classical_register = ClassicalRegister(3, \"c\")\n",
    "\n",
    "circuit_Deutsch_Jozsa = QuantumCircuit(input_register, output_register, classical_register)\n",
    "\n",
    "# Prepare the qubit in the output register in the |1> state\n",
    "circuit_Deutsch_Jozsa.x(output_register[0])\n",
    "\n",
    "# Hadamard gates on both input and output registers\n",
    "circuit_Deutsch_Jozsa.h(input_register) # Hadamard gate is applied to all qubits in the input_register\n",
    "circuit_Deutsch_Jozsa.h(output_register[0])\n",
    "\n",
    "# Add a barrier\n",
    "circuit_Deutsch_Jozsa.barrier()\n",
    "circuit_Deutsch_Jozsa.draw('mpl')\n"
   ]
  },
  {
   "cell_type": "code",
   "execution_count": 4,
   "metadata": {},
   "outputs": [
    {
     "data": {
      "image/png": "[encoded data removed]",
      "text/plain": [
       "<Figure size 752.5x325.08 with 1 Axes>"
      ]
     },
     "execution_count": 4,
     "metadata": {},
     "output_type": "execute_result"
    }
   ],
   "source": [
    "# Circuit for the constant function\n",
    "circtuit_Deutsch_Jozsa_constant  = QuantumCircuit(input_register, output_register, classical_register)\n",
    "circtuit_Deutsch_Jozsa_constant += circuit_Deutsch_Jozsa\n",
    "\n",
    "# Implementing the f(x) = 1 constant function\n",
    "circtuit_Deutsch_Jozsa_constant.x(output_register[0])\n",
    "\n",
    "# Add a barrier\n",
    "circtuit_Deutsch_Jozsa_constant.barrier()\n",
    "\n",
    "# Final Hadamard gates applied on all qubits in the input register\n",
    "circtuit_Deutsch_Jozsa_constant.h(input_register)\n",
    "\n",
    "# Measurements executed for all qubits in the input register\n",
    "circtuit_Deutsch_Jozsa_constant.measure(input_register, classical_register)\n",
    "\n",
    "# Draw the circuit\n",
    "circtuit_Deutsch_Jozsa_constant.draw(output=\"mpl\")"
   ]
  },
  {
   "cell_type": "code",
   "execution_count": 5,
   "metadata": {},
   "outputs": [],
   "source": [
    "# A function that will help Alice to define if\n",
    "# the chosen function was balanced or constant \n",
    "def is_balanced_or_constant(circuit, bakend):\n",
    "    # The execution of the circuit\n",
    "    counts = execute(circuit, bakend, shots=1).result().get_counts()\n",
    "\n",
    "    # Finding the only key/measurement outcome\n",
    "    measurement_result = list(counts.keys())[0]\n",
    "    print(\"The results of the measurements: {}\".format(counts))\n",
    "    print(\"The final result is: {}\".format(measurement_result))\n",
    "\n",
    "    # Alice checks if Bob's function was constant or balanced\n",
    "    if '000' in counts:\n",
    "        print(\"Bob's chosen function was constant\")\n",
    "    else:\n",
    "        print(\"Bob's chosen function was balanced\")"
   ]
  },
  {
   "cell_type": "code",
   "execution_count": 6,
   "metadata": {},
   "outputs": [
    {
     "name": "stdout",
     "output_type": "stream",
     "text": [
      "The results of the measurements: {'000': 1}\n",
      "The final result is: 000\n",
      "Bob's chosen function was constant\n"
     ]
    }
   ],
   "source": [
    "# Alice uses is_balanced_or_constant() function\n",
    "simulator = Aer.get_backend('qasm_simulator')\n",
    "is_balanced_or_constant(circtuit_Deutsch_Jozsa_constant, simulator)"
   ]
  },
  {
   "cell_type": "markdown",
   "metadata": {},
   "source": [
    "Now we will do the same calculations but for a balanced $f(x)$ function that we have used in the quantum parallelism chapter."
   ]
  },
  {
   "cell_type": "code",
   "execution_count": 15,
   "metadata": {},
   "outputs": [
    {
     "data": {
      "image/png": "[encoded data removed]",
      "text/plain": [
       "<Figure size 825.193x325.08 with 1 Axes>"
      ]
     },
     "execution_count": 15,
     "metadata": {},
     "output_type": "execute_result"
    }
   ],
   "source": [
    "# Circuit for the balanced case\n",
    "circtuit_Deutsch_Jozsa_balanced  = QuantumCircuit(input_register, output_register, classical_register)\n",
    "circtuit_Deutsch_Jozsa_balanced += circuit_Deutsch_Jozsa\n",
    "\n",
    "# implementing the balanced function\n",
    "circtuit_Deutsch_Jozsa_balanced.cx(input_register[0], output_register[0])\n",
    "circtuit_Deutsch_Jozsa_balanced.cx(input_register[1], output_register[0])\n",
    "circtuit_Deutsch_Jozsa_balanced.cx(input_register[2], output_register[0])\n",
    "\n",
    "# add a barrier\n",
    "circtuit_Deutsch_Jozsa_balanced.barrier()\n",
    "\n",
    "# final Hadamard gates applied on all qubits in the input register\n",
    "circtuit_Deutsch_Jozsa_balanced.h(input_register)\n",
    "\n",
    "\n",
    "# measurements executed for all qubits in the input register\n",
    "circtuit_Deutsch_Jozsa_balanced.measure(input_register, classical_register)\n",
    "\n",
    "# draw the circuit\n",
    "circtuit_Deutsch_Jozsa_balanced.draw(output=\"mpl\")"
   ]
  },
  {
   "cell_type": "code",
   "execution_count": 16,
   "metadata": {},
   "outputs": [
    {
     "name": "stdout",
     "output_type": "stream",
     "text": [
      "The results of the measurements: {'111': 1}\n",
      "The final result is: 111\n",
      "Bob's chosen function was balanced\n"
     ]
    }
   ],
   "source": [
    "# Alice uses is_balanced_or_constant() function\n",
    "simulator = Aer.get_backend('qasm_simulator')\n",
    "is_balanced_or_constant(circtuit_Deutsch_Jozsa_balanced, simulator)"
   ]
  }
 ],
 "metadata": {
  "kernelspec": {
   "display_name": "Python 3",
   "language": "python",
   "name": "python3"
  },
  "language_info": {
   "codemirror_mode": {
    "name": "ipython",
    "version": 3
   },
   "file_extension": ".py",
   "mimetype": "text/x-python",
   "name": "python",
   "nbconvert_exporter": "python",
   "pygments_lexer": "ipython3",
   "version": "3.7.6"
  }
 },
 "nbformat": 4,
 "nbformat_minor": 4
}
