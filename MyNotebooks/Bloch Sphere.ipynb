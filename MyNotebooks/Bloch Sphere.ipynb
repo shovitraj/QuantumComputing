{
 "cells": [
  {
   "cell_type": "code",
   "execution_count": 1,
   "metadata": {},
   "outputs": [],
   "source": [
    "# quantum_phase_bloch.py\n",
    "import numpy as np\n",
    "\n",
    "from qiskit import QuantumCircuit, QuantumRegister, ClassicalRegister, execute, Aer\n",
    "from qiskit.tools.visualization import plot_bloch_vector\n",
    "\n",
    "# Define the Quantum and Classical Registers\n",
    "q = QuantumRegister(1)\n",
    "c = ClassicalRegister(1)\n",
    "\n",
    "# Build the circuits\n",
    "pre = QuantumCircuit(q, c)\n",
    "pre.h(q)\n",
    "pre.barrier()\n",
    "\n",
    "meas_x = QuantumCircuit(q, c)\n",
    "meas_x.barrier()\n",
    "meas_x.h(q)\n",
    "meas_x.measure(q, c)\n",
    "\n",
    "meas_y = QuantumCircuit(q, c)\n",
    "meas_y.barrier()\n",
    "meas_y.s(q).inverse()\n",
    "meas_y.h(q)\n",
    "meas_y.measure(q, c)\n",
    "\n",
    "meas_z = QuantumCircuit(q, c)\n",
    "meas_z.barrier()\n",
    "meas_z.measure(q, c)\n",
    "\n",
    "bloch_vector = ['x', 'y', 'z']\n",
    "exp_vector = range(0, 21)\n",
    "circuits = []\n",
    "for exp_index in exp_vector:\n",
    "    middle = QuantumCircuit(q, c)\n",
    "    phase = 2*np.pi*exp_index/(len(exp_vector)-1)\n",
    "    middle.u1(phase, q)\n",
    "    circuits.append(pre + middle + meas_x)\n",
    "    circuits.append(pre + middle + meas_y)\n",
    "    circuits.append(pre + middle + meas_z)\n",
    "\n",
    "# Execute the circuit\n",
    "job = execute(circuits, backend = Aer.get_backend('qasm_simulator'), shots=1024)\n",
    "result = job.result()\n",
    "\n",
    "# Plot the result\n",
    "for exp_index in exp_vector:\n",
    "    bloch = [0, 0, 0]\n",
    "    for bloch_index in range(len(bloch_vector)):\n",
    "        data = result.get_counts(circuits[3*exp_index+bloch_index])\n",
    "        try:\n",
    "            p0 = data['0']/1024.0\n",
    "        except KeyError:\n",
    "            p0 = 0\n",
    "        try:\n",
    "            p1 = data['1']/1024.0\n",
    "        except KeyError:\n",
    "            p1 = 0\n",
    "        bloch[bloch_index] = p0-p1\n",
    "    plot_bloch_vector(bloch)"
   ]
  },
  {
   "cell_type": "code",
   "execution_count": null,
   "metadata": {},
   "outputs": [],
   "source": []
  },
  {
   "cell_type": "code",
   "execution_count": null,
   "metadata": {},
   "outputs": [],
   "source": []
  },
  {
   "cell_type": "code",
   "execution_count": null,
   "metadata": {},
   "outputs": [],
   "source": []
  },
  {
   "cell_type": "code",
   "execution_count": null,
   "metadata": {},
   "outputs": [],
   "source": []
  }
 ],
 "metadata": {
  "kernelspec": {
   "display_name": "Python 3",
   "language": "python",
   "name": "python3"
  },
  "language_info": {
   "codemirror_mode": {
    "name": "ipython",
    "version": 3
   },
   "file_extension": ".py",
   "mimetype": "text/x-python",
   "name": "python",
   "nbconvert_exporter": "python",
   "pygments_lexer": "ipython3",
   "version": "3.7.6"
  }
 },
 "nbformat": 4,
 "nbformat_minor": 2
}
