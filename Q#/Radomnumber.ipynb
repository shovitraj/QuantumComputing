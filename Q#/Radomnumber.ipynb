{
 "cells": [
  {
   "cell_type": "code",
   "execution_count": 1,
   "metadata": {},
   "outputs": [
    {
     "data": {
      "application/json": "[\"SampleQuantumRandomNumberGenerator\"]",
      "text/html": [
       "<ul><li>SampleQuantumRandomNumberGenerator</li></ul>"
      ],
      "text/plain": [
       "SampleQuantumRandomNumberGenerator"
      ]
     },
     "execution_count": 1,
     "metadata": {},
     "output_type": "execute_result"
    }
   ],
   "source": [
    "operation SampleQuantumRandomNumberGenerator() : Result {\n",
    "    using (q = Qubit())  { // Allocate a qubit.\n",
    "        H(q);             // Put the qubit to superposition. It now has a 50% chance of being 0 or 1.\n",
    "        let r = M(q);     // Measure the qubit value.\n",
    "        Reset(q);\n",
    "        return r;\n",
    "    }\n",
    "}"
   ]
  },
  {
   "cell_type": "code",
   "execution_count": 6,
   "metadata": {},
   "outputs": [
    {
     "data": {
      "application/json": "0",
      "text/plain": [
       "Zero"
      ]
     },
     "execution_count": 6,
     "metadata": {},
     "output_type": "execute_result"
    }
   ],
   "source": [
    "%simulate SampleQuantumRandomNumberGenerator"
   ]
  },
  {
   "cell_type": "code",
   "execution_count": null,
   "metadata": {},
   "outputs": [],
   "source": []
  }
 ],
 "metadata": {
  "kernelspec": {
   "display_name": "Q#",
   "language": "qsharp",
   "name": "iqsharp"
  },
  "language_info": {
   "file_extension": ".qs",
   "mimetype": "text/x-qsharp",
   "name": "qsharp",
   "version": "0.12"
  }
 },
 "nbformat": 4,
 "nbformat_minor": 4
}
