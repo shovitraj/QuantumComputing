{
 "cells": [
  {
   "cell_type": "markdown",
   "metadata": {},
   "source": [
    "Tutorials from\n",
    "\n",
    "* https://www.quanta.guru/docs/circuits/random/random/"
   ]
  },
  {
   "cell_type": "code",
   "execution_count": 1,
   "metadata": {},
   "outputs": [],
   "source": [
    "import matplotlib.pyplot as plt\n",
    "%matplotlib inline\n",
    "import numpy as np\n",
    "import sys, math, time\n",
    "\n",
    "from qiskit import BasicAer, execute\n",
    "from qiskit import QuantumCircuit, QuantumRegister, ClassicalRegister"
   ]
  },
  {
   "cell_type": "code",
   "execution_count": 2,
   "metadata": {
    "scrolled": true
   },
   "outputs": [
    {
     "data": {
      "image/png": "[encoded data removed]",
      "text/plain": [
       "<Figure size 610.428x385.28 with 1 Axes>"
      ]
     },
     "execution_count": 2,
     "metadata": {},
     "output_type": "execute_result"
    }
   ],
   "source": [
    "def get_circuit(Nbits):\n",
    "    q = QuantumRegister(Nbits)\n",
    "    c = ClassicalRegister(Nbits)\n",
    "    \n",
    "    ckt = QuantumCircuit(q, c)\n",
    "    ckt.h(q)\n",
    "    ckt.barrier()\n",
    "    ckt.measure(q,c)\n",
    "    return ckt\n",
    "\n",
    "Nbits = 5;\n",
    "ckt = get_circuit(Nbits)\n",
    "ckt.draw(output = 'mpl')"
   ]
  },
  {
   "cell_type": "code",
   "execution_count": 5,
   "metadata": {
    "scrolled": false
   },
   "outputs": [],
   "source": [
    "ckt=get_circuit(Nbits)\n",
    "n_qubits = ckt.n_qubits\n",
    "backend=BasicAer.get_backend(\"qasm_simulator\")\n",
    "job = execute(ckt, backend=backend, shots=1000, memory=True)\n",
    "res = job.result()\n",
    "bit_str = ''.join(job.result().get_memory())\n",
    "#print (res)\n"
   ]
  },
  {
   "cell_type": "code",
   "execution_count": 13,
   "metadata": {},
   "outputs": [
    {
     "name": "stdout",
     "output_type": "stream",
     "text": [
      "[9.70970887 4.77166484 3.71678852 4.11737649 1.63298702 3.61232439\n",
      " 0.60532657 1.05548258 2.5535934  0.42291008 7.34959298 8.03121522\n",
      " 7.66835028 9.2294711  3.23469626 7.73643436 4.26361473 0.74058309\n",
      " 6.20172842 6.32819081] 20\n"
     ]
    }
   ],
   "source": [
    "def get_random_Float(ckt, vmin=0., vmax =10.0, size=20 ):\n",
    "    nbits = 100\n",
    "    n_qubits = ckt.n_qubits\n",
    "    #print (n_qubits)\n",
    "    Nshots = (nbits * size + n_qubits -1) // n_qubits;\n",
    "    #print ('Nshots=',Nshots)\n",
    "    backend=BasicAer.get_backend(\"qasm_simulator\");\n",
    "    job = execute(ckt, backend=backend, shots=Nshots, memory=True);\n",
    "    #print (job.result())\n",
    "    bit_str = ''.join(job.result().get_memory())\n",
    "    #print (bit_str, len(bit_str))\n",
    "    scale = float(vmax-vmin)/float(2**nbits-1)\n",
    "    \n",
    "    random_vec = np.array([ vmin + scale*float(int(bit_str[i:i+nbits], 2)) \n",
    "                        for i in range(0, nbits*size, nbits)], dtype=float)\n",
    "\n",
    "    return random_vec\n",
    "\n",
    "ckt=get_circuit(Nbits)\n",
    "Rvec=get_random_Float(ckt)\n",
    "\n",
    "print (Rvec, len(Rvec))\n",
    "    \n",
    "    "
   ]
  },
  {
   "cell_type": "code",
   "execution_count": null,
   "metadata": {},
   "outputs": [],
   "source": []
  },
  {
   "cell_type": "code",
   "execution_count": 18,
   "metadata": {},
   "outputs": [
    {
     "name": "stdout",
     "output_type": "stream",
     "text": [
      "0.050637006759643555\n"
     ]
    }
   ],
   "source": [
    "# Draw a sample from uniform distribution.\n",
    "t1 = time.time()\n",
    "sample = get_random_Float(ckt, vmin=-7.67, vmax=19.52, size=100)\n",
    "#sample = uniform_rand_float64(circuit, glo_num_qubits, size=4321, vmin=-7.67, vmax=19.52)\n",
    "t2 = time.time() - t1\n",
    "\n",
    "print (t2)\n",
    "\n"
   ]
  },
  {
   "cell_type": "code",
   "execution_count": 19,
   "metadata": {},
   "outputs": [
    {
     "name": "stdout",
     "output_type": "stream",
     "text": [
      "Uniform distribution over floating point numbers:\n",
      "  sample type: <class 'numpy.ndarray'> , element type: float64 , shape: (100,)\n",
      "  sample min: -7.3512, max: 19.4796\n",
      "  sampling time: 0.05 secs\n"
     ]
    },
    {
     "data": {
      "image/png": "[encoded data removed]",
      "text/plain": [
       "<Figure size 432x288 with 1 Axes>"
      ]
     },
     "metadata": {
      "needs_background": "light"
     },
     "output_type": "display_data"
    }
   ],
   "source": [
    "# Print out some details.\n",
    "print(\"Uniform distribution over floating point numbers:\")\n",
    "print(\"  sample type:\", type(sample), \", element type:\", sample.dtype,\", shape:\", sample.shape)\n",
    "\n",
    "print(\"  sample min: {:.4f}, max: {:.4f}\".format(np.amin(sample), np.amax(sample)))\n",
    "print(\"  sampling time: {:.2f} secs\".format(t2))\n",
    "\n",
    "# Plotting the distribution.\n",
    "plt.hist(sample.ravel(),\n",
    "         bins=min(int(np.ceil(np.sqrt(sample.size))), 100),\n",
    "         density=True, facecolor='b', alpha=0.75)\n",
    "plt.xlabel(\"value\", size=12)\n",
    "plt.ylabel(\"probability\", size=12)\n",
    "plt.title(\"Uniform distribution over float64 numbers in\\\n",
    "                             [{:.2f} ... {:.2f}]\".format(\n",
    "            np.amin(sample), np.amax(sample)), size=12)\n",
    "plt.grid(True)\n",
    "# plt.savefig(\"uniform_distrib_float.png\", bbox_inches=\"tight\")\n",
    "plt.show()"
   ]
  },
  {
   "cell_type": "code",
   "execution_count": null,
   "metadata": {},
   "outputs": [],
   "source": []
  }
 ],
 "metadata": {
  "kernelspec": {
   "display_name": "Python 3",
   "language": "python",
   "name": "python3"
  },
  "language_info": {
   "codemirror_mode": {
    "name": "ipython",
    "version": 3
   },
   "file_extension": ".py",
   "mimetype": "text/x-python",
   "name": "python",
   "nbconvert_exporter": "python",
   "pygments_lexer": "ipython3",
   "version": "3.7.6"
  }
 },
 "nbformat": 4,
 "nbformat_minor": 2
}
