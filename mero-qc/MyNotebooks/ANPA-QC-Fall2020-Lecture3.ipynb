{
 "cells": [
  {
   "cell_type": "markdown",
   "metadata": {
    "tags": [
     "remove_cell"
    ]
   },
   "source": [
    "# Multiple Qubits & Entangled States"
   ]
  },
  {
   "cell_type": "markdown",
   "metadata": {},
   "source": [
    "Today,we will see how we can represent the state of multiple qubits."
   ]
  },
  {
   "cell_type": "markdown",
   "metadata": {},
   "source": [
    "\n",
    "\n",
    "\n",
    "## 1. Representing Multi-Qubit States <a id=\"represent\"></a>\n",
    "\n",
    "* We saw that a single bit has two possible states, and a qubit state has two complex amplitudes. \n",
    "* Similarly, two bits have four possible states:\n",
    "\n",
    "`00` `01` `10` `11`\n",
    "\n",
    "And to describe the state of two qubits requires four complex amplitudes. We store these amplitudes in a 4D-vector like so:\n",
    "\n",
    "$$ |a\\rangle = a_{00}|00\\rangle + a_{01}|01\\rangle + a_{10}|10\\rangle + a_{11}|11\\rangle = \\begin{bmatrix} a_{00} \\\\ a_{01} \\\\ a_{10} \\\\ a_{11} \\end{bmatrix} $$\n",
    "\n",
    "The rules of measurement still work in the same way:\n",
    "\n",
    "$$ p(|00\\rangle) = |\\langle 00 | a \\rangle |^2 = |a_{00}|^2$$\n",
    "\n",
    "And the same implications hold, such as the normalisation condition:\n",
    "\n",
    "$$ |a_{00}|^2 + |a_{01}|^2 + |a_{10}|^2 + |a_{11}|^2 = 1$$\n",
    "\n",
    "If we have two separated qubits, we can describe their collective state using the tensor product:\n",
    "\n",
    "$$ |a\\rangle = \\begin{bmatrix} a_0 \\\\ a_1 \\end{bmatrix}, \\quad |b\\rangle = \\begin{bmatrix} b_0 \\\\ b_1 \\end{bmatrix} $$\n",
    "\n",
    "$$ \n",
    "|ba\\rangle = |b\\rangle \\otimes |a\\rangle = \\begin{bmatrix} b_0 \\times \\begin{bmatrix} a_0 \\\\ a_1 \\end{bmatrix} \\\\ b_1 \\times \\begin{bmatrix} a_0 \\\\ a_1 \\end{bmatrix} \\end{bmatrix} = \\begin{bmatrix} b_0 a_0 \\\\ b_0 a_1 \\\\ b_1 a_0 \\\\ b_1 a_1 \\end{bmatrix}\n",
    "$$\n",
    "\n",
    "And following the same rules, we can use the tensor product to describe the collective state of any number of qubits. Here is an example with three qubits:\n",
    "\n"
   ]
  },
  {
   "cell_type": "code",
   "execution_count": 1,
   "metadata": {
    "tags": [
     "thebelab-init"
    ]
   },
   "outputs": [],
   "source": [
    "from qiskit import QuantumCircuit, execute,QuantumCircuit, ClassicalRegister, QuantumRegister, Aer\n",
    "from math import pi\n",
    "import numpy as np\n",
    "from qiskit.visualization import plot_bloch_multivector, plot_histogram\n",
    "%matplotlib inline"
   ]
  },
  {
   "cell_type": "code",
   "execution_count": 2,
   "metadata": {},
   "outputs": [
    {
     "data": {
      "image/png": "[encoded data removed]",
      "text/plain": [
       "<Figure size 238.392x204.68 with 1 Axes>"
      ]
     },
     "execution_count": 2,
     "metadata": {},
     "output_type": "execute_result"
    }
   ],
   "source": [
    "qc = QuantumCircuit(3)\n",
    "# Apply H-gate to each qubit:\n",
    "for qubit in range(3):\n",
    "    qc.h(qubit)\n",
    "# See the circuit:\n",
    "qc.draw('mpl')"
   ]
  },
  {
   "cell_type": "markdown",
   "metadata": {},
   "source": [
    "Each qubit is in the state $|+\\rangle$, so we should see the vector:\n",
    "\n",
    "$$ \n",
    "|{+++}\\rangle = \\frac{1}{\\sqrt{8}}\\begin{bmatrix} 1 \\\\ 1 \\\\ 1 \\\\ 1 \\\\\n",
    "                              1 \\\\ 1 \\\\ 1 \\\\ 1 \\\\\n",
    "              \\end{bmatrix}\n",
    "$$\n",
    "![HHH](figures/HHH.jpg)"
   ]
  },
  {
   "cell_type": "code",
   "execution_count": 3,
   "metadata": {},
   "outputs": [
    {
     "data": {
      "text/plain": [
       "array([0.35355339+0.j, 0.35355339+0.j, 0.35355339+0.j, 0.35355339+0.j,\n",
       "       0.35355339+0.j, 0.35355339+0.j, 0.35355339+0.j, 0.35355339+0.j])"
      ]
     },
     "execution_count": 3,
     "metadata": {},
     "output_type": "execute_result"
    }
   ],
   "source": [
    "# Let's see the result\n",
    "def final_state(circuit):\n",
    "    backend = Aer.get_backend('statevector_simulator')\n",
    "    final_state = execute(circuit,backend).result().get_statevector()\n",
    "    return final_state\n",
    "fs=final_state(qc)\n",
    "fs"
   ]
  },
  {
   "cell_type": "code",
   "execution_count": 4,
   "metadata": {},
   "outputs": [
    {
     "data": {
      "text/latex": [
       "$\\displaystyle \n",
       "\\text{Statevector} = \\begin{bmatrix}\n",
       "\\tfrac{1}{\\sqrt{8}} \\\\\n",
       "\\tfrac{1}{\\sqrt{8}} \\\\\n",
       "\\tfrac{1}{\\sqrt{8}} \\\\\n",
       "\\tfrac{1}{\\sqrt{8}} \\\\\n",
       "\\tfrac{1}{\\sqrt{8}} \\\\\n",
       "\\tfrac{1}{\\sqrt{8}} \\\\\n",
       "\\tfrac{1}{\\sqrt{8}} \\\\\n",
       "\\tfrac{1}{\\sqrt{8}}\n",
       "\\end{bmatrix}\n",
       "$"
      ],
      "text/plain": [
       "<IPython.core.display.Math object>"
      ]
     },
     "metadata": {},
     "output_type": "display_data"
    }
   ],
   "source": [
    "# In Jupyter Notebooks we can display this nicely using Latex.\n",
    "# If not using Jupyter Notebooks you may need to remove the \n",
    "# array_to_latex function and use print(final_state) instead.\n",
    "from qiskit_textbook.tools import array_to_latex\n",
    "array_to_latex(fs, pretext=\"\\\\text{Statevector} = \")"
   ]
  },
  {
   "cell_type": "markdown",
   "metadata": {},
   "source": [
    "\n",
    "\n",
    "### 1.1 Quick Exercises: <a id=\"ex1\"></a>\n",
    "\n",
    "1.\tWrite down the tensor product of the qubits:    \n",
    "    a)\t$|0\\rangle|1\\rangle$    = $|01 \\rangle$  \n",
    "    b)\t$|0\\rangle|+\\rangle$    \n",
    "    c)\t$|+\\rangle|1\\rangle$    \n",
    "    d)\t$|-\\rangle|+\\rangle$    \n",
    "2.\tWrite the state:\n",
    "    $|\\psi\\rangle = \\tfrac{1}{\\sqrt{2}}|00\\rangle + \\tfrac{i}{\\sqrt{2}}|01\\rangle $\n",
    "    as two separate qubits.\n",
    "    \n",
    "![1ac](figures/1ac.jpg)\n",
    "\n",
    "## 2. Single Qubit Gates on Multi-Qubit Statevectors <a id=\"single-qubit-gates\"></a>\n",
    "\n",
    "We have seen that an X-gate is represented by the matrix:\n",
    "\n",
    "$$\n",
    "X = \\begin{bmatrix} 0 & 1 \\\\ 1 & 0 \\end{bmatrix}\n",
    "$$\n",
    "\n",
    "And that it acts on the state $|0\\rangle$ as so:\n",
    "\n",
    "$$\n",
    "X|0\\rangle = \\begin{bmatrix} 0 & 1 \\\\ 1 & 0 \\end{bmatrix}\\begin{bmatrix} 1 \\\\ 0 \\end{bmatrix} = \\begin{bmatrix} 0 \\\\ 1\\end{bmatrix}\n",
    "$$\n",
    "\n",
    "but it may not be clear how an X-gate would act on a qubit in a multi-qubit vector. Fortunately, the rule is quite simple; just as we used the tensor product to calculate multi-qubit statevectors, we use the tensor product to calculate matrices that act on these statevectors. For example, in the circuit below:"
   ]
  },
  {
   "cell_type": "code",
   "execution_count": 5,
   "metadata": {},
   "outputs": [
    {
     "data": {
      "image/png": "[encoded data removed]",
      "text/plain": [
       "<Figure size 238.392x144.48 with 1 Axes>"
      ]
     },
     "execution_count": 5,
     "metadata": {},
     "output_type": "execute_result"
    }
   ],
   "source": [
    "qchx = QuantumCircuit(2)\n",
    "qchx.h(0)\n",
    "qchx.x(1)\n",
    "qchx.draw('mpl')"
   ]
  },
  {
   "cell_type": "markdown",
   "metadata": {},
   "source": [
    "we can represent the simultaneous operations (H & X) using their tensor product:\n",
    "\n",
    "$$\n",
    "X|q_1\\rangle \\otimes H|q_0\\rangle = (X\\otimes H)|q_1 q_0\\rangle\n",
    "$$\n",
    "\n",
    "The operation looks like this:\n",
    "\n",
    "$$\n",
    "X\\otimes H = \\begin{bmatrix} 0 & 1 \\\\ 1 & 0 \\end{bmatrix} \\otimes \\tfrac{1}{\\sqrt{2}}\\begin{bmatrix} 1 & 1 \\\\ 1 & -1 \\end{bmatrix} = \\frac{1}{\\sqrt{2}}\n",
    "\\begin{bmatrix} 0 \\times \\begin{bmatrix} 1 & 1 \\\\ 1 & -1 \\end{bmatrix}\n",
    "              & 1 \\times \\begin{bmatrix} 1 & 1 \\\\ 1 & -1 \\end{bmatrix}\n",
    "                \\\\ \n",
    "                1 \\times \\begin{bmatrix} 1 & 1 \\\\ 1 & -1 \\end{bmatrix}\n",
    "              & 0 \\times \\begin{bmatrix} 1 & 1 \\\\ 1 & -1 \\end{bmatrix}\n",
    "\\end{bmatrix} = \\frac{1}{\\sqrt{2}}\n",
    "\\begin{bmatrix} 0 & 0 & 1 & 1 \\\\\n",
    "                0 & 0 & 1 & -1 \\\\\n",
    "                1 & 1 & 0 & 0 \\\\\n",
    "                1 & -1 & 0 & 0 \\\\\n",
    "\\end{bmatrix}\n",
    "$$\n",
    "\n",
    "Which we can then apply to our 4D statevector $|q_1 q_0\\rangle$. This can become quite messy, you will often see the clearer notation:\n",
    "\n",
    "$$\n",
    "X\\otimes H = \n",
    "\\begin{bmatrix} 0 & H \\\\\n",
    "               H & 0\\\\\n",
    "\\end{bmatrix}\n",
    "$$\n",
    "\n",
    "Instead of calculating this by hand, we can use Qiskit’s `unitary_simulator` to calculate this for us. The unitary simulator multiplies all the gates in our circuit together to compile a single unitary matrix that performs the whole quantum circuit:"
   ]
  },
  {
   "cell_type": "code",
   "execution_count": 6,
   "metadata": {},
   "outputs": [],
   "source": [
    "backend = Aer.get_backend('unitary_simulator')\n",
    "unitary = execute(qchx,backend).result().get_unitary()"
   ]
  },
  {
   "cell_type": "markdown",
   "metadata": {},
   "source": [
    "and view the results:"
   ]
  },
  {
   "cell_type": "code",
   "execution_count": 7,
   "metadata": {},
   "outputs": [
    {
     "data": {
      "text/latex": [
       "$\\displaystyle \n",
       "\\text{Circuit = }\n",
       "\\begin{bmatrix}\n",
       "0 & 0 & \\tfrac{1}{\\sqrt{2}} & \\tfrac{1}{\\sqrt{2}}  \\\\\n",
       "0 & 0 & \\tfrac{1}{\\sqrt{2}} & -\\tfrac{1}{\\sqrt{2}}  \\\\\n",
       "\\tfrac{1}{\\sqrt{2}} & \\tfrac{1}{\\sqrt{2}} & 0 & 0  \\\\\n",
       "\\tfrac{1}{\\sqrt{2}} & -\\tfrac{1}{\\sqrt{2}} & 0 & 0  \\\\\n",
       "\\end{bmatrix}\n",
       "$$\n",
       "$"
      ],
      "text/plain": [
       "<IPython.core.display.Math object>"
      ]
     },
     "metadata": {},
     "output_type": "display_data"
    }
   ],
   "source": [
    "# In Jupyter Notebooks we can display this nicely using Latex.\n",
    "# If not using Jupyter Notebooks you may need to remove the \n",
    "# array_to_latex function and use print(unitary) instead.\n",
    "from qiskit_textbook.tools import array_to_latex\n",
    "array_to_latex(unitary, pretext=\"\\\\text{Circuit = }\\n\")"
   ]
  },
  {
   "cell_type": "markdown",
   "metadata": {},
   "source": [
    "If we want to apply a gate to only one qubit at a time (such as in the circuit below), we do the tensor product with the identity matrix, e.g.:\n",
    "\n",
    "$$ X \\otimes I $$"
   ]
  },
  {
   "cell_type": "code",
   "execution_count": 8,
   "metadata": {},
   "outputs": [
    {
     "data": {
      "image/png": "[encoded data removed]",
      "text/plain": [
       "<Figure size 238.392x144.48 with 1 Axes>"
      ]
     },
     "execution_count": 8,
     "metadata": {},
     "output_type": "execute_result"
    }
   ],
   "source": [
    "qci = QuantumCircuit(2)\n",
    "qci.x(1)\n",
    "qci.draw('mpl')"
   ]
  },
  {
   "cell_type": "code",
   "execution_count": 9,
   "metadata": {},
   "outputs": [
    {
     "data": {
      "text/latex": [
       "$\\displaystyle \n",
       "\\text{Circuit = } \\begin{bmatrix}\n",
       "0 & 0 & 1 & 0  \\\\\n",
       "0 & 0 & 0 & 1  \\\\\n",
       "1 & 0 & 0 & 0  \\\\\n",
       "0 & 1 & 0 & 0  \\\\\n",
       "\\end{bmatrix}\n",
       "$$\n",
       "$"
      ],
      "text/plain": [
       "<IPython.core.display.Math object>"
      ]
     },
     "metadata": {},
     "output_type": "display_data"
    }
   ],
   "source": [
    "# Simulate the unitary\n",
    "backend = Aer.get_backend('unitary_simulator')\n",
    "unitary = execute(qci,backend).result().get_unitary()\n",
    "# Display the results:\n",
    "array_to_latex(unitary, pretext=\"\\\\text{Circuit = } \")"
   ]
  },
  {
   "cell_type": "markdown",
   "metadata": {},
   "source": [
    "We can see Qiskit has performed the tensor product:\n",
    "$$\n",
    "X \\otimes I =\n",
    "\\begin{bmatrix} 0 & I \\\\\n",
    "               I & 0\\\\\n",
    "\\end{bmatrix} = \n",
    "\\begin{bmatrix} 0 & 0 & 1 & 0 \\\\\n",
    "                0 & 0 & 0 & 1 \\\\\n",
    "                1 & 0 & 0 & 0 \\\\\n",
    "                0 & 1 & 0 & 0 \\\\\n",
    "\\end{bmatrix}\n",
    "$$\n",
    "\n",
    "### 2.1 Quick Exercises: <a id=\"ex2\"></a>\n",
    "\n",
    "1. Calculate the single qubit unitary ($U$) created by the sequence of gates: $U = XZH$. Use Qiskit's unitary simulator to check your results.\n",
    "2. Try changing the gates in the circuit above. Calculate their tensor product, and then check your answer using the unitary simulator.\n",
    "\n",
    "**Note:** Different books, softwares and websites order their qubits differently. This means the tensor product of the same circuit can look very different. Try to bear this in mind when consulting other sources. \n"
   ]
  },
  {
   "cell_type": "markdown",
   "metadata": {},
   "source": [
    "## 3. Multi-Qubit Gates <a id=\"multi-qubit-gates\"></a>\n",
    "\n",
    "Now we know how to represent the state of multiple qubits, we are now ready to learn how qubits interact with each other. An important two-qubit gate is the CNOT-gate.\n",
    "\n",
    "### 3.1 The CNOT-Gate <a id=\"cnot\"></a>\n",
    "\n",
    "You have come across this gate before in _[The Atoms of Computation](../ch-states/atoms-computation.ipynb)._ This gate is a conditional gate that performs an X-gate on the second qubit (target), if the state of the first qubit (control) is $|1\\rangle$. The gate is drawn on a circuit like this, with `q0` as the control and `q1` as the target:"
   ]
  },
  {
   "cell_type": "code",
   "execution_count": 10,
   "metadata": {},
   "outputs": [
    {
     "data": {
      "image/png": "[encoded data removed]",
      "text/plain": [
       "<Figure size 238.392x144.48 with 1 Axes>"
      ]
     },
     "execution_count": 10,
     "metadata": {},
     "output_type": "execute_result"
    }
   ],
   "source": [
    "qcn = QuantumCircuit(2)\n",
    "# Apply CNOT\n",
    "qcn.cx(0,1)\n",
    "# See the circuit:\n",
    "qcn.draw('mpl')"
   ]
  },
  {
   "cell_type": "markdown",
   "metadata": {},
   "source": [
    "When our qubits are not in superposition of $|0\\rangle$ or $|1\\rangle$ (behaving as classical bits), this gate is very simple and intuitive to understand. We can use the classical truth table:\n",
    "\n",
    "| Input (t,c) | Output (t,c) |\n",
    "|:-----------:|:------------:|\n",
    "| 00          | 00           |\n",
    "| 01          | 11           |\n",
    "| 10          | 10           |\n",
    "| 11          | 01           |\n",
    "\n",
    "And acting on our 4D-statevector, it has one of the two matrices:\n",
    "\n",
    "$$\n",
    "\\text{CNOT} = \\begin{bmatrix} 1 & 0 & 0 & 0 \\\\\n",
    "                              0 & 0 & 0 & 1 \\\\\n",
    "                              0 & 0 & 1 & 0 \\\\\n",
    "                              0 & 1 & 0 & 0 \\\\\n",
    "              \\end{bmatrix}, \\quad\n",
    "\\text{CNOT} = \\begin{bmatrix} 1 & 0 & 0 & 0 \\\\\n",
    "                              0 & 1 & 0 & 0 \\\\\n",
    "                              0 & 0 & 0 & 1 \\\\\n",
    "                              0 & 0 & 1 & 0 \\\\\n",
    "              \\end{bmatrix}\n",
    "$$\n",
    "\n",
    "depending on which qubit is the control and which is the target. Different books, simulators and papers order their qubits differently. In our case, the left matrix corresponds to the CNOT in the circuit above. This matrix swaps the amplitudes of $|01\\rangle$ and $|11\\rangle$ in our statevector:\n",
    "\n",
    "$$ \n",
    "|a\\rangle = \\begin{bmatrix} a_{00} \\\\ a_{01} \\\\ a_{10} \\\\ a_{11} \\end{bmatrix}, \\quad \\text{CNOT}|a\\rangle = \\begin{bmatrix} a_{00} \\\\ a_{11} \\\\ a_{10} \\\\ a_{01} \\end{bmatrix} \\begin{matrix} \\\\ \\leftarrow \\\\ \\\\ \\leftarrow \\end{matrix}\n",
    "$$\n",
    "\n",
    "We have seen how this acts on classical states, but let’s now see how it acts on a qubit in superposition. We will put one qubit in the state $|+\\rangle$:"
   ]
  },
  {
   "cell_type": "code",
   "execution_count": 11,
   "metadata": {},
   "outputs": [
    {
     "data": {
      "image/png": "[encoded data removed]",
      "text/plain": [
       "<Figure size 238.392x144.48 with 1 Axes>"
      ]
     },
     "execution_count": 11,
     "metadata": {},
     "output_type": "execute_result"
    }
   ],
   "source": [
    "qch = QuantumCircuit(2)\n",
    "# Apply H-gate to the first:\n",
    "qch.h(0)\n",
    "qch.draw('mpl')"
   ]
  },
  {
   "cell_type": "markdown",
   "metadata": {},
   "source": [
    "![ZeroH](figures/ZeroH.jpg)"
   ]
  },
  {
   "cell_type": "code",
   "execution_count": 12,
   "metadata": {},
   "outputs": [
    {
     "data": {
      "text/plain": [
       "array([0.70710678+0.j, 0.70710678+0.j, 0.        +0.j, 0.        +0.j])"
      ]
     },
     "execution_count": 12,
     "metadata": {},
     "output_type": "execute_result"
    }
   ],
   "source": [
    "# # Let's see the result:\n",
    "# backend = Aer.get_backend('statevector_simulator')\n",
    "# final_state = execute(qch,backend).result().get_statevector()\n",
    "\n",
    "\n",
    "fs1 = final_state(qch)\n",
    "fs1"
   ]
  },
  {
   "cell_type": "code",
   "execution_count": 13,
   "metadata": {},
   "outputs": [
    {
     "data": {
      "text/latex": [
       "$\\displaystyle \n",
       "\\text{Statevector = }\\begin{bmatrix}\n",
       "\\tfrac{1}{\\sqrt{2}} \\\\\n",
       "\\tfrac{1}{\\sqrt{2}} \\\\\n",
       "0 \\\\\n",
       "0\n",
       "\\end{bmatrix}\n",
       "$"
      ],
      "text/plain": [
       "<IPython.core.display.Math object>"
      ]
     },
     "metadata": {},
     "output_type": "display_data"
    }
   ],
   "source": [
    "# # Print the statevector neatly:\n",
    "array_to_latex(fs1, pretext=\"\\\\text{Statevector = }\")"
   ]
  },
  {
   "cell_type": "markdown",
   "metadata": {},
   "source": [
    "As expected, this produces the state $|0\\rangle \\otimes |{+}\\rangle = |0{+}\\rangle$:\n",
    "\n",
    "$$\n",
    "|0{+}\\rangle = \\tfrac{1}{\\sqrt{2}}(|00\\rangle + |01\\rangle)\n",
    "$$\n",
    "\n",
    "![0+](figures/ZeroPlusState.jpg)\n",
    "And let’s see what happens when we apply the CNOT gate:"
   ]
  },
  {
   "cell_type": "code",
   "execution_count": 14,
   "metadata": {},
   "outputs": [
    {
     "data": {
      "image/png": "[encoded data removed]",
      "text/plain": [
       "<Figure size 298.592x144.48 with 1 Axes>"
      ]
     },
     "execution_count": 14,
     "metadata": {},
     "output_type": "execute_result"
    }
   ],
   "source": [
    "qchn = QuantumCircuit(2)\n",
    "# Apply H-gate to the first:\n",
    "qchn.h(0)\n",
    "# Apply a CNOT:\n",
    "qchn.cx(0,1)\n",
    "qchn.draw('mpl')"
   ]
  },
  {
   "cell_type": "code",
   "execution_count": 15,
   "metadata": {},
   "outputs": [
    {
     "data": {
      "text/latex": [
       "$\\displaystyle \n",
       "\\text{Statevector = }\\begin{bmatrix}\n",
       "\\tfrac{1}{\\sqrt{2}} \\\\\n",
       "0 \\\\\n",
       "0 \\\\\n",
       "\\tfrac{1}{\\sqrt{2}}\n",
       "\\end{bmatrix}\n",
       "$"
      ],
      "text/plain": [
       "<IPython.core.display.Math object>"
      ]
     },
     "metadata": {},
     "output_type": "display_data"
    }
   ],
   "source": [
    "# Let's see the result:\n",
    "fs2 = final_state(qchn)\n",
    "# Print the statevector neatly:\n",
    "array_to_latex(fs2, pretext=\"\\\\text{Statevector = }\")"
   ]
  },
  {
   "cell_type": "markdown",
   "metadata": {},
   "source": [
    "We see we have the state:\n",
    "\n",
    "$$\n",
    "\\text{CNOT}|0{+}\\rangle = \\tfrac{1}{\\sqrt{2}}(|00\\rangle + |11\\rangle)\n",
    "$$ \n",
    "\n",
    "This state is very interesting to us, because it is _entangled._ This leads us neatly on to the next section."
   ]
  },
  {
   "cell_type": "code",
   "execution_count": 22,
   "metadata": {},
   "outputs": [
    {
     "data": {
      "image/png": "[encoded data removed]",
      "text/plain": [
       "<Figure size 238.392x144.48 with 1 Axes>"
      ]
     },
     "execution_count": 22,
     "metadata": {},
     "output_type": "execute_result"
    }
   ],
   "source": [
    "qcu = QuantumCircuit(2)\n",
    "# Apply H-gate to the first:\n",
    "qcu.h(0)\n",
    "qcu.draw('mpl')"
   ]
  },
  {
   "cell_type": "code",
   "execution_count": 23,
   "metadata": {},
   "outputs": [
    {
     "data": {
      "text/latex": [
       "$\\displaystyle \n",
       "\\text{Circuit = }\\begin{bmatrix}\n",
       "\\tfrac{1}{\\sqrt{2}} & \\tfrac{1}{\\sqrt{2}} & 0 & 0  \\\\\n",
       "\\tfrac{1}{\\sqrt{2}} & -\\tfrac{1}{\\sqrt{2}} & 0 & 0  \\\\\n",
       "0 & 0 & \\tfrac{1}{\\sqrt{2}} & \\tfrac{1}{\\sqrt{2}}  \\\\\n",
       "0 & 0 & \\tfrac{1}{\\sqrt{2}} & -\\tfrac{1}{\\sqrt{2}}  \\\\\n",
       "\\end{bmatrix}\n",
       "$$\n",
       "$"
      ],
      "text/plain": [
       "<IPython.core.display.Math object>"
      ]
     },
     "metadata": {},
     "output_type": "display_data"
    }
   ],
   "source": [
    "# Let's see the result:\n",
    "backend = Aer.get_backend('unitary_simulator')\n",
    "final_state = execute(qcu,backend).result().get_unitary()\n",
    "# Print the statevector neatly:\n",
    "array_to_latex(final_state, pretext=\"\\\\text{Circuit = }\")"
   ]
  },
  {
   "cell_type": "markdown",
   "metadata": {},
   "source": [
    "![IH](figures/IH.jpg)"
   ]
  },
  {
   "cell_type": "code",
   "execution_count": 25,
   "metadata": {},
   "outputs": [
    {
     "data": {
      "image/png": "[encoded data removed]",
      "text/plain": [
       "<Figure size 238.392x204.68 with 1 Axes>"
      ]
     },
     "execution_count": 25,
     "metadata": {},
     "output_type": "execute_result"
    }
   ],
   "source": [
    "qcm = QuantumCircuit(2,2)\n",
    "# Apply H-gate to the first:\n",
    "qcm.h(0)\n",
    "qcm.draw('mpl')"
   ]
  },
  {
   "cell_type": "code",
   "execution_count": 27,
   "metadata": {},
   "outputs": [
    {
     "data": {
      "image/png": "[encoded data removed]",
      "text/plain": [
       "<Figure size 418.992x204.68 with 1 Axes>"
      ]
     },
     "execution_count": 27,
     "metadata": {},
     "output_type": "execute_result"
    }
   ],
   "source": [
    "qcm.cx(0,1)\n",
    "qcm.measure([0,1],[0,1])\n",
    "qcm.draw('mpl')"
   ]
  },
  {
   "cell_type": "code",
   "execution_count": 32,
   "metadata": {},
   "outputs": [
    {
     "name": "stdout",
     "output_type": "stream",
     "text": [
      "{'11': 522, '00': 478}\n"
     ]
    }
   ],
   "source": [
    "# Let's see the result:\n",
    "backend = Aer.get_backend('qasm_simulator')\n",
    "results = execute(qcm,backend, shots=1000).result()\n",
    "counts  = results.get_counts(qcm)\n",
    "print(counts)"
   ]
  },
  {
   "cell_type": "code",
   "execution_count": 34,
   "metadata": {},
   "outputs": [
    {
     "data": {
      "image/png": "[encoded data removed]",
      "text/plain": [
       "<Figure size 504x360 with 1 Axes>"
      ]
     },
     "execution_count": 34,
     "metadata": {},
     "output_type": "execute_result"
    }
   ],
   "source": [
    "plot_histogram(counts)"
   ]
  },
  {
   "cell_type": "markdown",
   "metadata": {},
   "source": [
    "### 3.2 Entangled States <a id=\"entangled\"></a>\n",
    "\n",
    "We saw in the previous section we could create the state:\n",
    "\n",
    "$$\n",
    "\\tfrac{1}{\\sqrt{2}}(|00\\rangle + |11\\rangle)\n",
    "$$ \n",
    "\n",
    "This is known as a _Bell_ state. We can see that this state has 50% probability of being measured in the state $|00\\rangle$, and 50% chance of being measured in the state $|11\\rangle$. Most interestingly, it has a **0%** chance of being measured in the states $|01\\rangle$ or $|10\\rangle$. We can see this in Qiskit:"
   ]
  },
  {
   "cell_type": "markdown",
   "metadata": {},
   "source": [
    "This combined state cannot be written as two separate qubit states, which has interesting implications. Although our qubits are in superposition, measuring one will tell us the state of the other and collapse its superposition. For example, if we measured the top qubit and got the state $|1\\rangle$, the collective state of our qubits changes like so:\n",
    "\n",
    "$$\n",
    "\\tfrac{1}{\\sqrt{2}}(|00\\rangle + |11\\rangle) \\quad \\xrightarrow[]{\\text{measure}} \\quad |11\\rangle\n",
    "$$\n",
    "\n",
    "Even if we separated these qubits light-years away, measuring one qubit collapses the superposition and appears to have an immediate effect on the other. This is the [‘spooky action at a distance’](https://en.wikipedia.org/wiki/Quantum_nonlocality) that upset so many physicists in the early 20th century.\n",
    "\n",
    "It’s important to note that the measurement result is random, and the measurement statistics of one qubit are **not** affected by any operation on the other qubit. Because of this, there is **no way** to use shared quantum states to communicate. This is known as the no-communication theorem.[1]"
   ]
  },
  {
   "cell_type": "markdown",
   "metadata": {},
   "source": [
    "### 3.3 Exercise: <a id=\"ex3\"></a>\n",
    "1. Create a quantum circuit that produces the Bell state: $\\tfrac{1}{\\sqrt{2}}(|01\\rangle + |10\\rangle)$.\n",
    "   Use the statevector simulator to verify your result.\n",
    "   \n",
    "   \n",
    "2. The circuit you created in question 1 transforms the state $|00\\rangle$ to $\\tfrac{1}{\\sqrt{2}}(|01\\rangle + |10\\rangle)$, calculate the unitary of this circuit using Qiskit's simulator. Verify this unitary does in fact perform the correct transformation."
   ]
  },
  {
   "cell_type": "markdown",
   "metadata": {},
   "source": [
    "## 4. References\n",
    "\n",
    "[1] Asher Peres, Daniel R. Terno, _Quantum Information and Relativity Theory,_ 2004, https://arxiv.org/abs/quant-ph/0212023"
   ]
  },
  {
   "cell_type": "code",
   "execution_count": 21,
   "metadata": {},
   "outputs": [
    {
     "data": {
      "text/plain": [
       "{'qiskit-terra': '0.14.0',\n",
       " 'qiskit-aer': '0.5.1',\n",
       " 'qiskit-ignis': '0.3.0',\n",
       " 'qiskit-ibmq-provider': '0.7.0',\n",
       " 'qiskit-aqua': '0.7.0',\n",
       " 'qiskit': '0.19.0'}"
      ]
     },
     "execution_count": 21,
     "metadata": {},
     "output_type": "execute_result"
    }
   ],
   "source": [
    "import qiskit\n",
    "qiskit.__qiskit_version__"
   ]
  },
  {
   "cell_type": "code",
   "execution_count": null,
   "metadata": {},
   "outputs": [],
   "source": []
  }
 ],
 "metadata": {
  "kernelspec": {
   "display_name": "Python 3",
   "language": "python",
   "name": "python3"
  },
  "language_info": {
   "codemirror_mode": {
    "name": "ipython",
    "version": 3
   },
   "file_extension": ".py",
   "mimetype": "text/x-python",
   "name": "python",
   "nbconvert_exporter": "python",
   "pygments_lexer": "ipython3",
   "version": "3.7.6"
  }
 },
 "nbformat": 4,
 "nbformat_minor": 4
}
