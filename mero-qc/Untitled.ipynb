{
 "cells": [
  {
   "cell_type": "code",
   "execution_count": 1,
   "id": "30f8f8dc",
   "metadata": {},
   "outputs": [],
   "source": [
    "import numpy as np\n",
    "\n",
    "a = [0,1,2,3,4,5,6,7,8]"
   ]
  },
  {
   "cell_type": "code",
   "execution_count": 2,
   "id": "5f46a8de",
   "metadata": {},
   "outputs": [
    {
     "data": {
      "text/plain": [
       "9"
      ]
     },
     "execution_count": 2,
     "metadata": {},
     "output_type": "execute_result"
    }
   ],
   "source": [
    "len(a)"
   ]
  },
  {
   "cell_type": "code",
   "execution_count": 3,
   "id": "e81d2328",
   "metadata": {},
   "outputs": [],
   "source": [
    "x = np.reshape(a, (3, 3))"
   ]
  },
  {
   "cell_type": "code",
   "execution_count": 4,
   "id": "3c311923",
   "metadata": {},
   "outputs": [
    {
     "data": {
      "text/plain": [
       "array([[0, 1, 2],\n",
       "       [3, 4, 5],\n",
       "       [6, 7, 8]])"
      ]
     },
     "execution_count": 4,
     "metadata": {},
     "output_type": "execute_result"
    }
   ],
   "source": [
    "x"
   ]
  },
  {
   "cell_type": "code",
   "execution_count": 8,
   "id": "05ccf552",
   "metadata": {},
   "outputs": [
    {
     "data": {
      "text/plain": [
       "array([[0, 1],\n",
       "       [3, 4],\n",
       "       [6, 7]])"
      ]
     },
     "execution_count": 8,
     "metadata": {},
     "output_type": "execute_result"
    }
   ],
   "source": [
    "x[:, :2]"
   ]
  },
  {
   "cell_type": "code",
   "execution_count": 9,
   "id": "db7428bc",
   "metadata": {},
   "outputs": [
    {
     "data": {
      "text/plain": [
       "36"
      ]
     },
     "execution_count": 9,
     "metadata": {},
     "output_type": "execute_result"
    }
   ],
   "source": [
    "x.sum()"
   ]
  },
  {
   "cell_type": "code",
   "execution_count": 10,
   "id": "73a03f08",
   "metadata": {},
   "outputs": [
    {
     "data": {
      "text/plain": [
       "4.0"
      ]
     },
     "execution_count": 10,
     "metadata": {},
     "output_type": "execute_result"
    }
   ],
   "source": [
    "x.mean()"
   ]
  },
  {
   "cell_type": "code",
   "execution_count": 11,
   "id": "85580a5c",
   "metadata": {},
   "outputs": [
    {
     "data": {
      "text/plain": [
       "8"
      ]
     },
     "execution_count": 11,
     "metadata": {},
     "output_type": "execute_result"
    }
   ],
   "source": [
    "x.max()"
   ]
  },
  {
   "cell_type": "code",
   "execution_count": 12,
   "id": "47a73adf",
   "metadata": {},
   "outputs": [
    {
     "data": {
      "text/plain": [
       "0"
      ]
     },
     "execution_count": 12,
     "metadata": {},
     "output_type": "execute_result"
    }
   ],
   "source": [
    "x.min()"
   ]
  },
  {
   "cell_type": "code",
   "execution_count": 13,
   "id": "0d950888",
   "metadata": {},
   "outputs": [
    {
     "data": {
      "text/plain": [
       "2.581988897471611"
      ]
     },
     "execution_count": 13,
     "metadata": {},
     "output_type": "execute_result"
    }
   ],
   "source": [
    "x.std()"
   ]
  },
  {
   "cell_type": "code",
   "execution_count": 48,
   "id": "bd0781f7",
   "metadata": {},
   "outputs": [
    {
     "data": {
      "text/plain": [
       "6.666666666666667"
      ]
     },
     "execution_count": 48,
     "metadata": {},
     "output_type": "execute_result"
    }
   ],
   "source": [
    "x.var()"
   ]
  },
  {
   "cell_type": "code",
   "execution_count": 67,
   "id": "6c31c696",
   "metadata": {},
   "outputs": [
    {
     "data": {
      "text/plain": [
       "(array([ 9, 12, 15]), array([ 9, 12, 15]), 36)"
      ]
     },
     "execution_count": 67,
     "metadata": {},
     "output_type": "execute_result"
    }
   ],
   "source": [
    "a0, a1, aa = x.sum(axis=0), x.sum(axis=0), x.sum()\n",
    "a0, a1, aa"
   ]
  },
  {
   "cell_type": "code",
   "execution_count": 71,
   "id": "206117c2",
   "metadata": {},
   "outputs": [
    {
     "data": {
      "text/plain": [
       "([9, 12, 15], [9, 12, 15], 36)"
      ]
     },
     "execution_count": 71,
     "metadata": {},
     "output_type": "execute_result"
    }
   ],
   "source": [
    "a0.tolist(), a1.tolist(), aa"
   ]
  },
  {
   "cell_type": "code",
   "execution_count": 88,
   "id": "8cecc023",
   "metadata": {},
   "outputs": [
    {
     "data": {
      "text/plain": [
       "[[3.0, 4.0, 5.0], [1.0, 4.0, 7.0], 4.0]"
      ]
     },
     "execution_count": 88,
     "metadata": {},
     "output_type": "execute_result"
    }
   ],
   "source": [
    "m0, m1, ma = x.mean(axis=0), x.mean(axis=1), x.mean()\n",
    "mean = [m0.tolist(), m1.tolist(), ma]\n",
    "mean"
   ]
  },
  {
   "cell_type": "code",
   "execution_count": 89,
   "id": "2167208e",
   "metadata": {},
   "outputs": [
    {
     "data": {
      "text/plain": [
       "[[6.0, 6.0, 6.0],\n",
       " [0.6666666666666666, 0.6666666666666666, 0.6666666666666666],\n",
       " 6.666666666666667]"
      ]
     },
     "execution_count": 89,
     "metadata": {},
     "output_type": "execute_result"
    }
   ],
   "source": [
    "v0, v1, va = x.var(axis=0), x.var(axis=1), x.var()\n",
    "variance = [v0.tolist(), v1.tolist(), va]\n",
    "variance"
   ]
  },
  {
   "cell_type": "code",
   "execution_count": 90,
   "id": "20eac5c8",
   "metadata": {},
   "outputs": [
    {
     "data": {
      "text/plain": [
       "[[2.449489742783178, 2.449489742783178, 2.449489742783178],\n",
       " [0.816496580927726, 0.816496580927726, 0.816496580927726],\n",
       " 2.581988897471611]"
      ]
     },
     "execution_count": 90,
     "metadata": {},
     "output_type": "execute_result"
    }
   ],
   "source": [
    "std0, std1, stda = x.std(axis=0), x.std(axis=1), x.std()\n",
    "std = [std0.tolist(), std1.tolist(), stda]\n",
    "std"
   ]
  },
  {
   "cell_type": "code",
   "execution_count": 100,
   "id": "677e6bf8",
   "metadata": {},
   "outputs": [
    {
     "data": {
      "text/plain": [
       "[[6, 7, 8], [2, 5, 8], 8]"
      ]
     },
     "execution_count": 100,
     "metadata": {},
     "output_type": "execute_result"
    }
   ],
   "source": [
    "max0, max1, maxa = x.max(axis=0), x.max(axis=1), x.max()\n",
    "maximum= [max0.tolist(), max1.tolist(), maxa]\n",
    "maximum"
   ]
  },
  {
   "cell_type": "code",
   "execution_count": 102,
   "id": "df8c5a86",
   "metadata": {},
   "outputs": [
    {
     "data": {
      "text/plain": [
       "[[0, 1, 2], [0, 3, 6], 0]"
      ]
     },
     "execution_count": 102,
     "metadata": {},
     "output_type": "execute_result"
    }
   ],
   "source": [
    "min0, min1, mina = x.min(axis=0), x.min(axis=1), x.min()\n",
    "minimum = [min0.tolist(), min1.tolist(), mina]\n",
    "minimum"
   ]
  },
  {
   "cell_type": "code",
   "execution_count": 103,
   "id": "c8812cb5",
   "metadata": {},
   "outputs": [
    {
     "data": {
      "text/plain": [
       "[[9, 12, 15], [3, 12, 21], 36]"
      ]
     },
     "execution_count": 103,
     "metadata": {},
     "output_type": "execute_result"
    }
   ],
   "source": [
    "sum0, sum1, suma = x.sum(axis=0), x.sum(axis=1), x.sum()\n",
    "summation = [sum0.tolist(), sum1.tolist(), suma]\n",
    "summation"
   ]
  },
  {
   "cell_type": "code",
   "execution_count": 104,
   "id": "0d09b80a",
   "metadata": {},
   "outputs": [],
   "source": [
    "expected = {'mean':mean, \n",
    "            'variance':variance, \n",
    "            'standard deviation':std, \n",
    "           'max': maximum,\n",
    "           'min': minimum,\n",
    "           'sum': summation}"
   ]
  },
  {
   "cell_type": "code",
   "execution_count": 105,
   "id": "4c89ad3e",
   "metadata": {},
   "outputs": [
    {
     "data": {
      "text/plain": [
       "{'mean': [[3.0, 4.0, 5.0], [1.0, 4.0, 7.0], 4.0],\n",
       " 'variance': [[6.0, 6.0, 6.0],\n",
       "  [0.6666666666666666, 0.6666666666666666, 0.6666666666666666],\n",
       "  6.666666666666667],\n",
       " 'standard deviation': [[2.449489742783178,\n",
       "   2.449489742783178,\n",
       "   2.449489742783178],\n",
       "  [0.816496580927726, 0.816496580927726, 0.816496580927726],\n",
       "  2.581988897471611],\n",
       " 'max': [[6, 7, 8], [2, 5, 8], 8],\n",
       " 'min': [[0, 1, 2], [0, 3, 6], 0],\n",
       " 'sum': [[9, 12, 15], [3, 12, 21], 36]}"
      ]
     },
     "execution_count": 105,
     "metadata": {},
     "output_type": "execute_result"
    }
   ],
   "source": [
    "expected"
   ]
  },
  {
   "cell_type": "code",
   "execution_count": 40,
   "id": "a5a85caf",
   "metadata": {},
   "outputs": [
    {
     "ename": "SyntaxError",
     "evalue": "invalid syntax (<ipython-input-40-e0e7c5cc3df3>, line 1)",
     "output_type": "error",
     "traceback": [
      "\u001b[0;36m  File \u001b[0;32m\"<ipython-input-40-e0e7c5cc3df3>\"\u001b[0;36m, line \u001b[0;32m1\u001b[0m\n\u001b[0;31m    array to list\u001b[0m\n\u001b[0m          ^\u001b[0m\n\u001b[0;31mSyntaxError\u001b[0m\u001b[0;31m:\u001b[0m invalid syntax\n"
     ]
    }
   ],
   "source": [
    "array to list"
   ]
  },
  {
   "cell_type": "code",
   "execution_count": null,
   "id": "db065eb2",
   "metadata": {},
   "outputs": [],
   "source": []
  }
 ],
 "metadata": {
  "kernelspec": {
   "display_name": "Python 3",
   "language": "python",
   "name": "python3"
  },
  "language_info": {
   "codemirror_mode": {
    "name": "ipython",
    "version": 3
   },
   "file_extension": ".py",
   "mimetype": "text/x-python",
   "name": "python",
   "nbconvert_exporter": "python",
   "pygments_lexer": "ipython3",
   "version": "3.9.5"
  },
  "latex_envs": {
   "LaTeX_envs_menu_present": true,
   "autoclose": false,
   "autocomplete": true,
   "bibliofile": "biblio.bib",
   "cite_by": "apalike",
   "current_citInitial": 1,
   "eqLabelWithNumbers": true,
   "eqNumInitial": 1,
   "hotkeys": {
    "equation": "Ctrl-E",
    "itemize": "Ctrl-I"
   },
   "labels_anchors": false,
   "latex_user_defs": false,
   "report_style_numbering": false,
   "user_envs_cfg": false
  },
  "nbTranslate": {
   "displayLangs": [
    "*"
   ],
   "hotkey": "alt-t",
   "langInMainMenu": true,
   "sourceLang": "en",
   "targetLang": "fr",
   "useGoogleTranslate": true
  },
  "toc": {
   "base_numbering": 1,
   "nav_menu": {},
   "number_sections": true,
   "sideBar": true,
   "skip_h1_title": false,
   "title_cell": "Table of Contents",
   "title_sidebar": "Contents",
   "toc_cell": false,
   "toc_position": {},
   "toc_section_display": true,
   "toc_window_display": false
  },
  "varInspector": {
   "cols": {
    "lenName": 16,
    "lenType": 16,
    "lenVar": 40
   },
   "kernels_config": {
    "python": {
     "delete_cmd_postfix": "",
     "delete_cmd_prefix": "del ",
     "library": "var_list.py",
     "varRefreshCmd": "print(var_dic_list())"
    },
    "r": {
     "delete_cmd_postfix": ") ",
     "delete_cmd_prefix": "rm(",
     "library": "var_list.r",
     "varRefreshCmd": "cat(var_dic_list()) "
    }
   },
   "types_to_exclude": [
    "module",
    "function",
    "builtin_function_or_method",
    "instance",
    "_Feature"
   ],
   "window_display": false
  }
 },
 "nbformat": 4,
 "nbformat_minor": 5
}
