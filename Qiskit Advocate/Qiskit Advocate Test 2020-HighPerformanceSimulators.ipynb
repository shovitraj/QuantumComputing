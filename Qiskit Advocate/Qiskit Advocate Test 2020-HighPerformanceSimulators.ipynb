{
 "cells": [
  {
   "cell_type": "markdown",
   "metadata": {},
   "source": [
    "# Instructions\n",
    "This is the Qiskit Advocate Test notebook. You will need to write and execute Qiskit code to answer several questions in this test. Once you have answered all the questions, you will need to submit the test for grading. You will be informed via email of you application outcome shortly after the end of application period.\n",
    "\n",
    "**This notebook only runs correctly using Jupyter notebook. It is currently incompatible with Jupyter lab.**\n",
    "\n",
    "In order to use this notebook, please follow these instructions.\n",
    "1. Run the cell below to install any dependencies of this notebook including `qiskit`, `metakernel`, `portalocker` and `matplotlib`. Make sure you install Qiskit version `0.19.6` for the test.\n",
    "1. Fill out your name in the `Personal Information` section below and run that cell. Make sure you get the output `Done`.\n",
    "1. To see the questions for each section, run the line that looks like `%activity questions/section`. You can go back and forth and select different answers. \n",
    "1. There are **30 questions** throughout this test. Your answers to each question are stored as soon as you select a choice, and are not erased if you re-start a section of questions.\n",
    "1. You can change your answers as many times as you'd like. All answers will be stored but **only the last answer will be graded**.\n",
    "1. To submit your answers, run the `Submit` cell. This will generate a file named `answers_yourname.zip`. Please attach this file to the advocate application form.\n",
    "\n",
    "The primary reference materials for the test are [Qiskit Tutorials](https://qiskit.org/documentation/tutorials/circuits/index.html) and [Qiskit Documentation](https://qiskit.org/documentation/). In addtion, [Qiskit Textbook](https://qiskit.org/textbook/preface.html), [Coding with Qiskit](https://www.youtube.com/playlist?list=PLOFEBzvs-Vvp2xg9-POLJhQwtVktlYGbY), [Qiskit Live Circuit Sessions](https://www.youtube.com/playlist?list=PLOFEBzvs-VvrRlVz7wqaqmaMZj_ZK2Afe) and [1 Minute Qiskit](https://www.youtube.com/playlist?list=PLOFEBzvs-VvpOCmJ9BonUhf7NYB4d1p0e) are also good source of reference. If you have any questions please reach out in the `qiskit-advocates-help` channel on Qiskit Slack."
   ]
  },
  {
   "cell_type": "code",
   "execution_count": 1,
   "metadata": {},
   "outputs": [
    {
     "name": "stdout",
     "output_type": "stream",
     "text": [
      "Requirement already up-to-date: qiskit==0.19.6 in /opt/anaconda3/lib/python3.7/site-packages (0.19.6)\n",
      "Requirement already satisfied, skipping upgrade: qiskit-aer==0.5.2 in /opt/anaconda3/lib/python3.7/site-packages (from qiskit==0.19.6) (0.5.2)\n",
      "Requirement already satisfied, skipping upgrade: qiskit-aqua==0.7.3 in /opt/anaconda3/lib/python3.7/site-packages (from qiskit==0.19.6) (0.7.3)\n",
      "Requirement already satisfied, skipping upgrade: qiskit-ignis==0.3.3 in /opt/anaconda3/lib/python3.7/site-packages (from qiskit==0.19.6) (0.3.3)\n",
      "Requirement already satisfied, skipping upgrade: qiskit-terra==0.14.2 in /opt/anaconda3/lib/python3.7/site-packages (from qiskit==0.19.6) (0.14.2)\n",
      "Requirement already satisfied, skipping upgrade: qiskit-ibmq-provider==0.7.2 in /opt/anaconda3/lib/python3.7/site-packages (from qiskit==0.19.6) (0.7.2)\n",
      "Requirement already satisfied, skipping upgrade: scipy>=1.0; python_version > \"3.5\" in /opt/anaconda3/lib/python3.7/site-packages (from qiskit-aer==0.5.2->qiskit==0.19.6) (1.5.1)\n",
      "Requirement already satisfied, skipping upgrade: cython>=0.27.1 in /opt/anaconda3/lib/python3.7/site-packages (from qiskit-aer==0.5.2->qiskit==0.19.6) (0.29.15)\n",
      "Requirement already satisfied, skipping upgrade: pybind11>=2.4 in /opt/anaconda3/lib/python3.7/site-packages (from qiskit-aer==0.5.2->qiskit==0.19.6) (2.5.0)\n",
      "Requirement already satisfied, skipping upgrade: numpy>=1.16.3; python_version > \"3.5\" in /opt/anaconda3/lib/python3.7/site-packages (from qiskit-aer==0.5.2->qiskit==0.19.6) (1.18.1)\n",
      "Requirement already satisfied, skipping upgrade: pyscf; sys_platform != \"win32\" in /opt/anaconda3/lib/python3.7/site-packages (from qiskit-aqua==0.7.3->qiskit==0.19.6) (1.7.3)\n",
      "Requirement already satisfied, skipping upgrade: dlx in /opt/anaconda3/lib/python3.7/site-packages (from qiskit-aqua==0.7.3->qiskit==0.19.6) (1.0.4)\n",
      "Requirement already satisfied, skipping upgrade: scikit-learn>=0.20.0 in /opt/anaconda3/lib/python3.7/site-packages (from qiskit-aqua==0.7.3->qiskit==0.19.6) (0.22.1)\n",
      "Requirement already satisfied, skipping upgrade: networkx>=2.2 in /opt/anaconda3/lib/python3.7/site-packages (from qiskit-aqua==0.7.3->qiskit==0.19.6) (2.4)\n",
      "Requirement already satisfied, skipping upgrade: psutil>=5 in /opt/anaconda3/lib/python3.7/site-packages (from qiskit-aqua==0.7.3->qiskit==0.19.6) (5.6.7)\n",
      "Requirement already satisfied, skipping upgrade: fastdtw in /opt/anaconda3/lib/python3.7/site-packages (from qiskit-aqua==0.7.3->qiskit==0.19.6) (0.3.4)\n",
      "Requirement already satisfied, skipping upgrade: quandl in /opt/anaconda3/lib/python3.7/site-packages (from qiskit-aqua==0.7.3->qiskit==0.19.6) (3.5.1)\n",
      "Requirement already satisfied, skipping upgrade: docplex in /opt/anaconda3/lib/python3.7/site-packages (from qiskit-aqua==0.7.3->qiskit==0.19.6) (2.15.194)\n",
      "Requirement already satisfied, skipping upgrade: setuptools>=40.1.0 in /opt/anaconda3/lib/python3.7/site-packages (from qiskit-aqua==0.7.3->qiskit==0.19.6) (46.0.0.post20200309)\n",
      "Requirement already satisfied, skipping upgrade: h5py in /opt/anaconda3/lib/python3.7/site-packages (from qiskit-aqua==0.7.3->qiskit==0.19.6) (2.10.0)\n",
      "Requirement already satisfied, skipping upgrade: sympy>=1.3 in /opt/anaconda3/lib/python3.7/site-packages (from qiskit-aqua==0.7.3->qiskit==0.19.6) (1.6.1)\n",
      "Requirement already satisfied, skipping upgrade: jsonschema>=2.6 in /opt/anaconda3/lib/python3.7/site-packages (from qiskit-terra==0.14.2->qiskit==0.19.6) (3.2.0)\n",
      "Requirement already satisfied, skipping upgrade: marshmallow<4,>=3 in /opt/anaconda3/lib/python3.7/site-packages (from qiskit-terra==0.14.2->qiskit==0.19.6) (3.7.0)\n",
      "Requirement already satisfied, skipping upgrade: python-constraint>=1.4 in /opt/anaconda3/lib/python3.7/site-packages (from qiskit-terra==0.14.2->qiskit==0.19.6) (1.4.0)\n",
      "Requirement already satisfied, skipping upgrade: marshmallow-polyfield<6,>=5.7 in /opt/anaconda3/lib/python3.7/site-packages (from qiskit-terra==0.14.2->qiskit==0.19.6) (5.9)\n",
      "Requirement already satisfied, skipping upgrade: ply>=3.10 in /opt/anaconda3/lib/python3.7/site-packages (from qiskit-terra==0.14.2->qiskit==0.19.6) (3.11)\n",
      "Requirement already satisfied, skipping upgrade: python-dateutil>=2.8.0 in /opt/anaconda3/lib/python3.7/site-packages (from qiskit-terra==0.14.2->qiskit==0.19.6) (2.8.1)\n",
      "Requirement already satisfied, skipping upgrade: fastjsonschema>=2.10 in /opt/anaconda3/lib/python3.7/site-packages (from qiskit-terra==0.14.2->qiskit==0.19.6) (2.14.4)\n",
      "Requirement already satisfied, skipping upgrade: retworkx>=0.3.2 in /opt/anaconda3/lib/python3.7/site-packages (from qiskit-terra==0.14.2->qiskit==0.19.6) (0.4.0)\n",
      "Requirement already satisfied, skipping upgrade: dill>=0.3 in /opt/anaconda3/lib/python3.7/site-packages (from qiskit-terra==0.14.2->qiskit==0.19.6) (0.3.2)\n",
      "Requirement already satisfied, skipping upgrade: requests-ntlm>=1.1.0 in /opt/anaconda3/lib/python3.7/site-packages (from qiskit-ibmq-provider==0.7.2->qiskit==0.19.6) (1.1.0)\n",
      "Requirement already satisfied, skipping upgrade: urllib3>=1.21.1 in /opt/anaconda3/lib/python3.7/site-packages (from qiskit-ibmq-provider==0.7.2->qiskit==0.19.6) (1.25.8)\n",
      "Requirement already satisfied, skipping upgrade: websockets<8,>=7 in /opt/anaconda3/lib/python3.7/site-packages (from qiskit-ibmq-provider==0.7.2->qiskit==0.19.6) (7.0)\n",
      "Requirement already satisfied, skipping upgrade: nest-asyncio!=1.1.0,>=1.0.0 in /opt/anaconda3/lib/python3.7/site-packages (from qiskit-ibmq-provider==0.7.2->qiskit==0.19.6) (1.4.0)\n",
      "Requirement already satisfied, skipping upgrade: requests>=2.19 in /opt/anaconda3/lib/python3.7/site-packages (from qiskit-ibmq-provider==0.7.2->qiskit==0.19.6) (2.22.0)\n",
      "Requirement already satisfied, skipping upgrade: joblib>=0.11 in /opt/anaconda3/lib/python3.7/site-packages (from scikit-learn>=0.20.0->qiskit-aqua==0.7.3->qiskit==0.19.6) (0.14.1)\n",
      "Requirement already satisfied, skipping upgrade: decorator>=4.3.0 in /opt/anaconda3/lib/python3.7/site-packages (from networkx>=2.2->qiskit-aqua==0.7.3->qiskit==0.19.6) (4.4.1)\n",
      "Requirement already satisfied, skipping upgrade: pandas>=0.14 in /opt/anaconda3/lib/python3.7/site-packages (from quandl->qiskit-aqua==0.7.3->qiskit==0.19.6) (1.0.1)\n",
      "Requirement already satisfied, skipping upgrade: inflection>=0.3.1 in /opt/anaconda3/lib/python3.7/site-packages (from quandl->qiskit-aqua==0.7.3->qiskit==0.19.6) (0.5.0)\n",
      "Requirement already satisfied, skipping upgrade: more-itertools in /opt/anaconda3/lib/python3.7/site-packages (from quandl->qiskit-aqua==0.7.3->qiskit==0.19.6) (8.2.0)\n",
      "Requirement already satisfied, skipping upgrade: six in /opt/anaconda3/lib/python3.7/site-packages (from quandl->qiskit-aqua==0.7.3->qiskit==0.19.6) (1.14.0)\n",
      "Requirement already satisfied, skipping upgrade: mpmath>=0.19 in /opt/anaconda3/lib/python3.7/site-packages (from sympy>=1.3->qiskit-aqua==0.7.3->qiskit==0.19.6) (1.1.0)\n",
      "Requirement already satisfied, skipping upgrade: pyrsistent>=0.14.0 in /opt/anaconda3/lib/python3.7/site-packages (from jsonschema>=2.6->qiskit-terra==0.14.2->qiskit==0.19.6) (0.15.7)\n",
      "Requirement already satisfied, skipping upgrade: attrs>=17.4.0 in /opt/anaconda3/lib/python3.7/site-packages (from jsonschema>=2.6->qiskit-terra==0.14.2->qiskit==0.19.6) (19.3.0)\n",
      "Requirement already satisfied, skipping upgrade: importlib-metadata; python_version < \"3.8\" in /opt/anaconda3/lib/python3.7/site-packages (from jsonschema>=2.6->qiskit-terra==0.14.2->qiskit==0.19.6) (1.5.0)\n",
      "Requirement already satisfied, skipping upgrade: cryptography>=1.3 in /opt/anaconda3/lib/python3.7/site-packages (from requests-ntlm>=1.1.0->qiskit-ibmq-provider==0.7.2->qiskit==0.19.6) (2.8)\n",
      "Requirement already satisfied, skipping upgrade: ntlm-auth>=1.0.2 in /opt/anaconda3/lib/python3.7/site-packages (from requests-ntlm>=1.1.0->qiskit-ibmq-provider==0.7.2->qiskit==0.19.6) (1.5.0)\n",
      "Requirement already satisfied, skipping upgrade: certifi>=2017.4.17 in /opt/anaconda3/lib/python3.7/site-packages (from requests>=2.19->qiskit-ibmq-provider==0.7.2->qiskit==0.19.6) (2020.6.20)\n",
      "Requirement already satisfied, skipping upgrade: chardet<3.1.0,>=3.0.2 in /opt/anaconda3/lib/python3.7/site-packages (from requests>=2.19->qiskit-ibmq-provider==0.7.2->qiskit==0.19.6) (3.0.4)\n",
      "Requirement already satisfied, skipping upgrade: idna<2.9,>=2.5 in /opt/anaconda3/lib/python3.7/site-packages (from requests>=2.19->qiskit-ibmq-provider==0.7.2->qiskit==0.19.6) (2.8)\n",
      "Requirement already satisfied, skipping upgrade: pytz>=2017.2 in /opt/anaconda3/lib/python3.7/site-packages (from pandas>=0.14->quandl->qiskit-aqua==0.7.3->qiskit==0.19.6) (2019.3)\n",
      "Requirement already satisfied, skipping upgrade: zipp>=0.5 in /opt/anaconda3/lib/python3.7/site-packages (from importlib-metadata; python_version < \"3.8\"->jsonschema>=2.6->qiskit-terra==0.14.2->qiskit==0.19.6) (2.2.0)\n",
      "Requirement already satisfied, skipping upgrade: cffi!=1.11.3,>=1.8 in /opt/anaconda3/lib/python3.7/site-packages (from cryptography>=1.3->requests-ntlm>=1.1.0->qiskit-ibmq-provider==0.7.2->qiskit==0.19.6) (1.14.0)\n",
      "Requirement already satisfied, skipping upgrade: pycparser in /opt/anaconda3/lib/python3.7/site-packages (from cffi!=1.11.3,>=1.8->cryptography>=1.3->requests-ntlm>=1.1.0->qiskit-ibmq-provider==0.7.2->qiskit==0.19.6) (2.19)\n"
     ]
    },
    {
     "name": "stdout",
     "output_type": "stream",
     "text": [
      "Requirement already up-to-date: metakernel in /opt/anaconda3/lib/python3.7/site-packages (0.24.4)\n",
      "Requirement already satisfied, skipping upgrade: pexpect>=4.2 in /opt/anaconda3/lib/python3.7/site-packages (from metakernel) (4.8.0)\n",
      "Requirement already satisfied, skipping upgrade: ipykernel in /opt/anaconda3/lib/python3.7/site-packages (from metakernel) (5.1.4)\n",
      "Requirement already satisfied, skipping upgrade: ptyprocess>=0.5 in /opt/anaconda3/lib/python3.7/site-packages (from pexpect>=4.2->metakernel) (0.6.0)\n",
      "Requirement already satisfied, skipping upgrade: traitlets>=4.1.0 in /opt/anaconda3/lib/python3.7/site-packages (from ipykernel->metakernel) (4.3.3)\n",
      "Requirement already satisfied, skipping upgrade: jupyter-client in /opt/anaconda3/lib/python3.7/site-packages (from ipykernel->metakernel) (5.3.4)\n",
      "Requirement already satisfied, skipping upgrade: ipython>=5.0.0 in /opt/anaconda3/lib/python3.7/site-packages (from ipykernel->metakernel) (7.12.0)\n",
      "Requirement already satisfied, skipping upgrade: tornado>=4.2 in /opt/anaconda3/lib/python3.7/site-packages (from ipykernel->metakernel) (6.0.3)\n",
      "Requirement already satisfied, skipping upgrade: appnope; platform_system == \"Darwin\" in /opt/anaconda3/lib/python3.7/site-packages (from ipykernel->metakernel) (0.1.0)\n",
      "Requirement already satisfied, skipping upgrade: ipython-genutils in /opt/anaconda3/lib/python3.7/site-packages (from traitlets>=4.1.0->ipykernel->metakernel) (0.2.0)\n",
      "Requirement already satisfied, skipping upgrade: decorator in /opt/anaconda3/lib/python3.7/site-packages (from traitlets>=4.1.0->ipykernel->metakernel) (4.4.1)\n",
      "Requirement already satisfied, skipping upgrade: six in /opt/anaconda3/lib/python3.7/site-packages (from traitlets>=4.1.0->ipykernel->metakernel) (1.14.0)\n",
      "Requirement already satisfied, skipping upgrade: pyzmq>=13 in /opt/anaconda3/lib/python3.7/site-packages (from jupyter-client->ipykernel->metakernel) (18.1.1)\n",
      "Requirement already satisfied, skipping upgrade: jupyter-core>=4.6.0 in /opt/anaconda3/lib/python3.7/site-packages (from jupyter-client->ipykernel->metakernel) (4.6.1)\n",
      "Requirement already satisfied, skipping upgrade: python-dateutil>=2.1 in /opt/anaconda3/lib/python3.7/site-packages (from jupyter-client->ipykernel->metakernel) (2.8.1)\n",
      "Requirement already satisfied, skipping upgrade: prompt-toolkit!=3.0.0,!=3.0.1,<3.1.0,>=2.0.0 in /opt/anaconda3/lib/python3.7/site-packages (from ipython>=5.0.0->ipykernel->metakernel) (3.0.3)\n",
      "Requirement already satisfied, skipping upgrade: backcall in /opt/anaconda3/lib/python3.7/site-packages (from ipython>=5.0.0->ipykernel->metakernel) (0.1.0)\n",
      "Requirement already satisfied, skipping upgrade: pickleshare in /opt/anaconda3/lib/python3.7/site-packages (from ipython>=5.0.0->ipykernel->metakernel) (0.7.5)\n",
      "Requirement already satisfied, skipping upgrade: setuptools>=18.5 in /opt/anaconda3/lib/python3.7/site-packages (from ipython>=5.0.0->ipykernel->metakernel) (46.0.0.post20200309)\n",
      "Requirement already satisfied, skipping upgrade: pygments in /opt/anaconda3/lib/python3.7/site-packages (from ipython>=5.0.0->ipykernel->metakernel) (2.5.2)\n",
      "Requirement already satisfied, skipping upgrade: jedi>=0.10 in /opt/anaconda3/lib/python3.7/site-packages (from ipython>=5.0.0->ipykernel->metakernel) (0.14.1)\n",
      "Requirement already satisfied, skipping upgrade: wcwidth in /opt/anaconda3/lib/python3.7/site-packages (from prompt-toolkit!=3.0.0,!=3.0.1,<3.1.0,>=2.0.0->ipython>=5.0.0->ipykernel->metakernel) (0.1.8)\n",
      "Requirement already satisfied, skipping upgrade: parso>=0.5.0 in /opt/anaconda3/lib/python3.7/site-packages (from jedi>=0.10->ipython>=5.0.0->ipykernel->metakernel) (0.5.2)\n",
      "Requirement already up-to-date: portalocker in /opt/anaconda3/lib/python3.7/site-packages (2.0.0)\n",
      "Requirement already up-to-date: matplotlib in /opt/anaconda3/lib/python3.7/site-packages (3.3.1)\n",
      "Requirement already satisfied, skipping upgrade: pillow>=6.2.0 in /opt/anaconda3/lib/python3.7/site-packages (from matplotlib) (7.0.0)\n",
      "Requirement already satisfied, skipping upgrade: pyparsing!=2.0.4,!=2.1.2,!=2.1.6,>=2.0.3 in /opt/anaconda3/lib/python3.7/site-packages (from matplotlib) (2.4.6)\n",
      "Requirement already satisfied, skipping upgrade: numpy>=1.15 in /opt/anaconda3/lib/python3.7/site-packages (from matplotlib) (1.18.1)\n",
      "Requirement already satisfied, skipping upgrade: certifi>=2020.06.20 in /opt/anaconda3/lib/python3.7/site-packages (from matplotlib) (2020.6.20)\n",
      "Requirement already satisfied, skipping upgrade: python-dateutil>=2.1 in /opt/anaconda3/lib/python3.7/site-packages (from matplotlib) (2.8.1)\n",
      "Requirement already satisfied, skipping upgrade: kiwisolver>=1.0.1 in /opt/anaconda3/lib/python3.7/site-packages (from matplotlib) (1.1.0)\n",
      "Requirement already satisfied, skipping upgrade: cycler>=0.10 in /opt/anaconda3/lib/python3.7/site-packages (from matplotlib) (0.10.0)\n",
      "Requirement already satisfied, skipping upgrade: six>=1.5 in /opt/anaconda3/lib/python3.7/site-packages (from python-dateutil>=2.1->matplotlib) (1.14.0)\n",
      "Requirement already satisfied, skipping upgrade: setuptools in /opt/anaconda3/lib/python3.7/site-packages (from kiwisolver>=1.0.1->matplotlib) (46.0.0.post20200309)\n"
     ]
    }
   ],
   "source": [
    "# install dependencies\n",
    "!pip install --upgrade qiskit==0.19.6 \n",
    "!pip install --upgrade metakernel\n",
    "!pip install --upgrade portalocker\n",
    "!pip install --upgrade matplotlib"
   ]
  },
  {
   "cell_type": "code",
   "execution_count": 2,
   "metadata": {},
   "outputs": [
    {
     "name": "stdout",
     "output_type": "stream",
     "text": [
      "You are now running Qiskit with the following version numbers\n",
      "{'qiskit-terra': '0.14.2', 'qiskit-aer': '0.5.2', 'qiskit-ignis': '0.3.3', 'qiskit-ibmq-provider': '0.7.2', 'qiskit-aqua': '0.7.3', 'qiskit': '0.19.6'}\n"
     ]
    }
   ],
   "source": [
    "from metakernel import register_ipython_magics\n",
    "register_ipython_magics()\n",
    "\n",
    "from IPython.display import clear_output\n",
    "clear_output()\n",
    "\n",
    "import qiskit\n",
    "version_info = qiskit.__qiskit_version__\n",
    "print(\"You are now running Qiskit with the following version numbers\")\n",
    "print(version_info)"
   ]
  },
  {
   "cell_type": "markdown",
   "metadata": {},
   "source": [
    "# Personal Information"
   ]
  },
  {
   "cell_type": "code",
   "execution_count": 3,
   "metadata": {},
   "outputs": [
    {
     "name": "stdout",
     "output_type": "stream",
     "text": [
      "Done\n"
     ]
    }
   ],
   "source": [
    "your_name = \"Shovit Bhari\" # insert your name here between the quotes\n",
    "\n",
    "import os\n",
    "try:\n",
    "    assert(your_name != '')\n",
    "    answer_dir = 'answers/'\n",
    "    if not os.path.isdir(answer_dir):\n",
    "        os.mkdir(answer_dir)\n",
    "    open(answer_dir + 'taker_info.txt', 'w').write('name = {}\\nversion_info = {}'.format(your_name, version_info))\n",
    "    print('Done')\n",
    "except:\n",
    "    print(\"Error. Please reach out in the #qiskit-advocates-help on Qiskit Slack.\")  "
   ]
  },
  {
   "cell_type": "markdown",
   "metadata": {},
   "source": [
    "---\n",
    "# Space for trying out answers\n",
    "You can add any new cells in this notebook to try to figure out the answers for questions. "
   ]
  },
  {
   "cell_type": "code",
   "execution_count": 4,
   "metadata": {},
   "outputs": [
    {
     "data": {
      "image/png": "[encoded data removed]",
      "text/plain": [
       "<Figure size 173.376x84.28 with 1 Axes>"
      ]
     },
     "execution_count": 4,
     "metadata": {},
     "output_type": "execute_result"
    }
   ],
   "source": [
    "# example\n",
    "from qiskit import QuantumCircuit\n",
    "qc = QuantumCircuit(1)\n",
    "qc.h(0)\n",
    "qc.draw('mpl')"
   ]
  },
  {
   "cell_type": "code",
   "execution_count": 5,
   "metadata": {},
   "outputs": [],
   "source": [
    "import numpy as np\n",
    "\n",
    "from qiskit import Aer, QuantumCircuit, execute\n",
    "from qiskit.visualization import plot_histogram\n",
    "from IPython.display import display, Math, Latex\n",
    "from qiskit import *\n",
    "from math import pi\n",
    "import numpy as np\n",
    "from qiskit.quantum_info import Statevector\n",
    "from qiskit.visualization import plot_bloch_multivector, plot_histogram, plot_state_city, plot_state_qsphere\n",
    "\n",
    "\n",
    "%matplotlib inline\n"
   ]
  },
  {
   "cell_type": "markdown",
   "metadata": {},
   "source": [
    "## High Performance Simulators\n",
    "\n",
    "### Question 1:  [ 0.354+0j, 0.354+0j, 0.354+0j, 0.354+0j, 0.354+0j, 0.354+0j, 0.354+0j, 0.354+0j ]\n",
    "Ans 1\n",
    "\n",
    "\n",
    "### Question 2: qi.Statevector.from_instruction(qc)\n",
    "Ans 1\n",
    "\n",
    "### Question 3: \n",
    "Ans 1\n",
    "\n",
    "### Question 4:\n",
    "\n",
    "### Question 5: 000, 010, 101, 111\n",
    "Ans 4\n",
    "\n",
    "### Question 6: ['00', '01', '11', '11', '10', '00', '01', '10', '01', '00', '10', '11', '01', '01', '01']\n",
    "Ans 3\n",
    "\n",
    "### Question 7:\n",
    "Ans 4\n"
   ]
  },
  {
   "cell_type": "code",
   "execution_count": 6,
   "metadata": {},
   "outputs": [],
   "source": [
    "\n",
    "import numpy as np\n",
    "\n",
    "# Import Qiskit\n",
    "from qiskit import QuantumCircuit, QuantumRegister, ClassicalRegister\n",
    "from qiskit import Aer, execute\n",
    "from qiskit.tools.visualization import plot_histogram, plot_state_city\n",
    "import qiskit.quantum_info as qi\n",
    "from qiskit.providers.aer import QasmSimulator, StatevectorSimulator, UnitarySimulator"
   ]
  },
  {
   "cell_type": "code",
   "execution_count": 7,
   "metadata": {},
   "outputs": [
    {
     "data": {
      "image/png": "[encoded data removed]",
      "text/plain": [
       "<Figure size 238.392x204.68 with 1 Axes>"
      ]
     },
     "execution_count": 7,
     "metadata": {},
     "output_type": "execute_result"
    }
   ],
   "source": [
    "#Question 1\n",
    "# Construct quantum circuit without measure\n",
    "n=3\n",
    "circ = QuantumCircuit(n)\n",
    "for i in range(n):\n",
    "    circ.h(i)\n",
    "\n",
    "circ.draw('mpl')"
   ]
  },
  {
   "cell_type": "code",
   "execution_count": 8,
   "metadata": {},
   "outputs": [
    {
     "data": {
      "text/plain": [
       "Statevector([0.35355339+0.j, 0.35355339+0.j, 0.35355339+0.j,\n",
       "             0.35355339+0.j, 0.35355339+0.j, 0.35355339+0.j,\n",
       "             0.35355339+0.j, 0.35355339+0.j],\n",
       "            dims=(2, 2, 2))"
      ]
     },
     "execution_count": 8,
     "metadata": {},
     "output_type": "execute_result"
    }
   ],
   "source": [
    "\n",
    "# Select the StatevectorSimulator from the Aer provider\n",
    "simulator = Aer.get_backend('statevector_simulator')\n",
    "\n",
    "# Execute and get counts\n",
    "#result = execute(circ, simulator).result()\n",
    "#statevector = result.get_statevector(circ)\n",
    "qi.Statevector.from_instruction(circ)"
   ]
  },
  {
   "cell_type": "code",
   "execution_count": 9,
   "metadata": {},
   "outputs": [
    {
     "data": {
      "text/plain": [
       "Statevector([0.70710678+0.j, 0.        +0.j, 0.        +0.j,\n",
       "             0.70710678+0.j],\n",
       "            dims=(2, 2))"
      ]
     },
     "execution_count": 9,
     "metadata": {},
     "output_type": "execute_result"
    }
   ],
   "source": [
    "#Question 2\n",
    "import qiskit.quantum_info as qi\n",
    "import numpy as np\n",
    "qc = QuantumCircuit(2)\n",
    "qc.h(0)\n",
    "qc.cx(0,1)\n",
    "qi.Statevector.from_instruction(qc)"
   ]
  },
  {
   "cell_type": "code",
   "execution_count": 10,
   "metadata": {},
   "outputs": [
    {
     "data": {
      "image/png": "[encoded data removed]",
      "text/plain": [
       "<Figure size 298.592x144.48 with 1 Axes>"
      ]
     },
     "execution_count": 10,
     "metadata": {},
     "output_type": "execute_result"
    }
   ],
   "source": [
    "#Question 3\n",
    "from qiskit.providers.aer import UnitarySimulator\n",
    "circ = QuantumCircuit(2)\n",
    "circ.x(0)\n",
    "circ.z(0)\n",
    "circ.x(1)\n",
    "\n",
    "circ.draw('mpl')"
   ]
  },
  {
   "cell_type": "code",
   "execution_count": 11,
   "metadata": {},
   "outputs": [
    {
     "name": "stdout",
     "output_type": "stream",
     "text": [
      "Circuit unitary:\n",
      " [[ 0.+0.j  0.+0.j  0.+0.j  1.+0.j]\n",
      " [ 0.+0.j  0.+0.j -1.+0.j  0.+0.j]\n",
      " [ 0.+0.j  1.+0.j  0.+0.j  0.+0.j]\n",
      " [-1.+0.j  0.+0.j  0.+0.j  0.+0.j]]\n"
     ]
    }
   ],
   "source": [
    "# Select the UnitarySimulator from the Aer provider\n",
    "simulator = Aer.get_backend('unitary_simulator')\n",
    "\n",
    "# Execute and get counts\n",
    "result = execute(circ, simulator).result()\n",
    "unitary = result.get_unitary(circ)\n",
    "print(\"Circuit unitary:\\n\", unitary)\n",
    "#Ans"
   ]
  },
  {
   "cell_type": "code",
   "execution_count": 12,
   "metadata": {},
   "outputs": [
    {
     "data": {
      "text/plain": [
       "<qiskit.circuit.instructionset.InstructionSet at 0x7fed39ff64d0>"
      ]
     },
     "execution_count": 12,
     "metadata": {},
     "output_type": "execute_result"
    }
   ],
   "source": [
    "#Question 4\n",
    "import qiskit.quantum_info as qi\n",
    "qc = QuantumCircuit(2)\n",
    "qc.h(0)\n",
    "qc.cx(0,1)"
   ]
  },
  {
   "cell_type": "code",
   "execution_count": 13,
   "metadata": {},
   "outputs": [
    {
     "data": {
      "text/plain": [
       "Operator([[ 0.70710678+0.j,  0.70710678+0.j,  0.        +0.j,\n",
       "            0.        +0.j],\n",
       "          [ 0.        +0.j,  0.        +0.j,  0.70710678+0.j,\n",
       "           -0.70710678+0.j],\n",
       "          [ 0.        +0.j,  0.        +0.j,  0.70710678+0.j,\n",
       "            0.70710678+0.j],\n",
       "          [ 0.70710678+0.j, -0.70710678+0.j,  0.        +0.j,\n",
       "            0.        +0.j]],\n",
       "         input_dims=(2, 2), output_dims=(2, 2))"
      ]
     },
     "execution_count": 13,
     "metadata": {},
     "output_type": "execute_result"
    }
   ],
   "source": [
    "qi.Operator(qc)"
   ]
  },
  {
   "cell_type": "code",
   "execution_count": 14,
   "metadata": {},
   "outputs": [
    {
     "ename": "NameError",
     "evalue": "name 'HGate' is not defined",
     "output_type": "error",
     "traceback": [
      "\u001b[0;31m---------------------------------------------------------------------------\u001b[0m",
      "\u001b[0;31mNameError\u001b[0m                                 Traceback (most recent call last)",
      "\u001b[0;32m<ipython-input-14-07343911ea83>\u001b[0m in \u001b[0;36m<module>\u001b[0;34m\u001b[0m\n\u001b[0;32m----> 1\u001b[0;31m \u001b[0mqi\u001b[0m\u001b[0;34m.\u001b[0m\u001b[0mOperator\u001b[0m\u001b[0;34m.\u001b[0m\u001b[0mfrom_label\u001b[0m\u001b[0;34m(\u001b[0m\u001b[0;34m'II'\u001b[0m\u001b[0;34m)\u001b[0m\u001b[0;34m.\u001b[0m\u001b[0mcompose\u001b[0m\u001b[0;34m(\u001b[0m\u001b[0mHGate\u001b[0m\u001b[0;34m(\u001b[0m\u001b[0;34m)\u001b[0m\u001b[0;34m,\u001b[0m \u001b[0;34m[\u001b[0m\u001b[0;36m0\u001b[0m\u001b[0;34m]\u001b[0m\u001b[0;34m)\u001b[0m\u001b[0;34m.\u001b[0m\u001b[0mcompose\u001b[0m\u001b[0;34m(\u001b[0m\u001b[0mCXGate\u001b[0m\u001b[0;34m(\u001b[0m\u001b[0;34m)\u001b[0m\u001b[0;34m,\u001b[0m \u001b[0;34m[\u001b[0m\u001b[0;36m0\u001b[0m\u001b[0;34m,\u001b[0m \u001b[0;36m1\u001b[0m\u001b[0;34m]\u001b[0m\u001b[0;34m)\u001b[0m\u001b[0;34m\u001b[0m\u001b[0;34m\u001b[0m\u001b[0m\n\u001b[0m",
      "\u001b[0;31mNameError\u001b[0m: name 'HGate' is not defined"
     ]
    }
   ],
   "source": [
    "qi.Operator.from_label('II').compose(HGate(), [0]).compose(CXGate(), [0, 1])"
   ]
  },
  {
   "cell_type": "code",
   "execution_count": 16,
   "metadata": {},
   "outputs": [
    {
     "ename": "QiskitError",
     "evalue": "'Label contains invalid characters.'",
     "output_type": "error",
     "traceback": [
      "\u001b[0;31m---------------------------------------------------------------------------\u001b[0m",
      "\u001b[0;31mQiskitError\u001b[0m                               Traceback (most recent call last)",
      "\u001b[0;32m<ipython-input-16-1c96bd4eb77d>\u001b[0m in \u001b[0;36m<module>\u001b[0;34m\u001b[0m\n\u001b[0;32m----> 1\u001b[0;31m \u001b[0mqi\u001b[0m\u001b[0;34m.\u001b[0m\u001b[0mOperator\u001b[0m\u001b[0;34m.\u001b[0m\u001b[0mfrom_label\u001b[0m\u001b[0;34m(\u001b[0m\u001b[0;34m'HI'\u001b[0m\u001b[0;34m)\u001b[0m \u001b[0;34m+\u001b[0m \u001b[0mqi\u001b[0m\u001b[0;34m.\u001b[0m\u001b[0mOperator\u001b[0m\u001b[0;34m.\u001b[0m\u001b[0mfrom_label\u001b[0m\u001b[0;34m(\u001b[0m\u001b[0;34m'CX'\u001b[0m\u001b[0;34m)\u001b[0m\u001b[0;34m\u001b[0m\u001b[0;34m\u001b[0m\u001b[0m\n\u001b[0m",
      "\u001b[0;32m/opt/anaconda3/lib/python3.7/site-packages/qiskit/quantum_info/operators/operator.py\u001b[0m in \u001b[0;36mfrom_label\u001b[0;34m(cls, label)\u001b[0m\n\u001b[1;32m    176\u001b[0m         }\n\u001b[1;32m    177\u001b[0m         \u001b[0;32mif\u001b[0m \u001b[0mre\u001b[0m\u001b[0;34m.\u001b[0m\u001b[0mmatch\u001b[0m\u001b[0;34m(\u001b[0m\u001b[0;34mr'^[IXYZHST01rl\\-+]+$'\u001b[0m\u001b[0;34m,\u001b[0m \u001b[0mlabel\u001b[0m\u001b[0;34m)\u001b[0m \u001b[0;32mis\u001b[0m \u001b[0;32mNone\u001b[0m\u001b[0;34m:\u001b[0m\u001b[0;34m\u001b[0m\u001b[0;34m\u001b[0m\u001b[0m\n\u001b[0;32m--> 178\u001b[0;31m             \u001b[0;32mraise\u001b[0m \u001b[0mQiskitError\u001b[0m\u001b[0;34m(\u001b[0m\u001b[0;34m'Label contains invalid characters.'\u001b[0m\u001b[0;34m)\u001b[0m\u001b[0;34m\u001b[0m\u001b[0;34m\u001b[0m\u001b[0m\n\u001b[0m\u001b[1;32m    179\u001b[0m         \u001b[0;31m# Initialize an identity matrix and apply each gate\u001b[0m\u001b[0;34m\u001b[0m\u001b[0;34m\u001b[0m\u001b[0;34m\u001b[0m\u001b[0m\n\u001b[1;32m    180\u001b[0m         \u001b[0mnum_qubits\u001b[0m \u001b[0;34m=\u001b[0m \u001b[0mlen\u001b[0m\u001b[0;34m(\u001b[0m\u001b[0mlabel\u001b[0m\u001b[0;34m)\u001b[0m\u001b[0;34m\u001b[0m\u001b[0;34m\u001b[0m\u001b[0m\n",
      "\u001b[0;31mQiskitError\u001b[0m: 'Label contains invalid characters.'"
     ]
    }
   ],
   "source": [
    "qi.Operator.from_label('HI') + qi.Operator.from_label('CX')"
   ]
  },
  {
   "cell_type": "code",
   "execution_count": 17,
   "metadata": {},
   "outputs": [
    {
     "data": {
      "text/plain": [
       "Operator([[ 0.70710678+0.j,  0.70710678+0.j,  0.        +0.j,\n",
       "            0.        +0.j],\n",
       "          [ 0.        +0.j,  0.        +0.j,  0.70710678+0.j,\n",
       "           -0.70710678+0.j],\n",
       "          [ 0.        +0.j,  0.        +0.j,  0.70710678+0.j,\n",
       "            0.70710678+0.j],\n",
       "          [ 0.70710678+0.j, -0.70710678+0.j,  0.        +0.j,\n",
       "            0.        +0.j]],\n",
       "         input_dims=(2, 2), output_dims=(2, 2))"
      ]
     },
     "execution_count": 17,
     "metadata": {},
     "output_type": "execute_result"
    }
   ],
   "source": [
    "qi.Operator.from_label('II').compose(qc)"
   ]
  },
  {
   "cell_type": "code",
   "execution_count": 19,
   "metadata": {},
   "outputs": [
    {
     "name": "stdout",
     "output_type": "stream",
     "text": [
      "['11', '10', '11', '01', '11', '10', '10', '11', '10', '00', '01', '10', '01', '00', '10']\n"
     ]
    }
   ],
   "source": [
    "#Question 6\n",
    "from qiskit.providers.aer import QasmSimulator, StatevectorSimulator, UnitarySimulator\n",
    "qc = QuantumCircuit(2)\n",
    "qc.h([0,1])\n",
    "qc.measure_all()\n",
    "     \n",
    "result = execute(qc, QasmSimulator(), shots=15, memory=True).result()\n",
    "memory = result.get_memory(qc)\n",
    "print(memory)"
   ]
  },
  {
   "cell_type": "markdown",
   "metadata": {},
   "source": [
    "# 7\n",
    "[Clifford Gate](https://qiskit.org/documentation/stubs/qiskit.quantum_info.Clifford.html?highlight=clifford#qiskit.quantum_info.Clifford)\n",
    "\n",
    "\n",
    "RZ is not Clifford\n",
    "\n",
    "Ans: 4"
   ]
  },
  {
   "cell_type": "markdown",
   "metadata": {},
   "source": [
    "# High-Performance Simulators (7 questions)<a name=\"simulators\"></a>\n",
    "Reference:\n",
    "1. [Qiskit Tutorials - High-Performance Simulators](https://qiskit.org/documentation/tutorials/simulators/index.html)\n",
    "1. [Qiskit Documentation - Aer](https://qiskit.org/documentation/apidoc/aer.html)\n",
    "1. [Circuit Sessions - How to simulate a circuit](https://www.youtube.com/watch?v=VvP41TwY34o)"
   ]
  },
  {
   "cell_type": "code",
   "execution_count": 15,
   "metadata": {},
   "outputs": [
    {
     "data": {
      "application/vnd.jupyter.widget-view+json": {
       "model_id": "ca848223d75d417ba1bd96b3f142a80f",
       "version_major": 2,
       "version_minor": 0
      },
      "text/plain": [
       "VBox(children=(HBox(children=(VBox(children=(HTML(value='<p><b>Question ID</b>: 1</p>'), HTML(value='<h1>\\n   …"
      ]
     },
     "metadata": {},
     "output_type": "display_data"
    }
   ],
   "source": [
    "%activity questions/simulators"
   ]
  },
  {
   "cell_type": "code",
   "execution_count": null,
   "metadata": {},
   "outputs": [],
   "source": []
  }
 ],
 "metadata": {
  "kernelspec": {
   "display_name": "Python 3",
   "language": "python",
   "name": "python3"
  },
  "language_info": {
   "codemirror_mode": {
    "name": "ipython",
    "version": 3
   },
   "file_extension": ".py",
   "mimetype": "text/x-python",
   "name": "python",
   "nbconvert_exporter": "python",
   "pygments_lexer": "ipython3",
   "version": "3.7.6"
  }
 },
 "nbformat": 4,
 "nbformat_minor": 4
}
