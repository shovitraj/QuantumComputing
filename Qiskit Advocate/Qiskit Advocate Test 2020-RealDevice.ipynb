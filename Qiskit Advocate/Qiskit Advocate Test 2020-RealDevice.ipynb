{
 "cells": [
  {
   "cell_type": "markdown",
   "metadata": {},
   "source": [
    "# Instructions\n",
    "This is the Qiskit Advocate Test notebook. You will need to write and execute Qiskit code to answer several questions in this test. Once you have answered all the questions, you will need to submit the test for grading. You will be informed via email of you application outcome shortly after the end of application period.\n",
    "\n",
    "**This notebook only runs correctly using Jupyter notebook. It is currently incompatible with Jupyter lab.**\n",
    "\n",
    "In order to use this notebook, please follow these instructions.\n",
    "1. Run the cell below to install any dependencies of this notebook including `qiskit`, `metakernel`, `portalocker` and `matplotlib`. Make sure you install Qiskit version `0.19.6` for the test.\n",
    "1. Fill out your name in the `Personal Information` section below and run that cell. Make sure you get the output `Done`.\n",
    "1. To see the questions for each section, run the line that looks like `%activity questions/section`. You can go back and forth and select different answers. \n",
    "1. There are **30 questions** throughout this test. Your answers to each question are stored as soon as you select a choice, and are not erased if you re-start a section of questions.\n",
    "1. You can change your answers as many times as you'd like. All answers will be stored but **only the last answer will be graded**.\n",
    "1. To submit your answers, run the `Submit` cell. This will generate a file named `answers_yourname.zip`. Please attach this file to the advocate application form.\n",
    "\n",
    "The primary reference materials for the test are [Qiskit Tutorials](https://qiskit.org/documentation/tutorials/circuits/index.html) and [Qiskit Documentation](https://qiskit.org/documentation/). In addtion, [Qiskit Textbook](https://qiskit.org/textbook/preface.html), [Coding with Qiskit](https://www.youtube.com/playlist?list=PLOFEBzvs-Vvp2xg9-POLJhQwtVktlYGbY), [Qiskit Live Circuit Sessions](https://www.youtube.com/playlist?list=PLOFEBzvs-VvrRlVz7wqaqmaMZj_ZK2Afe) and [1 Minute Qiskit](https://www.youtube.com/playlist?list=PLOFEBzvs-VvpOCmJ9BonUhf7NYB4d1p0e) are also good source of reference. If you have any questions please reach out in the `qiskit-advocates-help` channel on Qiskit Slack."
   ]
  },
  {
   "cell_type": "code",
   "execution_count": 1,
   "metadata": {},
   "outputs": [
    {
     "name": "stdout",
     "output_type": "stream",
     "text": [
      "Requirement already up-to-date: qiskit==0.19.6 in /opt/anaconda3/lib/python3.7/site-packages (0.19.6)\n",
      "Requirement already satisfied, skipping upgrade: qiskit-terra==0.14.2 in /opt/anaconda3/lib/python3.7/site-packages (from qiskit==0.19.6) (0.14.2)\n",
      "Requirement already satisfied, skipping upgrade: qiskit-aer==0.5.2 in /opt/anaconda3/lib/python3.7/site-packages (from qiskit==0.19.6) (0.5.2)\n",
      "Requirement already satisfied, skipping upgrade: qiskit-ibmq-provider==0.7.2 in /opt/anaconda3/lib/python3.7/site-packages (from qiskit==0.19.6) (0.7.2)\n",
      "Requirement already satisfied, skipping upgrade: qiskit-ignis==0.3.3 in /opt/anaconda3/lib/python3.7/site-packages (from qiskit==0.19.6) (0.3.3)\n",
      "Requirement already satisfied, skipping upgrade: qiskit-aqua==0.7.3 in /opt/anaconda3/lib/python3.7/site-packages (from qiskit==0.19.6) (0.7.3)\n",
      "Requirement already satisfied, skipping upgrade: python-constraint>=1.4 in /opt/anaconda3/lib/python3.7/site-packages (from qiskit-terra==0.14.2->qiskit==0.19.6) (1.4.0)\n",
      "Requirement already satisfied, skipping upgrade: dill>=0.3 in /opt/anaconda3/lib/python3.7/site-packages (from qiskit-terra==0.14.2->qiskit==0.19.6) (0.3.2)\n",
      "Requirement already satisfied, skipping upgrade: networkx>=2.2; python_version > \"3.5\" in /opt/anaconda3/lib/python3.7/site-packages (from qiskit-terra==0.14.2->qiskit==0.19.6) (2.4)\n",
      "Requirement already satisfied, skipping upgrade: ply>=3.10 in /opt/anaconda3/lib/python3.7/site-packages (from qiskit-terra==0.14.2->qiskit==0.19.6) (3.11)\n",
      "Requirement already satisfied, skipping upgrade: scipy>=1.4 in /opt/anaconda3/lib/python3.7/site-packages (from qiskit-terra==0.14.2->qiskit==0.19.6) (1.5.1)\n",
      "Requirement already satisfied, skipping upgrade: sympy>=1.3 in /opt/anaconda3/lib/python3.7/site-packages (from qiskit-terra==0.14.2->qiskit==0.19.6) (1.6.1)\n",
      "Requirement already satisfied, skipping upgrade: fastjsonschema>=2.10 in /opt/anaconda3/lib/python3.7/site-packages (from qiskit-terra==0.14.2->qiskit==0.19.6) (2.14.4)\n",
      "Requirement already satisfied, skipping upgrade: marshmallow-polyfield<6,>=5.7 in /opt/anaconda3/lib/python3.7/site-packages (from qiskit-terra==0.14.2->qiskit==0.19.6) (5.9)\n",
      "Requirement already satisfied, skipping upgrade: python-dateutil>=2.8.0 in /opt/anaconda3/lib/python3.7/site-packages (from qiskit-terra==0.14.2->qiskit==0.19.6) (2.8.1)\n",
      "Requirement already satisfied, skipping upgrade: retworkx>=0.3.2 in /opt/anaconda3/lib/python3.7/site-packages (from qiskit-terra==0.14.2->qiskit==0.19.6) (0.4.0)\n",
      "Requirement already satisfied, skipping upgrade: psutil>=5 in /opt/anaconda3/lib/python3.7/site-packages (from qiskit-terra==0.14.2->qiskit==0.19.6) (5.6.7)\n",
      "Requirement already satisfied, skipping upgrade: marshmallow<4,>=3 in /opt/anaconda3/lib/python3.7/site-packages (from qiskit-terra==0.14.2->qiskit==0.19.6) (3.7.0)\n",
      "Requirement already satisfied, skipping upgrade: numpy>=1.17 in /opt/anaconda3/lib/python3.7/site-packages (from qiskit-terra==0.14.2->qiskit==0.19.6) (1.18.1)\n",
      "Requirement already satisfied, skipping upgrade: jsonschema>=2.6 in /opt/anaconda3/lib/python3.7/site-packages (from qiskit-terra==0.14.2->qiskit==0.19.6) (3.2.0)\n",
      "Requirement already satisfied, skipping upgrade: cython>=0.27.1 in /opt/anaconda3/lib/python3.7/site-packages (from qiskit-aer==0.5.2->qiskit==0.19.6) (0.29.15)\n",
      "Requirement already satisfied, skipping upgrade: pybind11>=2.4 in /opt/anaconda3/lib/python3.7/site-packages (from qiskit-aer==0.5.2->qiskit==0.19.6) (2.5.0)\n",
      "Requirement already satisfied, skipping upgrade: urllib3>=1.21.1 in /opt/anaconda3/lib/python3.7/site-packages (from qiskit-ibmq-provider==0.7.2->qiskit==0.19.6) (1.25.8)\n",
      "Requirement already satisfied, skipping upgrade: requests-ntlm>=1.1.0 in /opt/anaconda3/lib/python3.7/site-packages (from qiskit-ibmq-provider==0.7.2->qiskit==0.19.6) (1.1.0)\n",
      "Requirement already satisfied, skipping upgrade: requests>=2.19 in /opt/anaconda3/lib/python3.7/site-packages (from qiskit-ibmq-provider==0.7.2->qiskit==0.19.6) (2.22.0)\n",
      "Requirement already satisfied, skipping upgrade: nest-asyncio!=1.1.0,>=1.0.0 in /opt/anaconda3/lib/python3.7/site-packages (from qiskit-ibmq-provider==0.7.2->qiskit==0.19.6) (1.4.0)\n",
      "Requirement already satisfied, skipping upgrade: websockets<8,>=7 in /opt/anaconda3/lib/python3.7/site-packages (from qiskit-ibmq-provider==0.7.2->qiskit==0.19.6) (7.0)\n",
      "Requirement already satisfied, skipping upgrade: setuptools>=40.1.0 in /opt/anaconda3/lib/python3.7/site-packages (from qiskit-ignis==0.3.3->qiskit==0.19.6) (46.0.0.post20200309)\n",
      "Requirement already satisfied, skipping upgrade: scikit-learn>=0.17 in /opt/anaconda3/lib/python3.7/site-packages (from qiskit-ignis==0.3.3->qiskit==0.19.6) (0.22.1)\n",
      "Requirement already satisfied, skipping upgrade: quandl in /opt/anaconda3/lib/python3.7/site-packages (from qiskit-aqua==0.7.3->qiskit==0.19.6) (3.5.1)\n",
      "Requirement already satisfied, skipping upgrade: fastdtw in /opt/anaconda3/lib/python3.7/site-packages (from qiskit-aqua==0.7.3->qiskit==0.19.6) (0.3.4)\n",
      "Requirement already satisfied, skipping upgrade: docplex in /opt/anaconda3/lib/python3.7/site-packages (from qiskit-aqua==0.7.3->qiskit==0.19.6) (2.15.194)\n",
      "Requirement already satisfied, skipping upgrade: pyscf; sys_platform != \"win32\" in /opt/anaconda3/lib/python3.7/site-packages (from qiskit-aqua==0.7.3->qiskit==0.19.6) (1.7.3)\n",
      "Requirement already satisfied, skipping upgrade: h5py in /opt/anaconda3/lib/python3.7/site-packages (from qiskit-aqua==0.7.3->qiskit==0.19.6) (2.10.0)\n",
      "Requirement already satisfied, skipping upgrade: dlx in /opt/anaconda3/lib/python3.7/site-packages (from qiskit-aqua==0.7.3->qiskit==0.19.6) (1.0.4)\n",
      "Requirement already satisfied, skipping upgrade: decorator>=4.3.0 in /opt/anaconda3/lib/python3.7/site-packages (from networkx>=2.2; python_version > \"3.5\"->qiskit-terra==0.14.2->qiskit==0.19.6) (4.4.1)\n",
      "Requirement already satisfied, skipping upgrade: mpmath>=0.19 in /opt/anaconda3/lib/python3.7/site-packages (from sympy>=1.3->qiskit-terra==0.14.2->qiskit==0.19.6) (1.1.0)\n",
      "Requirement already satisfied, skipping upgrade: six>=1.5 in /opt/anaconda3/lib/python3.7/site-packages (from python-dateutil>=2.8.0->qiskit-terra==0.14.2->qiskit==0.19.6) (1.14.0)\n",
      "Requirement already satisfied, skipping upgrade: pyrsistent>=0.14.0 in /opt/anaconda3/lib/python3.7/site-packages (from jsonschema>=2.6->qiskit-terra==0.14.2->qiskit==0.19.6) (0.15.7)\n",
      "Requirement already satisfied, skipping upgrade: importlib-metadata; python_version < \"3.8\" in /opt/anaconda3/lib/python3.7/site-packages (from jsonschema>=2.6->qiskit-terra==0.14.2->qiskit==0.19.6) (1.5.0)\n",
      "Requirement already satisfied, skipping upgrade: attrs>=17.4.0 in /opt/anaconda3/lib/python3.7/site-packages (from jsonschema>=2.6->qiskit-terra==0.14.2->qiskit==0.19.6) (19.3.0)\n",
      "Requirement already satisfied, skipping upgrade: ntlm-auth>=1.0.2 in /opt/anaconda3/lib/python3.7/site-packages (from requests-ntlm>=1.1.0->qiskit-ibmq-provider==0.7.2->qiskit==0.19.6) (1.5.0)\n",
      "Requirement already satisfied, skipping upgrade: cryptography>=1.3 in /opt/anaconda3/lib/python3.7/site-packages (from requests-ntlm>=1.1.0->qiskit-ibmq-provider==0.7.2->qiskit==0.19.6) (2.8)\n",
      "Requirement already satisfied, skipping upgrade: chardet<3.1.0,>=3.0.2 in /opt/anaconda3/lib/python3.7/site-packages (from requests>=2.19->qiskit-ibmq-provider==0.7.2->qiskit==0.19.6) (3.0.4)\n",
      "Requirement already satisfied, skipping upgrade: certifi>=2017.4.17 in /opt/anaconda3/lib/python3.7/site-packages (from requests>=2.19->qiskit-ibmq-provider==0.7.2->qiskit==0.19.6) (2020.6.20)\n",
      "Requirement already satisfied, skipping upgrade: idna<2.9,>=2.5 in /opt/anaconda3/lib/python3.7/site-packages (from requests>=2.19->qiskit-ibmq-provider==0.7.2->qiskit==0.19.6) (2.8)\n",
      "Requirement already satisfied, skipping upgrade: joblib>=0.11 in /opt/anaconda3/lib/python3.7/site-packages (from scikit-learn>=0.17->qiskit-ignis==0.3.3->qiskit==0.19.6) (0.14.1)\n",
      "Requirement already satisfied, skipping upgrade: inflection>=0.3.1 in /opt/anaconda3/lib/python3.7/site-packages (from quandl->qiskit-aqua==0.7.3->qiskit==0.19.6) (0.5.0)\n",
      "Requirement already satisfied, skipping upgrade: more-itertools in /opt/anaconda3/lib/python3.7/site-packages (from quandl->qiskit-aqua==0.7.3->qiskit==0.19.6) (8.2.0)\n",
      "Requirement already satisfied, skipping upgrade: pandas>=0.14 in /opt/anaconda3/lib/python3.7/site-packages (from quandl->qiskit-aqua==0.7.3->qiskit==0.19.6) (1.0.1)\n",
      "Requirement already satisfied, skipping upgrade: zipp>=0.5 in /opt/anaconda3/lib/python3.7/site-packages (from importlib-metadata; python_version < \"3.8\"->jsonschema>=2.6->qiskit-terra==0.14.2->qiskit==0.19.6) (2.2.0)\n",
      "Requirement already satisfied, skipping upgrade: cffi!=1.11.3,>=1.8 in /opt/anaconda3/lib/python3.7/site-packages (from cryptography>=1.3->requests-ntlm>=1.1.0->qiskit-ibmq-provider==0.7.2->qiskit==0.19.6) (1.14.0)\n",
      "Requirement already satisfied, skipping upgrade: pytz>=2017.2 in /opt/anaconda3/lib/python3.7/site-packages (from pandas>=0.14->quandl->qiskit-aqua==0.7.3->qiskit==0.19.6) (2019.3)\n",
      "Requirement already satisfied, skipping upgrade: pycparser in /opt/anaconda3/lib/python3.7/site-packages (from cffi!=1.11.3,>=1.8->cryptography>=1.3->requests-ntlm>=1.1.0->qiskit-ibmq-provider==0.7.2->qiskit==0.19.6) (2.19)\n"
     ]
    },
    {
     "name": "stdout",
     "output_type": "stream",
     "text": [
      "Requirement already up-to-date: metakernel in /opt/anaconda3/lib/python3.7/site-packages (0.24.4)\n",
      "Requirement already satisfied, skipping upgrade: pexpect>=4.2 in /opt/anaconda3/lib/python3.7/site-packages (from metakernel) (4.8.0)\n",
      "Requirement already satisfied, skipping upgrade: ipykernel in /opt/anaconda3/lib/python3.7/site-packages (from metakernel) (5.1.4)\n",
      "Requirement already satisfied, skipping upgrade: ptyprocess>=0.5 in /opt/anaconda3/lib/python3.7/site-packages (from pexpect>=4.2->metakernel) (0.6.0)\n",
      "Requirement already satisfied, skipping upgrade: appnope; platform_system == \"Darwin\" in /opt/anaconda3/lib/python3.7/site-packages (from ipykernel->metakernel) (0.1.0)\n",
      "Requirement already satisfied, skipping upgrade: traitlets>=4.1.0 in /opt/anaconda3/lib/python3.7/site-packages (from ipykernel->metakernel) (4.3.3)\n",
      "Requirement already satisfied, skipping upgrade: tornado>=4.2 in /opt/anaconda3/lib/python3.7/site-packages (from ipykernel->metakernel) (6.0.3)\n",
      "Requirement already satisfied, skipping upgrade: ipython>=5.0.0 in /opt/anaconda3/lib/python3.7/site-packages (from ipykernel->metakernel) (7.12.0)\n",
      "Requirement already satisfied, skipping upgrade: jupyter-client in /opt/anaconda3/lib/python3.7/site-packages (from ipykernel->metakernel) (5.3.4)\n",
      "Requirement already satisfied, skipping upgrade: six in /opt/anaconda3/lib/python3.7/site-packages (from traitlets>=4.1.0->ipykernel->metakernel) (1.14.0)\n",
      "Requirement already satisfied, skipping upgrade: decorator in /opt/anaconda3/lib/python3.7/site-packages (from traitlets>=4.1.0->ipykernel->metakernel) (4.4.1)\n",
      "Requirement already satisfied, skipping upgrade: ipython-genutils in /opt/anaconda3/lib/python3.7/site-packages (from traitlets>=4.1.0->ipykernel->metakernel) (0.2.0)\n",
      "Requirement already satisfied, skipping upgrade: pickleshare in /opt/anaconda3/lib/python3.7/site-packages (from ipython>=5.0.0->ipykernel->metakernel) (0.7.5)\n",
      "Requirement already satisfied, skipping upgrade: backcall in /opt/anaconda3/lib/python3.7/site-packages (from ipython>=5.0.0->ipykernel->metakernel) (0.1.0)\n",
      "Requirement already satisfied, skipping upgrade: pygments in /opt/anaconda3/lib/python3.7/site-packages (from ipython>=5.0.0->ipykernel->metakernel) (2.5.2)\n",
      "Requirement already satisfied, skipping upgrade: jedi>=0.10 in /opt/anaconda3/lib/python3.7/site-packages (from ipython>=5.0.0->ipykernel->metakernel) (0.14.1)\n",
      "Requirement already satisfied, skipping upgrade: setuptools>=18.5 in /opt/anaconda3/lib/python3.7/site-packages (from ipython>=5.0.0->ipykernel->metakernel) (46.0.0.post20200309)\n",
      "Requirement already satisfied, skipping upgrade: prompt-toolkit!=3.0.0,!=3.0.1,<3.1.0,>=2.0.0 in /opt/anaconda3/lib/python3.7/site-packages (from ipython>=5.0.0->ipykernel->metakernel) (3.0.3)\n",
      "Requirement already satisfied, skipping upgrade: pyzmq>=13 in /opt/anaconda3/lib/python3.7/site-packages (from jupyter-client->ipykernel->metakernel) (18.1.1)\n",
      "Requirement already satisfied, skipping upgrade: jupyter-core>=4.6.0 in /opt/anaconda3/lib/python3.7/site-packages (from jupyter-client->ipykernel->metakernel) (4.6.1)\n",
      "Requirement already satisfied, skipping upgrade: python-dateutil>=2.1 in /opt/anaconda3/lib/python3.7/site-packages (from jupyter-client->ipykernel->metakernel) (2.8.1)\n",
      "Requirement already satisfied, skipping upgrade: parso>=0.5.0 in /opt/anaconda3/lib/python3.7/site-packages (from jedi>=0.10->ipython>=5.0.0->ipykernel->metakernel) (0.5.2)\n",
      "Requirement already satisfied, skipping upgrade: wcwidth in /opt/anaconda3/lib/python3.7/site-packages (from prompt-toolkit!=3.0.0,!=3.0.1,<3.1.0,>=2.0.0->ipython>=5.0.0->ipykernel->metakernel) (0.1.8)\n",
      "Requirement already up-to-date: portalocker in /opt/anaconda3/lib/python3.7/site-packages (2.0.0)\n",
      "Requirement already up-to-date: matplotlib in /opt/anaconda3/lib/python3.7/site-packages (3.3.1)\n",
      "Requirement already satisfied, skipping upgrade: certifi>=2020.06.20 in /opt/anaconda3/lib/python3.7/site-packages (from matplotlib) (2020.6.20)\n",
      "Requirement already satisfied, skipping upgrade: python-dateutil>=2.1 in /opt/anaconda3/lib/python3.7/site-packages (from matplotlib) (2.8.1)\n",
      "Requirement already satisfied, skipping upgrade: numpy>=1.15 in /opt/anaconda3/lib/python3.7/site-packages (from matplotlib) (1.18.1)\n",
      "Requirement already satisfied, skipping upgrade: pyparsing!=2.0.4,!=2.1.2,!=2.1.6,>=2.0.3 in /opt/anaconda3/lib/python3.7/site-packages (from matplotlib) (2.4.6)\n",
      "Requirement already satisfied, skipping upgrade: pillow>=6.2.0 in /opt/anaconda3/lib/python3.7/site-packages (from matplotlib) (7.0.0)\n",
      "Requirement already satisfied, skipping upgrade: kiwisolver>=1.0.1 in /opt/anaconda3/lib/python3.7/site-packages (from matplotlib) (1.1.0)\n",
      "Requirement already satisfied, skipping upgrade: cycler>=0.10 in /opt/anaconda3/lib/python3.7/site-packages (from matplotlib) (0.10.0)\n",
      "Requirement already satisfied, skipping upgrade: six>=1.5 in /opt/anaconda3/lib/python3.7/site-packages (from python-dateutil>=2.1->matplotlib) (1.14.0)\n",
      "Requirement already satisfied, skipping upgrade: setuptools in /opt/anaconda3/lib/python3.7/site-packages (from kiwisolver>=1.0.1->matplotlib) (46.0.0.post20200309)\n"
     ]
    }
   ],
   "source": [
    "# install dependencies\n",
    "!pip install --upgrade qiskit==0.19.6 \n",
    "!pip install --upgrade metakernel\n",
    "!pip install --upgrade portalocker\n",
    "!pip install --upgrade matplotlib"
   ]
  },
  {
   "cell_type": "code",
   "execution_count": 2,
   "metadata": {},
   "outputs": [
    {
     "name": "stdout",
     "output_type": "stream",
     "text": [
      "You are now running Qiskit with the following version numbers\n",
      "{'qiskit-terra': '0.14.2', 'qiskit-aer': '0.5.2', 'qiskit-ignis': '0.3.3', 'qiskit-ibmq-provider': '0.7.2', 'qiskit-aqua': '0.7.3', 'qiskit': '0.19.6'}\n"
     ]
    }
   ],
   "source": [
    "from metakernel import register_ipython_magics\n",
    "register_ipython_magics()\n",
    "\n",
    "from IPython.display import clear_output\n",
    "clear_output()\n",
    "\n",
    "import qiskit\n",
    "version_info = qiskit.__qiskit_version__\n",
    "print(\"You are now running Qiskit with the following version numbers\")\n",
    "print(version_info)"
   ]
  },
  {
   "cell_type": "markdown",
   "metadata": {},
   "source": [
    "# Personal Information"
   ]
  },
  {
   "cell_type": "code",
   "execution_count": 3,
   "metadata": {},
   "outputs": [
    {
     "name": "stdout",
     "output_type": "stream",
     "text": [
      "Done\n"
     ]
    }
   ],
   "source": [
    "your_name = \"Shovit Bhari\" # insert your name here between the quotes\n",
    "\n",
    "import os\n",
    "try:\n",
    "    assert(your_name != '')\n",
    "    answer_dir = 'answers/'\n",
    "    if not os.path.isdir(answer_dir):\n",
    "        os.mkdir(answer_dir)\n",
    "    open(answer_dir + 'taker_info.txt', 'w').write('name = {}\\nversion_info = {}'.format(your_name, version_info))\n",
    "    print('Done')\n",
    "except:\n",
    "    print(\"Error. Please reach out in the #qiskit-advocates-help on Qiskit Slack.\")  "
   ]
  },
  {
   "cell_type": "markdown",
   "metadata": {},
   "source": [
    "---\n",
    "# Space for trying out answers\n",
    "You can add any new cells in this notebook to try to figure out the answers for questions. "
   ]
  },
  {
   "cell_type": "code",
   "execution_count": 4,
   "metadata": {},
   "outputs": [
    {
     "data": {
      "image/png": "[encoded data removed]",
      "text/plain": [
       "<Figure size 173.376x84.28 with 1 Axes>"
      ]
     },
     "execution_count": 4,
     "metadata": {},
     "output_type": "execute_result"
    }
   ],
   "source": [
    "# example\n",
    "from qiskit import QuantumCircuit\n",
    "qc = QuantumCircuit(1)\n",
    "qc.h(0)\n",
    "qc.draw('mpl')"
   ]
  },
  {
   "cell_type": "code",
   "execution_count": 5,
   "metadata": {},
   "outputs": [],
   "source": [
    "import numpy as np\n",
    "\n",
    "from qiskit import Aer, QuantumCircuit, execute\n",
    "from qiskit.visualization import plot_histogram\n",
    "from IPython.display import display, Math, Latex\n",
    "from qiskit import *\n",
    "from math import pi\n",
    "import numpy as np\n",
    "from qiskit.quantum_info import Statevector\n",
    "from qiskit.visualization import plot_bloch_multivector, plot_histogram, plot_state_city, plot_state_qsphere\n",
    "\n",
    "\n",
    "%matplotlib inline\n"
   ]
  },
  {
   "cell_type": "markdown",
   "metadata": {},
   "source": [
    "---\n",
    "# Contents <a name=\"toc\"></a>\n",
    "\n",
    "1. [Circuits (5 questions)](#circuits)\n",
    "1. [Advanced Circuits (5 questions)](#advanced_circuits)\n",
    "1. [Running on Real Devices (2 questions)](#real_devices)\n",
    "1. [Pulse (5 questions)](#pulse)\n",
    "1. [High-Performance Simulators (7 questions)](#simulators)\n",
    "1. [Quantum System Error Analysis  (3 questions)](#error_analysis)\n",
    "1. [Optimization (3 questions)](#optimization)"
   ]
  },
  {
   "cell_type": "markdown",
   "metadata": {},
   "source": [
    "# Running on Real Devices (2 questions)<a name=\"real_devices\"></a>\n",
    "Reference: \n",
    "1. [Qiskit Tutorials - The IBM Account](https://github.com/Qiskit/qiskit-tutorials/blob/master/legacy_tutorials/terra/3_the_ibmq_account.ipynb)\n",
    "1. [Qiskit Documentation - IBM Quantum Provider](https://qiskit.org/documentation/apidoc/ibmq_provider.html)\n",
    "1. [1 Minute Qiskit - How can I retrieve an old job from IBM Quantum?](https://www.youtube.com/watch?v=09-Qsge_qqo&list=PLOFEBzvs-VvpOCmJ9BonUhf7NYB4d1p0e&index=6)"
   ]
  },
  {
   "cell_type": "code",
   "execution_count": 6,
   "metadata": {},
   "outputs": [],
   "source": [
    "from qiskit import IBMQ\n",
    "provider = IBMQ.enable_account('7d28db10d507b3db6a8514f8c537bd32e465a8474bbc5788a2047a4dd1ba850da89df7d28b32a2cd85432f5ae975d2469261a2630d842960895264ff27eab744')"
   ]
  },
  {
   "cell_type": "code",
   "execution_count": 7,
   "metadata": {},
   "outputs": [
    {
     "data": {
      "text/plain": [
       "<AccountProvider for IBMQ(hub='ibm-q', group='open', project='main')>"
      ]
     },
     "execution_count": 7,
     "metadata": {},
     "output_type": "execute_result"
    }
   ],
   "source": [
    "IBMQ.get_provider()"
   ]
  },
  {
   "cell_type": "code",
   "execution_count": 8,
   "metadata": {},
   "outputs": [
    {
     "name": "stdout",
     "output_type": "stream",
     "text": [
      "ibmq_qasm_simulator\n"
     ]
    }
   ],
   "source": [
    "from qiskit.providers.ibmq import least_busy\n",
    "backend=least_busy(provider.backends())\n",
    "print(backend)"
   ]
  },
  {
   "cell_type": "code",
   "execution_count": 9,
   "metadata": {},
   "outputs": [
    {
     "name": "stdout",
     "output_type": "stream",
     "text": [
      "ibmq_qasm_simulator\n"
     ]
    }
   ],
   "source": [
    "from qiskit.providers.ibmq import least_busy\n",
    "backend= least_busy(provider.backends(filters=lambda x: x.configuration().n_qubits >= 5))\n",
    "print(backend)"
   ]
  },
  {
   "cell_type": "code",
   "execution_count": 10,
   "metadata": {},
   "outputs": [
    {
     "data": {
      "text/plain": [
       "[<IBMQBackend('ibmqx2') from IBMQ(hub='ibm-q', group='open', project='main')>,\n",
       " <IBMQBackend('ibmq_16_melbourne') from IBMQ(hub='ibm-q', group='open', project='main')>,\n",
       " <IBMQBackend('ibmq_vigo') from IBMQ(hub='ibm-q', group='open', project='main')>,\n",
       " <IBMQBackend('ibmq_ourense') from IBMQ(hub='ibm-q', group='open', project='main')>,\n",
       " <IBMQBackend('ibmq_valencia') from IBMQ(hub='ibm-q', group='open', project='main')>,\n",
       " <IBMQBackend('ibmq_london') from IBMQ(hub='ibm-q', group='open', project='main')>,\n",
       " <IBMQBackend('ibmq_burlington') from IBMQ(hub='ibm-q', group='open', project='main')>,\n",
       " <IBMQBackend('ibmq_essex') from IBMQ(hub='ibm-q', group='open', project='main')>,\n",
       " <IBMQBackend('ibmq_santiago') from IBMQ(hub='ibm-q', group='open', project='main')>]"
      ]
     },
     "execution_count": 10,
     "metadata": {},
     "output_type": "execute_result"
    }
   ],
   "source": [
    "provider.backends(filters=lambda x: x.configuration().n_qubits >= 5\n",
    "and not x.configuration().simulator\n",
    "and x.status().operational==True)"
   ]
  },
  {
   "cell_type": "code",
   "execution_count": 11,
   "metadata": {},
   "outputs": [
    {
     "name": "stderr",
     "output_type": "stream",
     "text": [
      "ibmqfactory.load_account:WARNING:2020-08-14 09:43:23,291: Credentials are already in use. The existing account in the session will be replaced.\n",
      "/opt/anaconda3/lib/python3.7/site-packages/ipykernel_launcher.py:6: DeprecationWarning: random_circuit keyword argument n_qubits is deprecated and replaced with num_qubits.\n",
      "  \n"
     ]
    }
   ],
   "source": [
    "from qiskit import IBMQ, assemble, transpile\n",
    "from qiskit.circuit.random import random_circuit\n",
    "\n",
    "provider = IBMQ.load_account()\n",
    "backend = provider.backends.ibmq_vigo\n",
    "qx = random_circuit(n_qubits=5, depth=4)\n",
    "qobj = assemble(transpile(qx, backend=backend), backend=backend)\n",
    "job = backend.run(qobj)"
   ]
  },
  {
   "cell_type": "code",
   "execution_count": 20,
   "metadata": {},
   "outputs": [
    {
     "data": {
      "text/plain": [
       "IBMQJob(_api=<qiskit.providers.ibmq.api.clients.account.AccountClient object at 0x7fca61c37490>, _api_status='COMPLETED', _backend=<IBMQBackend('ibmq_vigo') from IBMQ(hub='ibm-q', group='open', project='main')>, _backend_info={'id': '5d2c7d5ff148e40073c3abe6', 'name': 'ibmq_vigo'}, _cancelled=False, _creation_date=datetime.datetime(2020, 8, 14, 16, 43, 28, 597000, tzinfo=tzutc()), _error=None, _job_error_msg=None, _job_id='5f36bf30f1bf7c00135f4e36', _kind=<ApiJobKind.QOBJECT_STORAGE: 'q-object-external-storage'>, _name=None, _qobj=None, _queue_info=None, _result=None, _run_mode='fairshare', _status=<JobStatus.DONE: 'job has successfully run'>, _tags=[], _time_per_step=None, _use_object_storage=True, end_date='2020-08-14T16:45:18.054Z', hub_info={'hub': {'name': 'ibm-q'}, 'group': {'name': 'open'}, 'project': {'name': 'main'}}, share_level='none', user_id='5e828cb1dd83d80011fbf69f')"
      ]
     },
     "execution_count": 20,
     "metadata": {},
     "output_type": "execute_result"
    }
   ],
   "source": [
    "backend.jobs()[0]"
   ]
  },
  {
   "cell_type": "code",
   "execution_count": 21,
   "metadata": {},
   "outputs": [
    {
     "data": {
      "text/plain": [
       "IBMQJob(_api=<qiskit.providers.ibmq.api.clients.account.AccountClient object at 0x7fca61c37490>, _api_status='COMPLETED', _backend=<IBMQBackend('ibmq_vigo') from IBMQ(hub='ibm-q', group='open', project='main')>, _backend_info={'id': '5d2c7d5ff148e40073c3abe6', 'name': 'ibmq_vigo'}, _cancelled=False, _creation_date=datetime.datetime(2020, 8, 10, 2, 28, 42, 544000, tzinfo=tzutc()), _error=None, _job_error_msg=None, _job_id='5f30b0db252dfd001a348a96', _kind=<ApiJobKind.QOBJECT_STORAGE: 'q-object-external-storage'>, _name=None, _qobj=None, _queue_info=None, _result=None, _run_mode='fairshare', _status=<JobStatus.DONE: 'job has successfully run'>, _tags=[], _time_per_step=None, _use_object_storage=True, end_date='2020-08-10T02:29:34.892Z', hub_info={'hub': {'name': 'ibm-q'}, 'group': {'name': 'open'}, 'project': {'name': 'main'}}, share_level='none', user_id='5e828cb1dd83d80011fbf69f')"
      ]
     },
     "execution_count": 21,
     "metadata": {},
     "output_type": "execute_result"
    }
   ],
   "source": [
    "backend.jobs()[-1]"
   ]
  },
  {
   "cell_type": "code",
   "execution_count": 22,
   "metadata": {},
   "outputs": [
    {
     "ename": "TypeError",
     "evalue": "retrieve_job() missing 1 required positional argument: 'job_id'",
     "output_type": "error",
     "traceback": [
      "\u001b[0;31m---------------------------------------------------------------------------\u001b[0m",
      "\u001b[0;31mTypeError\u001b[0m                                 Traceback (most recent call last)",
      "\u001b[0;32m<ipython-input-22-0c0f724b5706>\u001b[0m in \u001b[0;36m<module>\u001b[0;34m\u001b[0m\n\u001b[0;32m----> 1\u001b[0;31m \u001b[0mbackend\u001b[0m\u001b[0;34m.\u001b[0m\u001b[0mretrieve_job\u001b[0m\u001b[0;34m(\u001b[0m\u001b[0;34m)\u001b[0m\u001b[0;34m[\u001b[0m\u001b[0;36m0\u001b[0m\u001b[0;34m]\u001b[0m\u001b[0;34m\u001b[0m\u001b[0;34m\u001b[0m\u001b[0m\n\u001b[0m",
      "\u001b[0;31mTypeError\u001b[0m: retrieve_job() missing 1 required positional argument: 'job_id'"
     ]
    }
   ],
   "source": [
    "backend.retrieve_job()[0]"
   ]
  },
  {
   "cell_type": "code",
   "execution_count": 23,
   "metadata": {},
   "outputs": [
    {
     "ename": "TypeError",
     "evalue": "retrieve_job() missing 1 required positional argument: 'job_id'",
     "output_type": "error",
     "traceback": [
      "\u001b[0;31m---------------------------------------------------------------------------\u001b[0m",
      "\u001b[0;31mTypeError\u001b[0m                                 Traceback (most recent call last)",
      "\u001b[0;32m<ipython-input-23-de3868904ff0>\u001b[0m in \u001b[0;36m<module>\u001b[0;34m\u001b[0m\n\u001b[0;32m----> 1\u001b[0;31m \u001b[0mbackend\u001b[0m\u001b[0;34m.\u001b[0m\u001b[0mretrieve_job\u001b[0m\u001b[0;34m(\u001b[0m\u001b[0;34m)\u001b[0m\u001b[0;34m[\u001b[0m\u001b[0;34m-\u001b[0m\u001b[0;36m1\u001b[0m\u001b[0;34m]\u001b[0m\u001b[0;34m\u001b[0m\u001b[0;34m\u001b[0m\u001b[0m\n\u001b[0m",
      "\u001b[0;31mTypeError\u001b[0m: retrieve_job() missing 1 required positional argument: 'job_id'"
     ]
    }
   ],
   "source": [
    "backend.retrieve_job()[-1]"
   ]
  },
  {
   "cell_type": "code",
   "execution_count": null,
   "metadata": {},
   "outputs": [],
   "source": []
  },
  {
   "cell_type": "code",
   "execution_count": null,
   "metadata": {},
   "outputs": [],
   "source": []
  },
  {
   "cell_type": "code",
   "execution_count": null,
   "metadata": {},
   "outputs": [],
   "source": []
  },
  {
   "cell_type": "code",
   "execution_count": null,
   "metadata": {},
   "outputs": [],
   "source": []
  },
  {
   "cell_type": "code",
   "execution_count": 19,
   "metadata": {},
   "outputs": [
    {
     "data": {
      "application/vnd.jupyter.widget-view+json": {
       "model_id": "3ecd005f165f4188a575547332319c77",
       "version_major": 2,
       "version_minor": 0
      },
      "text/plain": [
       "VBox(children=(HBox(children=(VBox(children=(HTML(value='<p><b>Question ID</b>: 1</p>'), HTML(value='<h1>\\n   …"
      ]
     },
     "metadata": {},
     "output_type": "display_data"
    }
   ],
   "source": [
    "%activity questions/real_devices"
   ]
  },
  {
   "cell_type": "code",
   "execution_count": null,
   "metadata": {},
   "outputs": [],
   "source": []
  },
  {
   "cell_type": "code",
   "execution_count": null,
   "metadata": {},
   "outputs": [],
   "source": []
  },
  {
   "cell_type": "code",
   "execution_count": null,
   "metadata": {},
   "outputs": [],
   "source": []
  }
 ],
 "metadata": {
  "kernelspec": {
   "display_name": "Python 3",
   "language": "python",
   "name": "python3"
  },
  "language_info": {
   "codemirror_mode": {
    "name": "ipython",
    "version": 3
   },
   "file_extension": ".py",
   "mimetype": "text/x-python",
   "name": "python",
   "nbconvert_exporter": "python",
   "pygments_lexer": "ipython3",
   "version": "3.7.6"
  }
 },
 "nbformat": 4,
 "nbformat_minor": 4
}
