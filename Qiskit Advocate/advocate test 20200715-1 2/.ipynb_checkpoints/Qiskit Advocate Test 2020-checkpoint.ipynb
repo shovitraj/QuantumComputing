{
 "cells": [
  {
   "cell_type": "markdown",
   "metadata": {},
   "source": [
    "# Instructions\n",
    "This is the Qiskit Advocate Test notebook. You will need to write and execute Qiskit code to answer several questions in this test. Once you have answered all the questions, you will need to submit the test for grading. You will be informed via email of you application outcome shortly after the end of application period.\n",
    "\n",
    "**This notebook only runs correctly using Jupyter notebook. It is currently incompatible with Jupyter lab.**\n",
    "\n",
    "In order to use this notebook, please follow these instructions.\n",
    "1. Run the cell below to install any dependencies of this notebook including `qiskit`, `metakernel`, `portalocker` and `matplotlib`. Make sure you install Qiskit version `0.19.6` for the test.\n",
    "1. Fill out your name in the `Personal Information` section below and run that cell. Make sure you get the output `Done`.\n",
    "1. To see the questions for each section, run the line that looks like `%activity questions/section`. You can go back and forth and select different answers. \n",
    "1. There are **30 questions** throughout this test. Your answers to each question are stored as soon as you select a choice, and are not erased if you re-start a section of questions.\n",
    "1. You can change your answers as many times as you'd like. All answers will be stored but **only the last answer will be graded**.\n",
    "1. To submit your answers, run the `Submit` cell. This will generate a file named `answers_yourname.zip`. Please attach this file to the advocate application form.\n",
    "\n",
    "The primary reference materials for the test are [Qiskit Tutorials](https://qiskit.org/documentation/tutorials/circuits/index.html) and [Qiskit Documentation](https://qiskit.org/documentation/). In addtion, [Qiskit Textbook](https://qiskit.org/textbook/preface.html), [Coding with Qiskit](https://www.youtube.com/playlist?list=PLOFEBzvs-Vvp2xg9-POLJhQwtVktlYGbY), [Qiskit Live Circuit Sessions](https://www.youtube.com/playlist?list=PLOFEBzvs-VvrRlVz7wqaqmaMZj_ZK2Afe) and [1 Minute Qiskit](https://www.youtube.com/playlist?list=PLOFEBzvs-VvpOCmJ9BonUhf7NYB4d1p0e) are also good source of reference. If you have any questions please reach out in the `qiskit-advocates-help` channel on Qiskit Slack."
   ]
  },
  {
   "cell_type": "code",
   "execution_count": null,
   "metadata": {},
   "outputs": [],
   "source": [
    "# install dependencies\n",
    "!pip install --upgrade qiskit==0.19.6 \n",
    "!pip install --upgrade metakernel\n",
    "!pip install --upgrade portalocker\n",
    "!pip install --upgrade matplotlib"
   ]
  },
  {
   "cell_type": "code",
   "execution_count": null,
   "metadata": {},
   "outputs": [],
   "source": [
    "from metakernel import register_ipython_magics\n",
    "register_ipython_magics()\n",
    "\n",
    "from IPython.display import clear_output\n",
    "clear_output()\n",
    "\n",
    "import qiskit\n",
    "version_info = qiskit.__qiskit_version__\n",
    "print(\"You are now running Qiskit with the following version numbers\")\n",
    "print(version_info)"
   ]
  },
  {
   "cell_type": "markdown",
   "metadata": {},
   "source": [
    "# Personal Information"
   ]
  },
  {
   "cell_type": "code",
   "execution_count": null,
   "metadata": {},
   "outputs": [],
   "source": [
    "your_name = \"YOUR_NAME_HERE\" # insert your name here between the quotes\n",
    "\n",
    "import os\n",
    "try:\n",
    "    assert(your_name != '')\n",
    "    answer_dir = 'answers/'\n",
    "    if not os.path.isdir(answer_dir):\n",
    "        os.mkdir(answer_dir)\n",
    "    open(answer_dir + 'taker_info.txt', 'w').write('name = {}\\nversion_info = {}'.format(your_name, version_info))\n",
    "    print('Done')\n",
    "except:\n",
    "    print(\"Error. Please reach out in the #qiskit-advocates-help on Qiskit Slack.\")  "
   ]
  },
  {
   "cell_type": "markdown",
   "metadata": {},
   "source": [
    "---\n",
    "# Space for trying out answers\n",
    "You can add any new cells in this notebook to try to figure out the answers for questions. "
   ]
  },
  {
   "cell_type": "code",
   "execution_count": null,
   "metadata": {},
   "outputs": [],
   "source": [
    "# example\n",
    "from qiskit import QuantumCircuit\n",
    "qc = QuantumCircuit(1)\n",
    "qc.h(0)\n",
    "qc.draw('mpl')"
   ]
  },
  {
   "cell_type": "code",
   "execution_count": null,
   "metadata": {},
   "outputs": [],
   "source": [
    "# you can insert new cells like this by clicking the \"+\" button on the menu bar"
   ]
  },
  {
   "cell_type": "markdown",
   "metadata": {},
   "source": [
    "---\n",
    "# Contents <a name=\"toc\"></a>\n",
    "\n",
    "1. [Circuits (5 questions)](#circuits)\n",
    "1. [Advanced Circuits (5 questions)](#advanced_circuits)\n",
    "1. [Running on Real Devices (2 questions)](#real_devices)\n",
    "1. [Pulse (5 questions)](#pulse)\n",
    "1. [High-Performance Simulators (7 questions)](#simulators)\n",
    "1. [Quantum System Error Analysis  (3 questions)](#error_analysis)\n",
    "1. [Optimization (3 questions)](#optimization)"
   ]
  },
  {
   "cell_type": "markdown",
   "metadata": {},
   "source": [
    "# Circuits (5 questions)<a name=\"circuits\"></a>\n",
    "Reference: \n",
    "1. [Qiskit Tutorials - Circuits](https://qiskit.org/documentation/tutorials/circuits/index.html)\n",
    "1. [Qiskit Documentation - Terra](https://qiskit.org/documentation/apidoc/terra.html)\n",
    "1. [Coding with Qiskit - Ep.3 Hello World](https://www.youtube.com/watch?v=RrUTwq5jKM4)\n",
    "1. [Coding with Qiskit - Ep.4 Building Blocks of Quantum Circuits](https://www.youtube.com/watch?v=tBnWG_95F9c)"
   ]
  },
  {
   "cell_type": "code",
   "execution_count": null,
   "metadata": {},
   "outputs": [],
   "source": [
    "%activity questions/circuits"
   ]
  },
  {
   "cell_type": "markdown",
   "metadata": {},
   "source": [
    "# Advanced Circuits (5 questions)<a name=\"advanced_circuits\"></a>\n",
    "Reference: \n",
    "1. [Qiskit Tutorials - Advanced Circuits](https://qiskit.org/documentation/tutorials/circuits_advanced/index.html)\n",
    "1. [Qiskit Documentation - Terra](https://qiskit.org/documentation/apidoc/terra.html)\n",
    "1. [Circuit Sessions - Qiskit Circuit Library](https://www.youtube.com/watch?v=SsXJgAZ6aIg)\n",
    "1. [Circuit Sessions - Transpiling Quantum Circuits](https://www.youtube.com/watch?v=2T3163VjvWQ)"
   ]
  },
  {
   "cell_type": "code",
   "execution_count": null,
   "metadata": {},
   "outputs": [],
   "source": [
    "%activity questions/advanced_circuits"
   ]
  },
  {
   "cell_type": "markdown",
   "metadata": {},
   "source": [
    "# Running on Real Devices (2 questions)<a name=\"real_devices\"></a>\n",
    "Reference: \n",
    "1. [Qiskit Tutorials - The IBM Account](https://github.com/Qiskit/qiskit-tutorials/blob/master/legacy_tutorials/terra/3_the_ibmq_account.ipynb)\n",
    "1. [Qiskit Documentation - IBM Quantum Provider](https://qiskit.org/documentation/apidoc/ibmq_provider.html)\n",
    "1. [1 Minute Qiskit - How can I retrieve an old job from IBM Quantum?](https://www.youtube.com/watch?v=09-Qsge_qqo&list=PLOFEBzvs-VvpOCmJ9BonUhf7NYB4d1p0e&index=6)"
   ]
  },
  {
   "cell_type": "code",
   "execution_count": null,
   "metadata": {},
   "outputs": [],
   "source": [
    "%activity questions/real_devices"
   ]
  },
  {
   "cell_type": "markdown",
   "metadata": {},
   "source": [
    "# Pulse (5 questions)<a name=\"pulse\"></a>\n",
    "Reference:\n",
    "1. [Qiskit Tutorials - Pulse](https://qiskit.org/documentation/tutorials/pulse/index.html)\n",
    "1. [Qiskit Textbook - Ch.6.1 Calibrating Qubits with Qiskit Pulse](https://qiskit.org/textbook/ch-quantum-hardware/calibrating-qubits-openpulse.html)\n",
    "1. [Qiskit Documentation - Pulse](https://qiskit.org/documentation/apidoc/pulse.html)\n",
    "1. [Qiskit Live - Quantum Coding with Lauren Capelluto](https://www.youtube.com/watch?v=ZvipHRY-URs)"
   ]
  },
  {
   "cell_type": "code",
   "execution_count": null,
   "metadata": {},
   "outputs": [],
   "source": [
    "%activity questions/pulse"
   ]
  },
  {
   "cell_type": "markdown",
   "metadata": {},
   "source": [
    "# High-Performance Simulators (7 questions)<a name=\"simulators\"></a>\n",
    "Reference:\n",
    "1. [Qiskit Tutorials - High-Performance Simulators](https://qiskit.org/documentation/tutorials/simulators/index.html)\n",
    "1. [Qiskit Documentation - Aer](https://qiskit.org/documentation/apidoc/aer.html)\n",
    "1. [Circuit Sessions - How to simulate a circuit](https://www.youtube.com/watch?v=VvP41TwY34o)"
   ]
  },
  {
   "cell_type": "code",
   "execution_count": null,
   "metadata": {},
   "outputs": [],
   "source": [
    "%activity questions/simulators"
   ]
  },
  {
   "cell_type": "markdown",
   "metadata": {},
   "source": [
    "# Quantum System Error Analysis (3 questions)<a name=\"error_analysis\"></a>\n",
    "Reference:\n",
    "1. [Qiskit Tutorials - Quantum System Error Analysis](https://qiskit.org/documentation/tutorials/noise/index.html)\n",
    "1. [Qiskit Documentation - Ignis](https://qiskit.org/documentation/apidoc/ignis.html)\n",
    "1. [Coding with Qiskit - Ep.8 Mitigating Noise on Real Quantum Computers](https://www.youtube.com/watch?v=yuDxHJOKsVA)"
   ]
  },
  {
   "cell_type": "code",
   "execution_count": null,
   "metadata": {},
   "outputs": [],
   "source": [
    "%activity questions/error_analysis"
   ]
  },
  {
   "cell_type": "markdown",
   "metadata": {},
   "source": [
    "# Optimization (3 questions)<a name=\"optimization\"></a>\n",
    "Reference:\n",
    "1. [Qiskit Tutorials - Optimization](https://qiskit.org/documentation/tutorials/optimization/index.html)\n",
    "1. [Qiskit Documentation - Optimization](https://qiskit.org/documentation/apidoc/qiskit_optimization.html)\n",
    "1. [Qiskit Medium - A Walkthrough of Qiskit’s New Optimization Module](https://medium.com/qiskit/towards-quantum-advantage-for-optimization-with-qiskit-9a564339ef26)"
   ]
  },
  {
   "cell_type": "code",
   "execution_count": null,
   "metadata": {},
   "outputs": [],
   "source": [
    "%activity questions/optimization"
   ]
  },
  {
   "cell_type": "markdown",
   "metadata": {},
   "source": [
    "# Submit"
   ]
  },
  {
   "cell_type": "code",
   "execution_count": null,
   "metadata": {},
   "outputs": [],
   "source": [
    "from shutil import make_archive\n",
    "try:\n",
    "    assert(os.path.exists(answer_dir + 'circuits.results'))\n",
    "    assert(os.path.exists(answer_dir + 'advanced_circuits.results'))\n",
    "    assert(os.path.exists(answer_dir + 'real_devices.results'))\n",
    "    assert(os.path.exists(answer_dir + 'pulse.results'))\n",
    "    assert(os.path.exists(answer_dir + 'simulators.results'))\n",
    "    assert(os.path.exists(answer_dir + 'error_analysis.results'))\n",
    "    assert(os.path.exists(answer_dir + 'optimization.results'))\n",
    "    assert(os.path.exists(answer_dir + 'taker_info.txt'))\n",
    "    zipfilename = 'answers_{}'.format(your_name)\n",
    "    make_archive(zipfilename, 'zip', answer_dir)\n",
    "    print('Done. Please attach {}.zip to the application form for grading.'.format(zipfilename))\n",
    "except:\n",
    "    print(\"You have not completed all the sections. If you think this is in error, please contact us in the #qiskit-advocates-help channel on Qiskit Slack\")"
   ]
  },
  {
   "cell_type": "code",
   "execution_count": null,
   "metadata": {},
   "outputs": [],
   "source": []
  }
 ],
 "metadata": {
  "kernelspec": {
   "display_name": "advocate",
   "language": "python",
   "name": "advocate"
  },
  "language_info": {
   "codemirror_mode": {
    "name": "ipython",
    "version": 3
   },
   "file_extension": ".py",
   "mimetype": "text/x-python",
   "name": "python",
   "nbconvert_exporter": "python",
   "pygments_lexer": "ipython3",
   "version": "3.8.3"
  }
 },
 "nbformat": 4,
 "nbformat_minor": 4
}
