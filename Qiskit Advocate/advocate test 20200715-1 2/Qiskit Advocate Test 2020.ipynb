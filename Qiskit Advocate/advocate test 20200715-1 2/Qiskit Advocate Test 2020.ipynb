{
 "cells": [
  {
   "cell_type": "markdown",
   "metadata": {},
   "source": [
    "# Instructions\n",
    "This is the Qiskit Advocate Test notebook. You will need to write and execute Qiskit code to answer several questions in this test. Once you have answered all the questions, you will need to submit the test for grading. You will be informed via email of you application outcome shortly after the end of application period.\n",
    "\n",
    "**This notebook only runs correctly using Jupyter notebook. It is currently incompatible with Jupyter lab.**\n",
    "\n",
    "In order to use this notebook, please follow these instructions.\n",
    "1. Run the cell below to install any dependencies of this notebook including `qiskit`, `metakernel`, `portalocker` and `matplotlib`. Make sure you install Qiskit version `0.19.6` for the test.\n",
    "1. Fill out your name in the `Personal Information` section below and run that cell. Make sure you get the output `Done`.\n",
    "1. To see the questions for each section, run the line that looks like `%activity questions/section`. You can go back and forth and select different answers. \n",
    "1. There are **30 questions** throughout this test. Your answers to each question are stored as soon as you select a choice, and are not erased if you re-start a section of questions.\n",
    "1. You can change your answers as many times as you'd like. All answers will be stored but **only the last answer will be graded**.\n",
    "1. To submit your answers, run the `Submit` cell. This will generate a file named `answers_yourname.zip`. Please attach this file to the advocate application form.\n",
    "\n",
    "The primary reference materials for the test are [Qiskit Tutorials](https://qiskit.org/documentation/tutorials/circuits/index.html) and [Qiskit Documentation](https://qiskit.org/documentation/). In addtion, [Qiskit Textbook](https://qiskit.org/textbook/preface.html), [Coding with Qiskit](https://www.youtube.com/playlist?list=PLOFEBzvs-Vvp2xg9-POLJhQwtVktlYGbY), [Qiskit Live Circuit Sessions](https://www.youtube.com/playlist?list=PLOFEBzvs-VvrRlVz7wqaqmaMZj_ZK2Afe) and [1 Minute Qiskit](https://www.youtube.com/playlist?list=PLOFEBzvs-VvpOCmJ9BonUhf7NYB4d1p0e) are also good source of reference. If you have any questions please reach out in the `qiskit-advocates-help` channel on Qiskit Slack."
   ]
  },
  {
   "cell_type": "code",
   "execution_count": 1,
   "metadata": {},
   "outputs": [
    {
     "name": "stdout",
     "output_type": "stream",
     "text": [
      "Requirement already up-to-date: qiskit==0.19.6 in /opt/anaconda3/lib/python3.7/site-packages (0.19.6)\n",
      "Requirement already satisfied, skipping upgrade: qiskit-aer==0.5.2 in /opt/anaconda3/lib/python3.7/site-packages (from qiskit==0.19.6) (0.5.2)\n",
      "Requirement already satisfied, skipping upgrade: qiskit-ignis==0.3.3 in /opt/anaconda3/lib/python3.7/site-packages (from qiskit==0.19.6) (0.3.3)\n",
      "Requirement already satisfied, skipping upgrade: qiskit-aqua==0.7.3 in /opt/anaconda3/lib/python3.7/site-packages (from qiskit==0.19.6) (0.7.3)\n",
      "Requirement already satisfied, skipping upgrade: qiskit-terra==0.14.2 in /opt/anaconda3/lib/python3.7/site-packages (from qiskit==0.19.6) (0.14.2)\n",
      "Requirement already satisfied, skipping upgrade: qiskit-ibmq-provider==0.7.2 in /opt/anaconda3/lib/python3.7/site-packages (from qiskit==0.19.6) (0.7.2)\n",
      "Requirement already satisfied, skipping upgrade: numpy>=1.16.3; python_version > \"3.5\" in /opt/anaconda3/lib/python3.7/site-packages (from qiskit-aer==0.5.2->qiskit==0.19.6) (1.18.1)\n",
      "Requirement already satisfied, skipping upgrade: cython>=0.27.1 in /opt/anaconda3/lib/python3.7/site-packages (from qiskit-aer==0.5.2->qiskit==0.19.6) (0.29.15)\n",
      "Requirement already satisfied, skipping upgrade: scipy>=1.0; python_version > \"3.5\" in /opt/anaconda3/lib/python3.7/site-packages (from qiskit-aer==0.5.2->qiskit==0.19.6) (1.5.1)\n",
      "Requirement already satisfied, skipping upgrade: pybind11>=2.4 in /opt/anaconda3/lib/python3.7/site-packages (from qiskit-aer==0.5.2->qiskit==0.19.6) (2.5.0)\n",
      "Requirement already satisfied, skipping upgrade: setuptools>=40.1.0 in /opt/anaconda3/lib/python3.7/site-packages (from qiskit-ignis==0.3.3->qiskit==0.19.6) (46.0.0.post20200309)\n",
      "Requirement already satisfied, skipping upgrade: scikit-learn>=0.17 in /opt/anaconda3/lib/python3.7/site-packages (from qiskit-ignis==0.3.3->qiskit==0.19.6) (0.22.1)\n",
      "Requirement already satisfied, skipping upgrade: sympy>=1.3 in /opt/anaconda3/lib/python3.7/site-packages (from qiskit-aqua==0.7.3->qiskit==0.19.6) (1.6.1)\n",
      "Requirement already satisfied, skipping upgrade: h5py in /opt/anaconda3/lib/python3.7/site-packages (from qiskit-aqua==0.7.3->qiskit==0.19.6) (2.10.0)\n",
      "Requirement already satisfied, skipping upgrade: docplex in /opt/anaconda3/lib/python3.7/site-packages (from qiskit-aqua==0.7.3->qiskit==0.19.6) (2.15.194)\n",
      "Requirement already satisfied, skipping upgrade: psutil>=5 in /opt/anaconda3/lib/python3.7/site-packages (from qiskit-aqua==0.7.3->qiskit==0.19.6) (5.6.7)\n",
      "Requirement already satisfied, skipping upgrade: fastdtw in /opt/anaconda3/lib/python3.7/site-packages (from qiskit-aqua==0.7.3->qiskit==0.19.6) (0.3.4)\n",
      "Requirement already satisfied, skipping upgrade: networkx>=2.2 in /opt/anaconda3/lib/python3.7/site-packages (from qiskit-aqua==0.7.3->qiskit==0.19.6) (2.4)\n",
      "Requirement already satisfied, skipping upgrade: pyscf; sys_platform != \"win32\" in /opt/anaconda3/lib/python3.7/site-packages (from qiskit-aqua==0.7.3->qiskit==0.19.6) (1.7.3)\n",
      "Requirement already satisfied, skipping upgrade: dlx in /opt/anaconda3/lib/python3.7/site-packages (from qiskit-aqua==0.7.3->qiskit==0.19.6) (1.0.4)\n",
      "Requirement already satisfied, skipping upgrade: quandl in /opt/anaconda3/lib/python3.7/site-packages (from qiskit-aqua==0.7.3->qiskit==0.19.6) (3.5.1)\n",
      "Requirement already satisfied, skipping upgrade: jsonschema>=2.6 in /opt/anaconda3/lib/python3.7/site-packages (from qiskit-terra==0.14.2->qiskit==0.19.6) (3.2.0)\n",
      "Requirement already satisfied, skipping upgrade: dill>=0.3 in /opt/anaconda3/lib/python3.7/site-packages (from qiskit-terra==0.14.2->qiskit==0.19.6) (0.3.2)\n",
      "Requirement already satisfied, skipping upgrade: marshmallow-polyfield<6,>=5.7 in /opt/anaconda3/lib/python3.7/site-packages (from qiskit-terra==0.14.2->qiskit==0.19.6) (5.9)\n",
      "Requirement already satisfied, skipping upgrade: python-constraint>=1.4 in /opt/anaconda3/lib/python3.7/site-packages (from qiskit-terra==0.14.2->qiskit==0.19.6) (1.4.0)\n",
      "Requirement already satisfied, skipping upgrade: python-dateutil>=2.8.0 in /opt/anaconda3/lib/python3.7/site-packages (from qiskit-terra==0.14.2->qiskit==0.19.6) (2.8.1)\n",
      "Requirement already satisfied, skipping upgrade: fastjsonschema>=2.10 in /opt/anaconda3/lib/python3.7/site-packages (from qiskit-terra==0.14.2->qiskit==0.19.6) (2.14.4)\n",
      "Requirement already satisfied, skipping upgrade: marshmallow<4,>=3 in /opt/anaconda3/lib/python3.7/site-packages (from qiskit-terra==0.14.2->qiskit==0.19.6) (3.7.0)\n",
      "Requirement already satisfied, skipping upgrade: ply>=3.10 in /opt/anaconda3/lib/python3.7/site-packages (from qiskit-terra==0.14.2->qiskit==0.19.6) (3.11)\n",
      "Requirement already satisfied, skipping upgrade: retworkx>=0.3.2 in /opt/anaconda3/lib/python3.7/site-packages (from qiskit-terra==0.14.2->qiskit==0.19.6) (0.4.0)\n",
      "Requirement already satisfied, skipping upgrade: nest-asyncio!=1.1.0,>=1.0.0 in /opt/anaconda3/lib/python3.7/site-packages (from qiskit-ibmq-provider==0.7.2->qiskit==0.19.6) (1.4.0)\n",
      "Requirement already satisfied, skipping upgrade: urllib3>=1.21.1 in /opt/anaconda3/lib/python3.7/site-packages (from qiskit-ibmq-provider==0.7.2->qiskit==0.19.6) (1.25.8)\n",
      "Requirement already satisfied, skipping upgrade: requests>=2.19 in /opt/anaconda3/lib/python3.7/site-packages (from qiskit-ibmq-provider==0.7.2->qiskit==0.19.6) (2.22.0)\n",
      "Requirement already satisfied, skipping upgrade: websockets<8,>=7 in /opt/anaconda3/lib/python3.7/site-packages (from qiskit-ibmq-provider==0.7.2->qiskit==0.19.6) (7.0)\n",
      "Requirement already satisfied, skipping upgrade: requests-ntlm>=1.1.0 in /opt/anaconda3/lib/python3.7/site-packages (from qiskit-ibmq-provider==0.7.2->qiskit==0.19.6) (1.1.0)\n",
      "Requirement already satisfied, skipping upgrade: joblib>=0.11 in /opt/anaconda3/lib/python3.7/site-packages (from scikit-learn>=0.17->qiskit-ignis==0.3.3->qiskit==0.19.6) (0.14.1)\n",
      "Requirement already satisfied, skipping upgrade: mpmath>=0.19 in /opt/anaconda3/lib/python3.7/site-packages (from sympy>=1.3->qiskit-aqua==0.7.3->qiskit==0.19.6) (1.1.0)\n",
      "Requirement already satisfied, skipping upgrade: six in /opt/anaconda3/lib/python3.7/site-packages (from h5py->qiskit-aqua==0.7.3->qiskit==0.19.6) (1.14.0)\n",
      "Requirement already satisfied, skipping upgrade: decorator>=4.3.0 in /opt/anaconda3/lib/python3.7/site-packages (from networkx>=2.2->qiskit-aqua==0.7.3->qiskit==0.19.6) (4.4.1)\n",
      "Requirement already satisfied, skipping upgrade: pandas>=0.14 in /opt/anaconda3/lib/python3.7/site-packages (from quandl->qiskit-aqua==0.7.3->qiskit==0.19.6) (1.0.1)\n",
      "Requirement already satisfied, skipping upgrade: inflection>=0.3.1 in /opt/anaconda3/lib/python3.7/site-packages (from quandl->qiskit-aqua==0.7.3->qiskit==0.19.6) (0.5.0)\n",
      "Requirement already satisfied, skipping upgrade: more-itertools in /opt/anaconda3/lib/python3.7/site-packages (from quandl->qiskit-aqua==0.7.3->qiskit==0.19.6) (8.2.0)\n",
      "Requirement already satisfied, skipping upgrade: importlib-metadata; python_version < \"3.8\" in /opt/anaconda3/lib/python3.7/site-packages (from jsonschema>=2.6->qiskit-terra==0.14.2->qiskit==0.19.6) (1.5.0)\n",
      "Requirement already satisfied, skipping upgrade: pyrsistent>=0.14.0 in /opt/anaconda3/lib/python3.7/site-packages (from jsonschema>=2.6->qiskit-terra==0.14.2->qiskit==0.19.6) (0.15.7)\n",
      "Requirement already satisfied, skipping upgrade: attrs>=17.4.0 in /opt/anaconda3/lib/python3.7/site-packages (from jsonschema>=2.6->qiskit-terra==0.14.2->qiskit==0.19.6) (19.3.0)\n",
      "Requirement already satisfied, skipping upgrade: chardet<3.1.0,>=3.0.2 in /opt/anaconda3/lib/python3.7/site-packages (from requests>=2.19->qiskit-ibmq-provider==0.7.2->qiskit==0.19.6) (3.0.4)\n",
      "Requirement already satisfied, skipping upgrade: idna<2.9,>=2.5 in /opt/anaconda3/lib/python3.7/site-packages (from requests>=2.19->qiskit-ibmq-provider==0.7.2->qiskit==0.19.6) (2.8)\n",
      "Requirement already satisfied, skipping upgrade: certifi>=2017.4.17 in /opt/anaconda3/lib/python3.7/site-packages (from requests>=2.19->qiskit-ibmq-provider==0.7.2->qiskit==0.19.6) (2020.6.20)\n",
      "Requirement already satisfied, skipping upgrade: ntlm-auth>=1.0.2 in /opt/anaconda3/lib/python3.7/site-packages (from requests-ntlm>=1.1.0->qiskit-ibmq-provider==0.7.2->qiskit==0.19.6) (1.5.0)\n",
      "Requirement already satisfied, skipping upgrade: cryptography>=1.3 in /opt/anaconda3/lib/python3.7/site-packages (from requests-ntlm>=1.1.0->qiskit-ibmq-provider==0.7.2->qiskit==0.19.6) (2.8)\n"
     ]
    },
    {
     "name": "stdout",
     "output_type": "stream",
     "text": [
      "Requirement already satisfied, skipping upgrade: pytz>=2017.2 in /opt/anaconda3/lib/python3.7/site-packages (from pandas>=0.14->quandl->qiskit-aqua==0.7.3->qiskit==0.19.6) (2019.3)\n",
      "Requirement already satisfied, skipping upgrade: zipp>=0.5 in /opt/anaconda3/lib/python3.7/site-packages (from importlib-metadata; python_version < \"3.8\"->jsonschema>=2.6->qiskit-terra==0.14.2->qiskit==0.19.6) (2.2.0)\n",
      "Requirement already satisfied, skipping upgrade: cffi!=1.11.3,>=1.8 in /opt/anaconda3/lib/python3.7/site-packages (from cryptography>=1.3->requests-ntlm>=1.1.0->qiskit-ibmq-provider==0.7.2->qiskit==0.19.6) (1.14.0)\n",
      "Requirement already satisfied, skipping upgrade: pycparser in /opt/anaconda3/lib/python3.7/site-packages (from cffi!=1.11.3,>=1.8->cryptography>=1.3->requests-ntlm>=1.1.0->qiskit-ibmq-provider==0.7.2->qiskit==0.19.6) (2.19)\n",
      "Requirement already up-to-date: metakernel in /opt/anaconda3/lib/python3.7/site-packages (0.24.4)\n",
      "Requirement already satisfied, skipping upgrade: pexpect>=4.2 in /opt/anaconda3/lib/python3.7/site-packages (from metakernel) (4.8.0)\n",
      "Requirement already satisfied, skipping upgrade: ipykernel in /opt/anaconda3/lib/python3.7/site-packages (from metakernel) (5.1.4)\n",
      "Requirement already satisfied, skipping upgrade: ptyprocess>=0.5 in /opt/anaconda3/lib/python3.7/site-packages (from pexpect>=4.2->metakernel) (0.6.0)\n",
      "Requirement already satisfied, skipping upgrade: traitlets>=4.1.0 in /opt/anaconda3/lib/python3.7/site-packages (from ipykernel->metakernel) (4.3.3)\n",
      "Requirement already satisfied, skipping upgrade: tornado>=4.2 in /opt/anaconda3/lib/python3.7/site-packages (from ipykernel->metakernel) (6.0.3)\n",
      "Requirement already satisfied, skipping upgrade: jupyter-client in /opt/anaconda3/lib/python3.7/site-packages (from ipykernel->metakernel) (5.3.4)\n",
      "Requirement already satisfied, skipping upgrade: appnope; platform_system == \"Darwin\" in /opt/anaconda3/lib/python3.7/site-packages (from ipykernel->metakernel) (0.1.0)\n",
      "Requirement already satisfied, skipping upgrade: ipython>=5.0.0 in /opt/anaconda3/lib/python3.7/site-packages (from ipykernel->metakernel) (7.12.0)\n",
      "Requirement already satisfied, skipping upgrade: ipython-genutils in /opt/anaconda3/lib/python3.7/site-packages (from traitlets>=4.1.0->ipykernel->metakernel) (0.2.0)\n",
      "Requirement already satisfied, skipping upgrade: six in /opt/anaconda3/lib/python3.7/site-packages (from traitlets>=4.1.0->ipykernel->metakernel) (1.14.0)\n",
      "Requirement already satisfied, skipping upgrade: decorator in /opt/anaconda3/lib/python3.7/site-packages (from traitlets>=4.1.0->ipykernel->metakernel) (4.4.1)\n",
      "Requirement already satisfied, skipping upgrade: jupyter-core>=4.6.0 in /opt/anaconda3/lib/python3.7/site-packages (from jupyter-client->ipykernel->metakernel) (4.6.1)\n",
      "Requirement already satisfied, skipping upgrade: python-dateutil>=2.1 in /opt/anaconda3/lib/python3.7/site-packages (from jupyter-client->ipykernel->metakernel) (2.8.1)\n",
      "Requirement already satisfied, skipping upgrade: pyzmq>=13 in /opt/anaconda3/lib/python3.7/site-packages (from jupyter-client->ipykernel->metakernel) (18.1.1)\n",
      "Requirement already satisfied, skipping upgrade: pickleshare in /opt/anaconda3/lib/python3.7/site-packages (from ipython>=5.0.0->ipykernel->metakernel) (0.7.5)\n",
      "Requirement already satisfied, skipping upgrade: prompt-toolkit!=3.0.0,!=3.0.1,<3.1.0,>=2.0.0 in /opt/anaconda3/lib/python3.7/site-packages (from ipython>=5.0.0->ipykernel->metakernel) (3.0.3)\n",
      "Requirement already satisfied, skipping upgrade: jedi>=0.10 in /opt/anaconda3/lib/python3.7/site-packages (from ipython>=5.0.0->ipykernel->metakernel) (0.14.1)\n",
      "Requirement already satisfied, skipping upgrade: pygments in /opt/anaconda3/lib/python3.7/site-packages (from ipython>=5.0.0->ipykernel->metakernel) (2.5.2)\n",
      "Requirement already satisfied, skipping upgrade: setuptools>=18.5 in /opt/anaconda3/lib/python3.7/site-packages (from ipython>=5.0.0->ipykernel->metakernel) (46.0.0.post20200309)\n",
      "Requirement already satisfied, skipping upgrade: backcall in /opt/anaconda3/lib/python3.7/site-packages (from ipython>=5.0.0->ipykernel->metakernel) (0.1.0)\n",
      "Requirement already satisfied, skipping upgrade: wcwidth in /opt/anaconda3/lib/python3.7/site-packages (from prompt-toolkit!=3.0.0,!=3.0.1,<3.1.0,>=2.0.0->ipython>=5.0.0->ipykernel->metakernel) (0.1.8)\n",
      "Requirement already satisfied, skipping upgrade: parso>=0.5.0 in /opt/anaconda3/lib/python3.7/site-packages (from jedi>=0.10->ipython>=5.0.0->ipykernel->metakernel) (0.5.2)\n",
      "Requirement already up-to-date: portalocker in /opt/anaconda3/lib/python3.7/site-packages (2.0.0)\n",
      "Requirement already up-to-date: matplotlib in /opt/anaconda3/lib/python3.7/site-packages (3.3.1)\n",
      "Requirement already satisfied, skipping upgrade: pyparsing!=2.0.4,!=2.1.2,!=2.1.6,>=2.0.3 in /opt/anaconda3/lib/python3.7/site-packages (from matplotlib) (2.4.6)\n",
      "Requirement already satisfied, skipping upgrade: kiwisolver>=1.0.1 in /opt/anaconda3/lib/python3.7/site-packages (from matplotlib) (1.1.0)\n",
      "Requirement already satisfied, skipping upgrade: python-dateutil>=2.1 in /opt/anaconda3/lib/python3.7/site-packages (from matplotlib) (2.8.1)\n",
      "Requirement already satisfied, skipping upgrade: cycler>=0.10 in /opt/anaconda3/lib/python3.7/site-packages (from matplotlib) (0.10.0)\n",
      "Requirement already satisfied, skipping upgrade: pillow>=6.2.0 in /opt/anaconda3/lib/python3.7/site-packages (from matplotlib) (7.0.0)\n",
      "Requirement already satisfied, skipping upgrade: certifi>=2020.06.20 in /opt/anaconda3/lib/python3.7/site-packages (from matplotlib) (2020.6.20)\n",
      "Requirement already satisfied, skipping upgrade: numpy>=1.15 in /opt/anaconda3/lib/python3.7/site-packages (from matplotlib) (1.18.1)\n",
      "Requirement already satisfied, skipping upgrade: setuptools in /opt/anaconda3/lib/python3.7/site-packages (from kiwisolver>=1.0.1->matplotlib) (46.0.0.post20200309)\n",
      "Requirement already satisfied, skipping upgrade: six>=1.5 in /opt/anaconda3/lib/python3.7/site-packages (from python-dateutil>=2.1->matplotlib) (1.14.0)\n"
     ]
    }
   ],
   "source": [
    "# install dependencies\n",
    "!pip install --upgrade qiskit==0.19.6 \n",
    "!pip install --upgrade metakernel\n",
    "!pip install --upgrade portalocker\n",
    "!pip install --upgrade matplotlib"
   ]
  },
  {
   "cell_type": "code",
   "execution_count": 2,
   "metadata": {},
   "outputs": [
    {
     "name": "stdout",
     "output_type": "stream",
     "text": [
      "You are now running Qiskit with the following version numbers\n",
      "{'qiskit-terra': '0.14.2', 'qiskit-aer': '0.5.2', 'qiskit-ignis': '0.3.3', 'qiskit-ibmq-provider': '0.7.2', 'qiskit-aqua': '0.7.3', 'qiskit': '0.19.6'}\n"
     ]
    }
   ],
   "source": [
    "from metakernel import register_ipython_magics\n",
    "register_ipython_magics()\n",
    "\n",
    "from IPython.display import clear_output\n",
    "clear_output()\n",
    "\n",
    "import qiskit\n",
    "version_info = qiskit.__qiskit_version__\n",
    "print(\"You are now running Qiskit with the following version numbers\")\n",
    "print(version_info)"
   ]
  },
  {
   "cell_type": "markdown",
   "metadata": {},
   "source": [
    "# Personal Information"
   ]
  },
  {
   "cell_type": "code",
   "execution_count": 3,
   "metadata": {},
   "outputs": [
    {
     "name": "stdout",
     "output_type": "stream",
     "text": [
      "Done\n"
     ]
    }
   ],
   "source": [
    "your_name = \"Shovit Bhari\" # insert your name here between the quotes\n",
    "\n",
    "import os\n",
    "try:\n",
    "    assert(your_name != '')\n",
    "    answer_dir = 'answers/'\n",
    "    if not os.path.isdir(answer_dir):\n",
    "        os.mkdir(answer_dir)\n",
    "    open(answer_dir + 'taker_info.txt', 'w').write('name = {}\\nversion_info = {}'.format(your_name, version_info))\n",
    "    print('Done')\n",
    "except:\n",
    "    print(\"Error. Please reach out in the #qiskit-advocates-help on Qiskit Slack.\")  "
   ]
  },
  {
   "cell_type": "markdown",
   "metadata": {},
   "source": [
    "---\n",
    "# Space for trying out answers\n",
    "You can add any new cells in this notebook to try to figure out the answers for questions. "
   ]
  },
  {
   "cell_type": "code",
   "execution_count": 4,
   "metadata": {},
   "outputs": [
    {
     "data": {
      "image/png": "[encoded data removed]",
      "text/plain": [
       "<Figure size 173.376x84.28 with 1 Axes>"
      ]
     },
     "execution_count": 4,
     "metadata": {},
     "output_type": "execute_result"
    }
   ],
   "source": [
    "# example\n",
    "from qiskit import QuantumCircuit\n",
    "qc = QuantumCircuit(1)\n",
    "qc.h(0)\n",
    "qc.draw('mpl')"
   ]
  },
  {
   "cell_type": "code",
   "execution_count": 5,
   "metadata": {},
   "outputs": [],
   "source": [
    "# you can insert new cells like this by clicking the \"+\" button on the menu bar"
   ]
  },
  {
   "cell_type": "markdown",
   "metadata": {},
   "source": [
    "---\n",
    "# Contents <a name=\"toc\"></a>\n",
    "\n",
    "1. [Circuits (5 questions)](#circuits)\n",
    "1. [Advanced Circuits (5 questions)](#advanced_circuits)\n",
    "1. [Running on Real Devices (2 questions)](#real_devices)\n",
    "1. [Pulse (5 questions)](#pulse)\n",
    "1. [High-Performance Simulators (7 questions)](#simulators)\n",
    "1. [Quantum System Error Analysis  (3 questions)](#error_analysis)\n",
    "1. [Optimization (3 questions)](#optimization)"
   ]
  },
  {
   "cell_type": "markdown",
   "metadata": {},
   "source": [
    "# Circuits (5 questions)<a name=\"circuits\"></a>\n",
    "Reference: \n",
    "1. [Qiskit Tutorials - Circuits](https://qiskit.org/documentation/tutorials/circuits/index.html)\n",
    "1. [Qiskit Documentation - Terra](https://qiskit.org/documentation/apidoc/terra.html)\n",
    "1. [Coding with Qiskit - Ep.3 Hello World](https://www.youtube.com/watch?v=RrUTwq5jKM4)\n",
    "1. [Coding with Qiskit - Ep.4 Building Blocks of Quantum Circuits](https://www.youtube.com/watch?v=tBnWG_95F9c)"
   ]
  },
  {
   "cell_type": "code",
   "execution_count": 6,
   "metadata": {},
   "outputs": [
    {
     "data": {
      "application/vnd.jupyter.widget-view+json": {
       "model_id": "b44da02526024af8920b22bbefa2e689",
       "version_major": 2,
       "version_minor": 0
      },
      "text/plain": [
       "VBox(children=(HBox(children=(VBox(children=(HTML(value='<p><b>Question ID</b>: 1</p>'), HTML(value='<h1><h4>W…"
      ]
     },
     "metadata": {},
     "output_type": "display_data"
    }
   ],
   "source": [
    "%activity questions/circuits"
   ]
  },
  {
   "cell_type": "markdown",
   "metadata": {},
   "source": [
    "# Advanced Circuits (5 questions)<a name=\"advanced_circuits\"></a>\n",
    "Reference: \n",
    "1. [Qiskit Tutorials - Advanced Circuits](https://qiskit.org/documentation/tutorials/circuits_advanced/index.html)\n",
    "1. [Qiskit Documentation - Terra](https://qiskit.org/documentation/apidoc/terra.html)\n",
    "1. [Circuit Sessions - Qiskit Circuit Library](https://www.youtube.com/watch?v=SsXJgAZ6aIg)\n",
    "1. [Circuit Sessions - Transpiling Quantum Circuits](https://www.youtube.com/watch?v=2T3163VjvWQ)"
   ]
  },
  {
   "cell_type": "code",
   "execution_count": 7,
   "metadata": {},
   "outputs": [
    {
     "data": {
      "application/vnd.jupyter.widget-view+json": {
       "model_id": "e57549ea465d43db99c54e4c10f14c00",
       "version_major": 2,
       "version_minor": 0
      },
      "text/plain": [
       "VBox(children=(HBox(children=(VBox(children=(HTML(value='<p><b>Question ID</b>: 1</p>'), HTML(value='<h1>\\n   …"
      ]
     },
     "metadata": {},
     "output_type": "display_data"
    }
   ],
   "source": [
    "%activity questions/advanced_circuits"
   ]
  },
  {
   "cell_type": "markdown",
   "metadata": {},
   "source": [
    "# Running on Real Devices (2 questions)<a name=\"real_devices\"></a>\n",
    "Reference: \n",
    "1. [Qiskit Tutorials - The IBM Account](https://github.com/Qiskit/qiskit-tutorials/blob/master/legacy_tutorials/terra/3_the_ibmq_account.ipynb)\n",
    "1. [Qiskit Documentation - IBM Quantum Provider](https://qiskit.org/documentation/apidoc/ibmq_provider.html)\n",
    "1. [1 Minute Qiskit - How can I retrieve an old job from IBM Quantum?](https://www.youtube.com/watch?v=09-Qsge_qqo&list=PLOFEBzvs-VvpOCmJ9BonUhf7NYB4d1p0e&index=6)"
   ]
  },
  {
   "cell_type": "code",
   "execution_count": 8,
   "metadata": {},
   "outputs": [
    {
     "data": {
      "application/vnd.jupyter.widget-view+json": {
       "model_id": "2293b2d920524940a27d134bc927cdae",
       "version_major": 2,
       "version_minor": 0
      },
      "text/plain": [
       "VBox(children=(HBox(children=(VBox(children=(HTML(value='<p><b>Question ID</b>: 1</p>'), HTML(value='<h1>\\n   …"
      ]
     },
     "metadata": {},
     "output_type": "display_data"
    }
   ],
   "source": [
    "%activity questions/real_devices"
   ]
  },
  {
   "cell_type": "markdown",
   "metadata": {},
   "source": [
    "# Pulse (5 questions)<a name=\"pulse\"></a>\n",
    "Reference:\n",
    "1. [Qiskit Tutorials - Pulse](https://qiskit.org/documentation/tutorials/pulse/index.html)\n",
    "1. [Qiskit Textbook - Ch.6.1 Calibrating Qubits with Qiskit Pulse](https://qiskit.org/textbook/ch-quantum-hardware/calibrating-qubits-openpulse.html)\n",
    "1. [Qiskit Documentation - Pulse](https://qiskit.org/documentation/apidoc/pulse.html)\n",
    "1. [Qiskit Live - Quantum Coding with Lauren Capelluto](https://www.youtube.com/watch?v=ZvipHRY-URs)"
   ]
  },
  {
   "cell_type": "code",
   "execution_count": 9,
   "metadata": {},
   "outputs": [
    {
     "data": {
      "application/vnd.jupyter.widget-view+json": {
       "model_id": "2d092c6fd07340a8aed00229d8d1d2ea",
       "version_major": 2,
       "version_minor": 0
      },
      "text/plain": [
       "VBox(children=(HBox(children=(VBox(children=(HTML(value='<p><b>Question ID</b>: 1</p>'), HTML(value='<h1>\\n   …"
      ]
     },
     "metadata": {},
     "output_type": "display_data"
    }
   ],
   "source": [
    "%activity questions/pulse"
   ]
  },
  {
   "cell_type": "markdown",
   "metadata": {},
   "source": [
    "# High-Performance Simulators (7 questions)<a name=\"simulators\"></a>\n",
    "Reference:\n",
    "1. [Qiskit Tutorials - High-Performance Simulators](https://qiskit.org/documentation/tutorials/simulators/index.html)\n",
    "1. [Qiskit Documentation - Aer](https://qiskit.org/documentation/apidoc/aer.html)\n",
    "1. [Circuit Sessions - How to simulate a circuit](https://www.youtube.com/watch?v=VvP41TwY34o)"
   ]
  },
  {
   "cell_type": "code",
   "execution_count": 10,
   "metadata": {},
   "outputs": [
    {
     "data": {
      "application/vnd.jupyter.widget-view+json": {
       "model_id": "efa8be2db70346a697dbc03dea29bdf9",
       "version_major": 2,
       "version_minor": 0
      },
      "text/plain": [
       "VBox(children=(HBox(children=(VBox(children=(HTML(value='<p><b>Question ID</b>: 1</p>'), HTML(value='<h1>\\n   …"
      ]
     },
     "metadata": {},
     "output_type": "display_data"
    }
   ],
   "source": [
    "%activity questions/simulators"
   ]
  },
  {
   "cell_type": "markdown",
   "metadata": {},
   "source": [
    "# Quantum System Error Analysis (3 questions)<a name=\"error_analysis\"></a>\n",
    "Reference:\n",
    "1. [Qiskit Tutorials - Quantum System Error Analysis](https://qiskit.org/documentation/tutorials/noise/index.html)\n",
    "1. [Qiskit Documentation - Ignis](https://qiskit.org/documentation/apidoc/ignis.html)\n",
    "1. [Coding with Qiskit - Ep.8 Mitigating Noise on Real Quantum Computers](https://www.youtube.com/watch?v=yuDxHJOKsVA)"
   ]
  },
  {
   "cell_type": "code",
   "execution_count": 11,
   "metadata": {},
   "outputs": [
    {
     "data": {
      "application/vnd.jupyter.widget-view+json": {
       "model_id": "23a174b4eb1e452c8afc0f9b584cceff",
       "version_major": 2,
       "version_minor": 0
      },
      "text/plain": [
       "VBox(children=(HBox(children=(VBox(children=(HTML(value='<p><b>Question ID</b>: 1</p>'), HTML(value='<h1>\\n   …"
      ]
     },
     "metadata": {},
     "output_type": "display_data"
    }
   ],
   "source": [
    "%activity questions/error_analysis"
   ]
  },
  {
   "cell_type": "markdown",
   "metadata": {},
   "source": [
    "# Optimization (3 questions)<a name=\"optimization\"></a>\n",
    "Reference:\n",
    "1. [Qiskit Tutorials - Optimization](https://qiskit.org/documentation/tutorials/optimization/index.html)\n",
    "1. [Qiskit Documentation - Optimization](https://qiskit.org/documentation/apidoc/qiskit_optimization.html)\n",
    "1. [Qiskit Medium - A Walkthrough of Qiskit’s New Optimization Module](https://medium.com/qiskit/towards-quantum-advantage-for-optimization-with-qiskit-9a564339ef26)"
   ]
  },
  {
   "cell_type": "code",
   "execution_count": 12,
   "metadata": {},
   "outputs": [
    {
     "data": {
      "application/vnd.jupyter.widget-view+json": {
       "model_id": "743968e6326646ff90409c0782f68253",
       "version_major": 2,
       "version_minor": 0
      },
      "text/plain": [
       "VBox(children=(HBox(children=(VBox(children=(HTML(value='<p><b>Question ID</b>: 1</p>'), HTML(value=\"<h1>\\n   …"
      ]
     },
     "metadata": {},
     "output_type": "display_data"
    }
   ],
   "source": [
    "%activity questions/optimization"
   ]
  },
  {
   "cell_type": "markdown",
   "metadata": {},
   "source": [
    "# Submit"
   ]
  },
  {
   "cell_type": "code",
   "execution_count": 13,
   "metadata": {},
   "outputs": [
    {
     "name": "stdout",
     "output_type": "stream",
     "text": [
      "Done. Please attach answers_Shovit Bhari.zip to the application form for grading.\n"
     ]
    }
   ],
   "source": [
    "from shutil import make_archive\n",
    "try:\n",
    "    assert(os.path.exists(answer_dir + 'circuits.results'))\n",
    "    assert(os.path.exists(answer_dir + 'advanced_circuits.results'))\n",
    "    assert(os.path.exists(answer_dir + 'real_devices.results'))\n",
    "    assert(os.path.exists(answer_dir + 'pulse.results'))\n",
    "    assert(os.path.exists(answer_dir + 'simulators.results'))\n",
    "    assert(os.path.exists(answer_dir + 'error_analysis.results'))\n",
    "    assert(os.path.exists(answer_dir + 'optimization.results'))\n",
    "    assert(os.path.exists(answer_dir + 'taker_info.txt'))\n",
    "    zipfilename = 'answers_{}'.format(your_name)\n",
    "    make_archive(zipfilename, 'zip', answer_dir)\n",
    "    print('Done. Please attach {}.zip to the application form for grading.'.format(zipfilename))\n",
    "except:\n",
    "    print(\"You have not completed all the sections. If you think this is in error, please contact us in the #qiskit-advocates-help channel on Qiskit Slack\")"
   ]
  },
  {
   "cell_type": "code",
   "execution_count": null,
   "metadata": {},
   "outputs": [],
   "source": []
  }
 ],
 "metadata": {
  "kernelspec": {
   "display_name": "Python 3",
   "language": "python",
   "name": "python3"
  },
  "language_info": {
   "codemirror_mode": {
    "name": "ipython",
    "version": 3
   },
   "file_extension": ".py",
   "mimetype": "text/x-python",
   "name": "python",
   "nbconvert_exporter": "python",
   "pygments_lexer": "ipython3",
   "version": "3.7.6"
  }
 },
 "nbformat": 4,
 "nbformat_minor": 4
}
