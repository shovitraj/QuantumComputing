{
 "cells": [
  {
   "cell_type": "markdown",
   "metadata": {},
   "source": [
    "# Introduction to Qiskit\n",
    "Welcome to the Quantum Challenge! Here you will be using Qiskit, the open source quantum software development kit developed by IBM Quantum and community members around the globe. The following exercises will familiarize you with the basic elements of Qiskit and quantum circuits. \n",
    "\n",
    "To begin, let us define what a quantum circuit is:\n",
    "\n",
    "> **\"A quantum circuit is a computational routine consisting of coherent quantum operations on quantum data, such as qubits. It is an ordered sequence of quantum gates, measurements, and resets, which may be conditioned on real-time classical computation.\"** (https://qiskit.org/textbook/ch-algorithms/defining-quantum-circuits.html)\n",
    "\n",
    "While this might be clear to a quantum physicist, don't worry if it is not self-explanatory to you.  During this exercise you will learn what a qubit is, how to apply quantum gates to it, and how to measure its final state. You will then be able to create your own quantum circuits! By the end, you should be able to explain the fundamentals of quantum circuits to your colleagues.\n",
    "\n",
    "Before starting with the exercises, please run cell *Cell 1* below by clicking on it and pressing 'shift' + 'enter'. This is the general way to execute a code cell in the Jupyter notebook environment that you are using now. While it is running, you will see `In [*]:` in the top left of that cell. Once it finishes running, you will see a number instead of the star, which indicates how many cells you've run. You can find more information about Jupyter notebooks here: https://qiskit.org/textbook/ch-prerequisites/python-and-jupyter-notebooks.html.\n",
    "\n",
    "---\n",
    "For useful tips to complete this exercise as well as pointers for communicating with other participants and asking questions, please take a look at the following [repository](https://github.com/qiskit-community/may4_challenge_exercises). You will also find a copy of these exercises, so feel free to edit and experiment with these notebooks.\n",
    "\n",
    "---"
   ]
  },
  {
   "cell_type": "code",
   "execution_count": null,
   "metadata": {},
   "outputs": [],
   "source": []
  },
  {
   "cell_type": "code",
   "execution_count": 2,
   "metadata": {},
   "outputs": [
    {
     "name": "stdout",
     "output_type": "stream",
     "text": [
      "Requirement already satisfied: qiskit in /Users/shovitraj/opt/anaconda3/lib/python3.7/site-packages (0.16.2)\n",
      "Requirement already satisfied: qiskit-terra==0.12.0 in /Users/shovitraj/opt/anaconda3/lib/python3.7/site-packages (from qiskit) (0.12.0)\n",
      "Requirement already satisfied: qiskit-aer==0.4.1 in /Users/shovitraj/opt/anaconda3/lib/python3.7/site-packages (from qiskit) (0.4.1)\n",
      "Requirement already satisfied: qiskit-ignis==0.2.0 in /Users/shovitraj/opt/anaconda3/lib/python3.7/site-packages (from qiskit) (0.2.0)\n",
      "Requirement already satisfied: qiskit-ibmq-provider==0.5.0 in /Users/shovitraj/opt/anaconda3/lib/python3.7/site-packages (from qiskit) (0.5.0)\n",
      "Requirement already satisfied: qiskit-aqua==0.6.5 in /Users/shovitraj/opt/anaconda3/lib/python3.7/site-packages (from qiskit) (0.6.5)\n",
      "Requirement already satisfied: ply>=3.10 in /Users/shovitraj/opt/anaconda3/lib/python3.7/site-packages (from qiskit-terra==0.12.0->qiskit) (3.11)\n",
      "Requirement already satisfied: scipy>=1.0 in /Users/shovitraj/opt/anaconda3/lib/python3.7/site-packages (from qiskit-terra==0.12.0->qiskit) (1.3.1)\n",
      "Requirement already satisfied: sympy>=1.3 in /Users/shovitraj/opt/anaconda3/lib/python3.7/site-packages (from qiskit-terra==0.12.0->qiskit) (1.4)\n",
      "Requirement already satisfied: numpy>=1.13 in /Users/shovitraj/opt/anaconda3/lib/python3.7/site-packages (from qiskit-terra==0.12.0->qiskit) (1.17.2)\n",
      "Requirement already satisfied: networkx>=2.2; python_version > \"3.5\" in /Users/shovitraj/opt/anaconda3/lib/python3.7/site-packages (from qiskit-terra==0.12.0->qiskit) (2.3)\n",
      "Requirement already satisfied: marshmallow<4,>=3 in /Users/shovitraj/opt/anaconda3/lib/python3.7/site-packages (from qiskit-terra==0.12.0->qiskit) (3.5.1)\n",
      "Requirement already satisfied: dill>=0.3 in /Users/shovitraj/opt/anaconda3/lib/python3.7/site-packages (from qiskit-terra==0.12.0->qiskit) (0.3.1.1)\n",
      "Requirement already satisfied: jsonschema>=2.6 in /Users/shovitraj/opt/anaconda3/lib/python3.7/site-packages (from qiskit-terra==0.12.0->qiskit) (3.0.2)\n",
      "Requirement already satisfied: psutil>=5 in /Users/shovitraj/opt/anaconda3/lib/python3.7/site-packages (from qiskit-terra==0.12.0->qiskit) (5.6.3)\n",
      "Requirement already satisfied: marshmallow-polyfield<6,>=5.7 in /Users/shovitraj/opt/anaconda3/lib/python3.7/site-packages (from qiskit-terra==0.12.0->qiskit) (5.9)\n",
      "Requirement already satisfied: pybind11>=2.4 in /Users/shovitraj/opt/anaconda3/lib/python3.7/site-packages (from qiskit-aer==0.4.1->qiskit) (2.4.3)\n",
      "Requirement already satisfied: cython>=0.27.1 in /Users/shovitraj/opt/anaconda3/lib/python3.7/site-packages (from qiskit-aer==0.4.1->qiskit) (0.29.13)\n",
      "Requirement already satisfied: setuptools>=40.1.0 in /Users/shovitraj/opt/anaconda3/lib/python3.7/site-packages (from qiskit-ignis==0.2.0->qiskit) (41.4.0)\n",
      "Requirement already satisfied: websockets<8,>=7 in /Users/shovitraj/opt/anaconda3/lib/python3.7/site-packages (from qiskit-ibmq-provider==0.5.0->qiskit) (7.0)\n",
      "Requirement already satisfied: requests>=2.19 in /Users/shovitraj/opt/anaconda3/lib/python3.7/site-packages (from qiskit-ibmq-provider==0.5.0->qiskit) (2.22.0)\n",
      "Requirement already satisfied: nest-asyncio!=1.1.0,>=1.0.0 in /Users/shovitraj/opt/anaconda3/lib/python3.7/site-packages (from qiskit-ibmq-provider==0.5.0->qiskit) (1.3.2)\n",
      "Requirement already satisfied: arrow>=0.15.5 in /Users/shovitraj/opt/anaconda3/lib/python3.7/site-packages (from qiskit-ibmq-provider==0.5.0->qiskit) (0.15.5)\n",
      "Requirement already satisfied: requests-ntlm>=1.1.0 in /Users/shovitraj/opt/anaconda3/lib/python3.7/site-packages (from qiskit-ibmq-provider==0.5.0->qiskit) (1.1.0)\n",
      "Requirement already satisfied: scikit-learn>=0.20.0 in /Users/shovitraj/opt/anaconda3/lib/python3.7/site-packages (from qiskit-aqua==0.6.5->qiskit) (0.21.3)\n",
      "Requirement already satisfied: dlx in /Users/shovitraj/opt/anaconda3/lib/python3.7/site-packages (from qiskit-aqua==0.6.5->qiskit) (1.0.4)\n",
      "Requirement already satisfied: fastdtw in /Users/shovitraj/opt/anaconda3/lib/python3.7/site-packages (from qiskit-aqua==0.6.5->qiskit) (0.3.4)\n",
      "Requirement already satisfied: h5py in /Users/shovitraj/opt/anaconda3/lib/python3.7/site-packages (from qiskit-aqua==0.6.5->qiskit) (2.9.0)\n",
      "Requirement already satisfied: quandl in /Users/shovitraj/opt/anaconda3/lib/python3.7/site-packages (from qiskit-aqua==0.6.5->qiskit) (3.5.0)\n",
      "Requirement already satisfied: docplex in /Users/shovitraj/opt/anaconda3/lib/python3.7/site-packages (from qiskit-aqua==0.6.5->qiskit) (2.13.184)\n",
      "Requirement already satisfied: pyscf; sys_platform == \"linux\" or (python_version < \"3.8\" and sys_platform != \"win32\") in /Users/shovitraj/opt/anaconda3/lib/python3.7/site-packages (from qiskit-aqua==0.6.5->qiskit) (1.7.1.post1)\n",
      "Requirement already satisfied: mpmath>=0.19 in /Users/shovitraj/opt/anaconda3/lib/python3.7/site-packages (from sympy>=1.3->qiskit-terra==0.12.0->qiskit) (1.1.0)\n",
      "Requirement already satisfied: decorator>=4.3.0 in /Users/shovitraj/opt/anaconda3/lib/python3.7/site-packages (from networkx>=2.2; python_version > \"3.5\"->qiskit-terra==0.12.0->qiskit) (4.4.0)\n",
      "Requirement already satisfied: attrs>=17.4.0 in /Users/shovitraj/opt/anaconda3/lib/python3.7/site-packages (from jsonschema>=2.6->qiskit-terra==0.12.0->qiskit) (19.2.0)\n",
      "Requirement already satisfied: six>=1.11.0 in /Users/shovitraj/opt/anaconda3/lib/python3.7/site-packages (from jsonschema>=2.6->qiskit-terra==0.12.0->qiskit) (1.12.0)\n",
      "Requirement already satisfied: pyrsistent>=0.14.0 in /Users/shovitraj/opt/anaconda3/lib/python3.7/site-packages (from jsonschema>=2.6->qiskit-terra==0.12.0->qiskit) (0.15.4)\n",
      "Requirement already satisfied: chardet<3.1.0,>=3.0.2 in /Users/shovitraj/opt/anaconda3/lib/python3.7/site-packages (from requests>=2.19->qiskit-ibmq-provider==0.5.0->qiskit) (3.0.4)\n",
      "Requirement already satisfied: idna<2.9,>=2.5 in /Users/shovitraj/opt/anaconda3/lib/python3.7/site-packages (from requests>=2.19->qiskit-ibmq-provider==0.5.0->qiskit) (2.8)\n",
      "Requirement already satisfied: certifi>=2017.4.17 in /Users/shovitraj/opt/anaconda3/lib/python3.7/site-packages (from requests>=2.19->qiskit-ibmq-provider==0.5.0->qiskit) (2019.9.11)\n",
      "Requirement already satisfied: urllib3!=1.25.0,!=1.25.1,<1.26,>=1.21.1 in /Users/shovitraj/opt/anaconda3/lib/python3.7/site-packages (from requests>=2.19->qiskit-ibmq-provider==0.5.0->qiskit) (1.24.2)\n",
      "Requirement already satisfied: python-dateutil in /Users/shovitraj/opt/anaconda3/lib/python3.7/site-packages (from arrow>=0.15.5->qiskit-ibmq-provider==0.5.0->qiskit) (2.8.0)\n",
      "Requirement already satisfied: cryptography>=1.3 in /Users/shovitraj/opt/anaconda3/lib/python3.7/site-packages (from requests-ntlm>=1.1.0->qiskit-ibmq-provider==0.5.0->qiskit) (2.7)\n",
      "Requirement already satisfied: ntlm-auth>=1.0.2 in /Users/shovitraj/opt/anaconda3/lib/python3.7/site-packages (from requests-ntlm>=1.1.0->qiskit-ibmq-provider==0.5.0->qiskit) (1.4.0)\n",
      "Requirement already satisfied: joblib>=0.11 in /Users/shovitraj/opt/anaconda3/lib/python3.7/site-packages (from scikit-learn>=0.20.0->qiskit-aqua==0.6.5->qiskit) (0.13.2)\n",
      "Requirement already satisfied: inflection>=0.3.1 in /Users/shovitraj/opt/anaconda3/lib/python3.7/site-packages (from quandl->qiskit-aqua==0.6.5->qiskit) (0.3.1)\n",
      "Requirement already satisfied: pandas>=0.14 in /Users/shovitraj/opt/anaconda3/lib/python3.7/site-packages (from quandl->qiskit-aqua==0.6.5->qiskit) (0.25.1)\n",
      "Requirement already satisfied: more-itertools in /Users/shovitraj/opt/anaconda3/lib/python3.7/site-packages (from quandl->qiskit-aqua==0.6.5->qiskit) (7.2.0)\n",
      "Requirement already satisfied: asn1crypto>=0.21.0 in /Users/shovitraj/opt/anaconda3/lib/python3.7/site-packages (from cryptography>=1.3->requests-ntlm>=1.1.0->qiskit-ibmq-provider==0.5.0->qiskit) (1.0.1)\n",
      "Requirement already satisfied: cffi!=1.11.3,>=1.8 in /Users/shovitraj/opt/anaconda3/lib/python3.7/site-packages (from cryptography>=1.3->requests-ntlm>=1.1.0->qiskit-ibmq-provider==0.5.0->qiskit) (1.12.3)\n",
      "Requirement already satisfied: pytz>=2017.2 in /Users/shovitraj/opt/anaconda3/lib/python3.7/site-packages (from pandas>=0.14->quandl->qiskit-aqua==0.6.5->qiskit) (2019.3)\n",
      "Requirement already satisfied: pycparser in /Users/shovitraj/opt/anaconda3/lib/python3.7/site-packages (from cffi!=1.11.3,>=1.8->cryptography>=1.3->requests-ntlm>=1.1.0->qiskit-ibmq-provider==0.5.0->qiskit) (2.19)\n"
     ]
    },
    {
     "name": "stdout",
     "output_type": "stream",
     "text": [
      "Note: you may need to restart the kernel to use updated packages.\n"
     ]
    }
   ],
   "source": [
    "pip install qiskit"
   ]
  },
  {
   "cell_type": "code",
   "execution_count": null,
   "metadata": {},
   "outputs": [],
   "source": []
  },
  {
   "cell_type": "code",
   "execution_count": 5,
   "metadata": {},
   "outputs": [
    {
     "name": "stdout",
     "output_type": "stream",
     "text": [
      "Collecting may4_challenge\n",
      "\u001b[31m  ERROR: Could not find a version that satisfies the requirement may4_challenge (from versions: none)\u001b[0m\n",
      "\u001b[31mERROR: No matching distribution found for may4_challenge\u001b[0m\n",
      "Note: you may need to restart the kernel to use updated packages.\n"
     ]
    }
   ],
   "source": [
    "pip install may4_challenge"
   ]
  },
  {
   "cell_type": "code",
   "execution_count": null,
   "metadata": {},
   "outputs": [],
   "source": []
  },
  {
   "cell_type": "code",
   "execution_count": 4,
   "metadata": {},
   "outputs": [
    {
     "ename": "ModuleNotFoundError",
     "evalue": "No module named 'may4_challenge'",
     "output_type": "error",
     "traceback": [
      "\u001b[0;31m---------------------------------------------------------------------------\u001b[0m",
      "\u001b[0;31mModuleNotFoundError\u001b[0m                       Traceback (most recent call last)",
      "\u001b[0;32m<ipython-input-4-c4e2653eeb36>\u001b[0m in \u001b[0;36m<module>\u001b[0;34m\u001b[0m\n\u001b[1;32m      6\u001b[0m \u001b[0;32mfrom\u001b[0m \u001b[0mIPython\u001b[0m\u001b[0;34m.\u001b[0m\u001b[0mdisplay\u001b[0m \u001b[0;32mimport\u001b[0m \u001b[0mdisplay\u001b[0m\u001b[0;34m,\u001b[0m \u001b[0mMath\u001b[0m\u001b[0;34m,\u001b[0m \u001b[0mLatex\u001b[0m\u001b[0;34m\u001b[0m\u001b[0;34m\u001b[0m\u001b[0m\n\u001b[1;32m      7\u001b[0m \u001b[0;34m\u001b[0m\u001b[0m\n\u001b[0;32m----> 8\u001b[0;31m \u001b[0;32mfrom\u001b[0m \u001b[0mmay4_challenge\u001b[0m \u001b[0;32mimport\u001b[0m \u001b[0mplot_state_qsphere\u001b[0m\u001b[0;34m\u001b[0m\u001b[0;34m\u001b[0m\u001b[0m\n\u001b[0m\u001b[1;32m      9\u001b[0m \u001b[0;32mfrom\u001b[0m \u001b[0mmay4_challenge\u001b[0m\u001b[0;34m.\u001b[0m\u001b[0mex1\u001b[0m \u001b[0;32mimport\u001b[0m \u001b[0mminicomposer\u001b[0m\u001b[0;34m\u001b[0m\u001b[0;34m\u001b[0m\u001b[0m\n\u001b[1;32m     10\u001b[0m \u001b[0;32mfrom\u001b[0m \u001b[0mmay4_challenge\u001b[0m\u001b[0;34m.\u001b[0m\u001b[0mex1\u001b[0m \u001b[0;32mimport\u001b[0m \u001b[0mcheck1\u001b[0m\u001b[0;34m,\u001b[0m \u001b[0mcheck2\u001b[0m\u001b[0;34m,\u001b[0m \u001b[0mcheck3\u001b[0m\u001b[0;34m,\u001b[0m \u001b[0mcheck4\u001b[0m\u001b[0;34m,\u001b[0m \u001b[0mcheck5\u001b[0m\u001b[0;34m,\u001b[0m \u001b[0mcheck6\u001b[0m\u001b[0;34m,\u001b[0m \u001b[0mcheck7\u001b[0m\u001b[0;34m,\u001b[0m \u001b[0mcheck8\u001b[0m\u001b[0;34m\u001b[0m\u001b[0;34m\u001b[0m\u001b[0m\n",
      "\u001b[0;31mModuleNotFoundError\u001b[0m: No module named 'may4_challenge'"
     ]
    }
   ],
   "source": [
    "# Cell 1\n",
    "import numpy as np\n",
    "\n",
    "from qiskit import Aer, QuantumCircuit, execute\n",
    "from qiskit.visualization import plot_histogram\n",
    "from IPython.display import display, Math, Latex\n",
    "\n",
    "from may4_challenge import plot_state_qsphere\n",
    "from may4_challenge.ex1 import minicomposer\n",
    "from may4_challenge.ex1 import check1, check2, check3, check4, check5, check6, check7, check8\n",
    "from may4_challenge.ex1 import return_state, vec_in_braket, statevec"
   ]
  },
  {
   "cell_type": "code",
   "execution_count": null,
   "metadata": {},
   "outputs": [],
   "source": []
  },
  {
   "cell_type": "markdown",
   "metadata": {},
   "source": [
    "## Exercise I:  Basic Operations on Qubits and Measurements\n",
    "\n",
    "### Writing down single-qubit states\n",
    "Let us start by looking at a single qubit. The main difference between a classical bit, which can take the values 0 and 1 only, is that a quantum bit, or **qubit**, can be in the states $\\vert0\\rangle$, $\\vert1\\rangle$, as well as a linear combination of these two states. This feature is known as superposition, and allows us to write the most general state of a qubit as: \n",
    "\n",
    "$$\\vert\\psi\\rangle = \\sqrt{1-p}\\vert0\\rangle + e^{i \\phi} \\sqrt{p}  \\vert1\\rangle$$\n",
    "\n",
    "If we were to measure the state of this qubit, we would find the result $1$ with probability $p$, and the result $0$ with probability $1-p$. As you can see, the total probability is $1$, meaning that we will indeed measure either $0$ or $1$, and no other outcomes exists.\n",
    "\n",
    "In addition to $p$, you might have noticed another parameter above. The variable $\\phi$ indicates the relative quantum phase between the two states $\\vert0\\rangle$ and $\\vert1\\rangle$. As we will discover later, this relative phase is quite important. For now, it suffices to note that the quantum phase is what enables interference between quantum states, resulting in our ability to write quantum algorithms for solving specific tasks.\n",
    "\n",
    "If you are interested in learning more, we refer you to [the section in the Qiskit textbook on representations of single-qubit states](https://qiskit.org/textbook/ch-states/representing-qubit-states.html).\n",
    "\n",
    "### Visualizing quantum states\n",
    "We visualize quantum states throughout this exercise using what is known as a `qsphere`. Here is how the `qsphere` looks for the states $\\vert0\\rangle$ and $\\vert1\\rangle$, respectively. Note that the top-most part of the sphere represents the state $\\vert0\\rangle$, while the bottom represents $\\vert1\\rangle$.\n",
    "\n",
    "<img src=\"qsphere01.png\" alt=\"qsphere with states 0 and 1\" style=\"width: 400px;\"/>\n",
    "\n",
    "It should be no surprise that the superposition state with quantum phase $\\phi = 0$ and probability $p = 1/2$ (meaning an equal likelihood of measuring both 0 and 1) is shown on the `qsphere` with two points. However, note also that the size of the circles at the two points is smaller than when we had simply $\\vert0\\rangle$ and $\\vert1\\rangle$ above. This is because the size of the circles is proportional to the probability of measuring each one, which is now reduced by half.\n",
    "\n",
    "<img src=\"qsphereplus.png\" alt=\"qsphere with superposition 1\" style=\"width: 200px;\"/>\n",
    "\n",
    "In the case of superposition states, where the quantum phase is non-zero, the qsphere allows us to visualize that phase by changing the color of the respective blob. For example, the state with $\\phi = 90^\\circ$ (degrees) and probability $p = 1/2$ is shown in the `qsphere` below. \n",
    "\n",
    "<img src=\"qspherey.png\" alt=\"qsphere with superposition 2\" style=\"width: 200px;\"/>\n",
    "\n",
    "### Manipulating qubits\n",
    "Qubits are manipulated by applying quantum gates. Let's go through an overview of the different gates that we will consider in the following exercises.\n",
    "\n",
    "First, let's describe how we can change the value of $p$ for our general quantum state. To do this, we will use two gates:\n",
    "\n",
    "1. **$X$-gate**: This gate flips between the two states $\\vert0\\rangle$ and $\\vert1\\rangle$. This operation is the same as the classical NOT gate. As a result, the $X$-gate is sometimes referred to as a bit flip or NOT gate. Mathematically, the $X$ gate changes $p$ to $1-p$, so in particular from 0 to 1, and vice versa.\n",
    "\n",
    "2. **$H$-gate**: This gate allows us to go from the state $\\vert0\\rangle$  to the state $\\frac{1}{\\sqrt{2}}\\left(\\vert0\\rangle + \\vert1\\rangle\\right)$. This state is also known as the $\\vert+\\rangle$. Mathematically, this means going from $p=0, \\phi=0$ to  $p=1/2, \\phi=0$.  As the final state of the qubit is a superposition of $\\vert0\\rangle$ and $\\vert1\\rangle$, the Hadamard gate represents a true quantum operation.\n",
    "\n",
    "Notice that both gates changed the value of $p$, but not $\\phi$. Fortunately for us, it's quite easy to visualize the action of these gates by looking at the figure below.\n",
    "\n",
    "<img src=\"quantumgates.png\" alt=\"quantum gates\" style=\"width: 400px;\"/>\n",
    "\n",
    "Once we have the state $\\vert+\\rangle$, we can then change the quantum phase by applying several other gates. For example, an $S$ gate adds a phase of $90$ degrees to $\\phi$, while the $Z$ gate adds a phase of $180$ degrees to $\\phi$. To subtract a phase of $90$ degrees, we can apply the $S^\\dagger$ gate, which is read as S-dagger, and commonly written as `sdg`. Finally, there is a $Y$ gate which applies a sequence of $Z$ and $X$ gates.\n",
    "\n",
    "You can experiment with the gates $X$, $Y$, $Z$, $H$, $S$ and $S^\\dagger$ to become accustomed to the different operations and how they affect the state of a qubit. To do so, you can run *Cell 2* which starts our circuit widget. After running the cell, choose a gate to apply to a qubit, and then choose the qubit (in the first examples, the only qubit to choose is qubit 0).  Watch how the corresponding state changes with each gate, as well as the description of that state. It will also provide you with the code that creates the corresponding quantum circuit in Qiskit below the qsphere.\n",
    "\n",
    "If you want to learn more about describing quantum states, Pauli operators, and other single-qubit gates, see chapter 1 of our textbook: https://qiskit.org/textbook/ch-states/introduction.html."
   ]
  },
  {
   "cell_type": "code",
   "execution_count": null,
   "metadata": {},
   "outputs": [],
   "source": [
    "# Cell 2\n",
    "# press shift + return to run this code cell\n",
    "# then, click on the gate that you want to apply to your qubit\n",
    "# next, you have to choose the qubit that you want to apply it to (choose '0' here)\n",
    "# click on clear to restart\n",
    "minicomposer(1, dirac=True, qsphere=True)"
   ]
  },
  {
   "cell_type": "markdown",
   "metadata": {},
   "source": [
    "Here are four small exercises to attain different states on the qsphere. You can either solve them with the widget above and copy paste the code it provides into the respective cells to create the quantum circuits, or you can directly insert a combination of the following code lines into the program to apply the different gates: \n",
    "\n",
    "    qc.x(0)    # bit flip\n",
    "    qc.y(0)    # bit and phase flip\n",
    "    qc.z(0)    # phase flip\n",
    "    qc.h(0)    # superpostion\n",
    "    qc.s(0)    # quantum phase rotation by pi/2 (90 degrees)\n",
    "    qc.sdg(0)  # quantum phase rotation by -pi/2 (90 degrees)\n",
    "    \n",
    "The '(0)' indicates that we apply this gate to qubit 'q0', which is the first (and in this case only) qubit.\n",
    "\n",
    "Try to attain the given state on the qsphere in each of the following exercises.\n",
    "### I.i) Let us start  by performing a bit flip. The goal is to reach the state $\\vert1\\rangle$ starting from state $\\vert0\\rangle$. <img src=\"state1.png\" width=\"300\"> \n",
    "\n",
    "\n",
    "If you have reached the desired state with the widget, copy and paste the code from *Cell 2* into *Cell 3* (where it says \"FILL YOUR CODE IN HERE\") and run it to check your solution."
   ]
  },
  {
   "cell_type": "code",
   "execution_count": null,
   "metadata": {},
   "outputs": [],
   "source": [
    "# Cell 3\n",
    "def create_circuit():\n",
    "    qc = QuantumCircuit(1)\n",
    "    #\n",
    "    #\n",
    "    # FILL YOUR CODE IN HERE\n",
    "    #\n",
    "    #\n",
    "    return qc\n",
    "\n",
    "# check solution\n",
    "qc = create_circuit()\n",
    "state = statevec(qc)\n",
    "check1(state)\n",
    "plot_state_qsphere(state.data, show_state_labels=True, show_state_angles=True) "
   ]
  },
  {
   "cell_type": "markdown",
   "metadata": {},
   "source": [
    "### I.ii) Next, let's create a superposition. The goal is to reach the state $|+\\rangle = \\frac{1}{\\sqrt{2}}\\left(|0\\rangle + |1\\rangle\\right)$. <img src=\"stateplus.png\" width=\"300\"> \n",
    "Fill in the code in the lines indicated in *Cell 4*. If you prefer the widget, you can still copy the code that the widget gives in *Cell 2* and paste it into *Cell 4*."
   ]
  },
  {
   "cell_type": "code",
   "execution_count": null,
   "metadata": {},
   "outputs": [],
   "source": [
    "# Cell 4\n",
    "def create_circuit2():\n",
    "    qc = QuantumCircuit(1)\n",
    "    #\n",
    "    #\n",
    "    # FILL YOUR CODE IN HERE\n",
    "    #\n",
    "    #\n",
    "    return qc\n",
    "\n",
    "qc = create_circuit2()\n",
    "state = statevec(qc)\n",
    "check2(state)\n",
    "plot_state_qsphere(state.data, show_state_labels=True, show_state_angles=True) "
   ]
  },
  {
   "cell_type": "markdown",
   "metadata": {},
   "source": [
    "### I.iii) Let's combine those two. The goal is to reach the state $|-\\rangle = \\frac{1}{\\sqrt{2}}\\left(|0\\rangle - |1\\rangle\\right)$. <img src=\"stateminus.png\" width=\"300\"> \n",
    "Can you combine the above two tasks to come up with the solution?"
   ]
  },
  {
   "cell_type": "code",
   "execution_count": null,
   "metadata": {},
   "outputs": [],
   "source": [
    "# Cell 5\n",
    "def create_circuit3():\n",
    "    qc = QuantumCircuit(1)\n",
    "    #\n",
    "    #\n",
    "    # FILL YOUR CODE IN HERE\n",
    "    #\n",
    "    #\n",
    "    return qc\n",
    "\n",
    "qc = create_circuit3()\n",
    "state = statevec(qc)\n",
    "check3(state)\n",
    "plot_state_qsphere(state.data, show_state_labels=True, show_state_angles=True) "
   ]
  },
  {
   "cell_type": "markdown",
   "metadata": {},
   "source": [
    "### I.iv) Finally, we move on to the complex numbers. The goal is to reach the state $|\\circlearrowleft\\rangle = \\frac{1}{\\sqrt{2}}\\left(|0\\rangle - i|1\\rangle\\right)$. <img src=\"stateleft.png\" width=\"300\"> "
   ]
  },
  {
   "cell_type": "code",
   "execution_count": null,
   "metadata": {},
   "outputs": [],
   "source": [
    "# Cell 6\n",
    "def create_circuit4():\n",
    "    qc = QuantumCircuit(1)\n",
    "    #\n",
    "    #\n",
    "    # FILL YOUR CODE IN HERE\n",
    "    #\n",
    "    #\n",
    "    return qc\n",
    "\n",
    "qc = create_circuit4()\n",
    "state = statevec(qc)\n",
    "check4(state)\n",
    "plot_state_qsphere(state.data, show_state_labels=True, show_state_angles=True) "
   ]
  },
  {
   "cell_type": "markdown",
   "metadata": {},
   "source": [
    "\n",
    "## Exercise II: Quantum Circuits Using Multi-Qubit Gates\n",
    "\n",
    "Great job! Now that you've understood the single-qubit gates, let us look at gates operating on multiple qubits. The basic gates on two qubits are given by\n",
    "\n",
    "    qc.cx(c,t)       # controlled-X (= CNOT) gate with control qubit c and target qubit t\n",
    "    qc.cz(c,t)       # controlled-Z gate with control qubit c and target qubit t\n",
    "    qc.swap(a,b)     # SWAP gate that swaps the states of qubit a and qubit b\n",
    "\n",
    "If you'd like to read more about the different multi-qubit gates and their relations, visit chapter 2 of our textbook: https://qiskit.org/textbook/ch-gates/introduction.html.\n",
    "\n",
    "As before, you can use the two-qubit circuit widget below to see how the combined two qubit state evolves when applying different gates (run *Cell 7*) and get the corresponding code that you can copy and paste into the program. Note that for two qubits a general state is of the form $a|00\\rangle + b |01\\rangle + c |10\\rangle + d|11\\rangle$, where $a$, $b$, $c$, and $d$ are complex numbers whose absolute values squared give the probability to measure the respective state; e.g., $|a|^2$ would be the probability to end in state '0' on both qubits. This means we can now have up to four points on the qsphere."
   ]
  },
  {
   "cell_type": "code",
   "execution_count": null,
   "metadata": {},
   "outputs": [],
   "source": [
    "# Cell 7\n",
    "# press shift + return to run this code cell\n",
    "# then, click on the gate that you want to apply followed by the qubit(s) that you want it to apply to\n",
    "# for controlled gates, the first qubit you choose is the control qubit and the second one the target qubit\n",
    "# click on clear to restart\n",
    "\n",
    "minicomposer(2, dirac = True, qsphere = True)"
   ]
  },
  {
   "cell_type": "markdown",
   "metadata": {},
   "source": [
    "We start with the canonical two qubit gate, the controlled-NOT (also CNOT or CX) gate.  Here, as with all controlled two qubit gates, one qubit is labelled as the \"control\", while the other is called the \"target\". If the control qubit is in state $|0\\rangle$, it applies the identity $I$ gate to the target, i.e., no operation is performed. Instead, if the control qubit is in state $|1\\rangle$, an X-gate is performed on the target qubit. Therefore, with both qubits in one of the two classical states, $|0\\rangle$ or $|1\\rangle$, the CNOT gate is limited to classical operations.\n",
    "\n",
    "This situation changes dramatically when we first apply a Hadamard gate to the control qubit, bringing it into the superposition state $|+\\rangle$.  The action of a CNOT gate on this non-classical input can produce highly entangled states between control and target qubits. If the target qubit is initially in the $|0\\rangle$ state, the resulting state is denoted by $|\\Phi^+\\rangle$, and is one of the so-called Bell states. \n",
    "\n",
    "### II.i) Construct the Bell state $|\\Phi^+\\rangle = \\frac{1}{\\sqrt{2}}\\left(|00\\rangle + |11\\rangle\\right)$.  <img src=\"phi+.png\" width=\"300\"> \n",
    "For this state we would have probability $\\frac{1}{2}$ to measure \"00\" and probability $\\frac{1}{2}$ to measure \"11\". Thus, the outcomes of both qubits are perfectly correlated."
   ]
  },
  {
   "cell_type": "code",
   "execution_count": null,
   "metadata": {},
   "outputs": [],
   "source": [
    "# Cell 8\n",
    "def create_circuit():\n",
    "    qc = QuantumCircuit(2)\n",
    "    #\n",
    "    #\n",
    "    # FILL YOUR CODE IN HERE\n",
    "    #\n",
    "    #\n",
    "    return qc\n",
    "\n",
    "qc = create_circuit()\n",
    "state = statevec(qc) # determine final state after running the circuit\n",
    "display(Math(vec_in_braket(state.data)))\n",
    "check5(state)\n",
    "qc.draw(output='mpl') # we draw the circuit"
   ]
  },
  {
   "cell_type": "markdown",
   "metadata": {},
   "source": [
    "Next, try to create the state of perfectly anti-correlated qubits. Note the minus sign here, which indicates the relative phase between the two states. \n",
    "### II.ii) Construct the Bell state $\\vert\\Psi^-\\rangle = \\frac{1}{\\sqrt{2}}\\left(\\vert01\\rangle - \\vert10\\rangle\\right)$. <img src=\"psi-.png\" width=\"300\"> "
   ]
  },
  {
   "cell_type": "code",
   "execution_count": null,
   "metadata": {},
   "outputs": [],
   "source": [
    "# Cell 9\n",
    "def create_circuit6():\n",
    "    qc = QuantumCircuit(2,2) # this time, we not only want two qubits, but also \n",
    "                             # two classical bits for the measurement later\n",
    "    #\n",
    "    #\n",
    "    # FILL YOUR CODE IN HERE\n",
    "    #\n",
    "    #\n",
    "    return qc\n",
    "\n",
    "qc = create_circuit6()\n",
    "state = statevec(qc) # determine final state after running the circuit\n",
    "display(Math(vec_in_braket(state.data)))\n",
    "check6(state)\n",
    "qc.measure(0, 0) # we perform a measurement on qubit q_0 and store the information on the classical bit c_0\n",
    "qc.measure(1, 1) # we perform a measurement on qubit q_1 and store the information on the classical bit c_1\n",
    "qc.draw(output='mpl') # we draw the circuit"
   ]
  },
  {
   "cell_type": "markdown",
   "metadata": {},
   "source": [
    "As you can tell from the circuit (and the code) we have added measurement operators to the circuit. Note that in order to store the measurement results, we also need two classical bits, which we have added when creating the quantum circuit: `qc = QuantumCircuit(num_qubits, num_classicalbits)`.\n",
    "\n",
    "In *Cell 10* we have defined a function `run_circuit()` that will run a circuit on the simulator. If the right state is prepared, we have probability $\\frac{1}{2}$ to measure each of the two outcomes, \"01\" and \"10\". However, performing the measurement with 1000 shots does not imply that we will measure exactly 500 times \"01\" and 500 times \"10\".  Just like flipping a coin multiple times, it is unlikely that one will get exactly a 50/50 split between the two possible output values.  Instead, there are fluctuations about this ideal distribution. You can call `run_circuit` multiple times to see the variance in the ouput.\n"
   ]
  },
  {
   "cell_type": "code",
   "execution_count": null,
   "metadata": {},
   "outputs": [],
   "source": [
    "# Cell 10\n",
    "def run_circuit(qc):\n",
    "    backend = Aer.get_backend('qasm_simulator') # we choose the simulator as our backend\n",
    "    result = execute(qc, backend, shots = 1000).result() # we run the simulation\n",
    "    counts = result.get_counts() # we get the counts\n",
    "    return counts\n",
    "\n",
    "counts = run_circuit(qc)\n",
    "print(counts)\n",
    "plot_histogram(counts) # let us plot a histogram to see the possible outcomes and corresponding probabilities"
   ]
  },
  {
   "cell_type": "markdown",
   "metadata": {},
   "source": [
    "### II.iii) You are given the quantum circuit described in the function below. Swap the states of the first and the second qubit.  \n",
    "This should be your final state: <img src=\"stateIIiii.png\" width=\"300\"> "
   ]
  },
  {
   "cell_type": "code",
   "execution_count": null,
   "metadata": {},
   "outputs": [],
   "source": [
    "# Cell 11\n",
    "def create_circuit7():\n",
    "    qc = QuantumCircuit(2)\n",
    "    qc.rx(np.pi/3,0)\n",
    "    qc.x(1)\n",
    "    return qc\n",
    "\n",
    "qc = create_circuit7()\n",
    "#\n",
    "#\n",
    "# FILL YOUR CODE IN HERE\n",
    "#\n",
    "#\n",
    "state = statevec(qc) # determine final state after running the circuit\n",
    "display(Math(vec_in_braket(state.data)))\n",
    "check7(state)\n",
    "plot_state_qsphere(state.data, show_state_labels=True, show_state_angles=True) "
   ]
  },
  {
   "cell_type": "markdown",
   "metadata": {},
   "source": [
    "### II.iv) Write a program from scratch that creates the GHZ state (on three qubits), $\\vert \\text{GHZ}\\rangle = \\frac{1}{\\sqrt{2}} \\left(|000\\rangle + |111 \\rangle \\right)$, performs a measurement with 2000 shots, and returns the counts.  <img src=\"ghz.png\" width=\"300\"> \n",
    "If you want to track the state as it is evolving, you could use the circuit widget from above for three qubits, i.e., `minicomposer(3, dirac=True, qsphere=True)`. For how to get the counts of a measurement, look at the code in *Cell 9* and *Cell 10*."
   ]
  },
  {
   "cell_type": "code",
   "execution_count": null,
   "metadata": {},
   "outputs": [],
   "source": [
    "# Cell 12\n",
    "#\n",
    "#\n",
    "# FILL YOUR CODE IN HERE\n",
    "#\n",
    "#\n",
    "print(counts)\n",
    "check8(counts)\n",
    "plot_histogram(counts)"
   ]
  },
  {
   "cell_type": "markdown",
   "metadata": {},
   "source": [
    "Congratulations for finishing this introduction to Qiskit! Once you've reached all 8 points, the solution string will be displayed. You need to copy and paste that string on the IBM Quantum Challenge page to complete the exercise and track your progress.\n",
    "\n",
    "Now that you have created and run your first quantum circuits, you are ready for the next exercise, where we will make use of the actual hardware and learn how to reduce the noise in the outputs."
   ]
  }
 ],
 "metadata": {
  "kernelspec": {
   "display_name": "Python 3",
   "language": "python",
   "name": "python3"
  },
  "language_info": {
   "codemirror_mode": {
    "name": "ipython",
    "version": 3
   },
   "file_extension": ".py",
   "mimetype": "text/x-python",
   "name": "python",
   "nbconvert_exporter": "python",
   "pygments_lexer": "ipython3",
   "version": "3.7.4"
  }
 },
 "nbformat": 4,
 "nbformat_minor": 2
}
